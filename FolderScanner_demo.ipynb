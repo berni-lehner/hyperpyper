{
 "cells": [
  {
   "cell_type": "code",
   "execution_count": 1,
   "metadata": {},
   "outputs": [],
   "source": [
    "import numpy as np\n",
    "from PIL import Image\n",
    "from typing import Union, List\n",
    "from pathlib import Path\n",
    "\n",
    "from transights.utils import FolderScanner as fs\n",
    "\n",
    "\n",
    "random_state = 23"
   ]
  },
  {
   "cell_type": "code",
   "execution_count": 2,
   "metadata": {},
   "outputs": [
    {
     "name": "stdout",
     "output_type": "stream",
     "text": [
      "[WindowsPath('transights/__init__.py')]\n"
     ]
    }
   ],
   "source": [
    "# Example 1: Get files from a single folder (Path object)\n",
    "folder_path = Path(r\".\\transights\")\n",
    "files = fs.get_files(folder_path)\n",
    "print(files)"
   ]
  },
  {
   "cell_type": "code",
   "execution_count": 3,
   "metadata": {},
   "outputs": [
    {
     "name": "stdout",
     "output_type": "stream",
     "text": [
      "[WindowsPath('transights/aggregator/Aggregator.py'), WindowsPath('transights/aggregator/__init__.py'), WindowsPath('transights/transforms/transforms.py'), WindowsPath('transights/transforms/__init__.py')]\n"
     ]
    }
   ],
   "source": [
    "# Example 2: Get files from multiple folders (Path objects)\n",
    "folder_paths = [Path(r\".\\transights\\aggregator\"), Path(r\".\\transights\\transforms\")]\n",
    "files = fs.get_files(folder_paths)\n",
    "print(files)"
   ]
  },
  {
   "cell_type": "code",
   "execution_count": 4,
   "metadata": {},
   "outputs": [
    {
     "name": "stdout",
     "output_type": "stream",
     "text": [
      "[WindowsPath('transights/__init__.py')]\n"
     ]
    }
   ],
   "source": [
    "# Example 3: Get files from a single folder (string)\n",
    "folder_path = r\".\\transights\"\n",
    "files = fs.get_files(folder_path)\n",
    "print(files)"
   ]
  },
  {
   "cell_type": "code",
   "execution_count": 5,
   "metadata": {},
   "outputs": [
    {
     "name": "stdout",
     "output_type": "stream",
     "text": [
      "[WindowsPath('transights/aggregator/Aggregator.py'), WindowsPath('transights/aggregator/__init__.py'), WindowsPath('transights/transforms/transforms.py'), WindowsPath('transights/transforms/__init__.py')]\n"
     ]
    }
   ],
   "source": [
    "# Example 4: Get files from multiple folders (strings)\n",
    "folder_paths = [r\".\\transights\\aggregator\", r\".\\transights\\transforms\"]\n",
    "files = fs.get_files(folder_paths)\n",
    "print(files)"
   ]
  },
  {
   "cell_type": "code",
   "execution_count": 7,
   "metadata": {},
   "outputs": [
    {
     "name": "stdout",
     "output_type": "stream",
     "text": [
      "[WindowsPath('transights/aggregator/Aggregator.py'), WindowsPath('transights/aggregator/__init__.py')]\n"
     ]
    }
   ],
   "source": [
    "# Example 5: Get files with a specific extension\n",
    "folder_path = Path(r\".\\transights\\aggregator\")\n",
    "extension = \".py\"\n",
    "files = fs.get_files(folder_path, extension)\n",
    "print(files)"
   ]
  },
  {
   "cell_type": "code",
   "execution_count": 11,
   "metadata": {},
   "outputs": [
    {
     "name": "stdout",
     "output_type": "stream",
     "text": [
      "[WindowsPath('../transights/requirements.txt'), WindowsPath('../transights/setup.py')]\n"
     ]
    }
   ],
   "source": [
    "# Example 6: Get files with multiple specific extensions\n",
    "folder_path = Path(r\"..\\transights\")\n",
    "extensions = [\".py\", \".txt\"]\n",
    "files = fs.get_files(folder_path, extensions)\n",
    "print(files)"
   ]
  },
  {
   "cell_type": "code",
   "execution_count": 8,
   "metadata": {},
   "outputs": [
    {
     "name": "stdout",
     "output_type": "stream",
     "text": [
      "[WindowsPath('E:/Dropbox/git/tutorials/data/indigits/train/907363-_AL_23-51-09.jpg'), WindowsPath('E:/Dropbox/git/tutorials/data/indigits/train/911838-_AL_22-47-38.jpg'), WindowsPath('E:/Dropbox/git/tutorials/data/indigits/train/916564-_AL_21-33-12.jpg'), WindowsPath('E:/Dropbox/git/tutorials/data/indigits/train/917955-_AL_22-56-58.jpg'), WindowsPath('E:/Dropbox/git/tutorials/data/indigits/train/921001-_AL_18-19-32.jpg'), WindowsPath('E:/Dropbox/git/tutorials/data/indigits/train/930299-1_AL_23-23-15.jpg'), WindowsPath('E:/Dropbox/git/tutorials/data/indigits/train/930299-2_AL_23-36-25.jpg'), WindowsPath('E:/Dropbox/git/tutorials/data/indigits/train/931807-1_AL_16-32-59.jpg'), WindowsPath('E:/Dropbox/git/tutorials/data/indigits/train/931807-2_AL_16-35-29.jpg'), WindowsPath('E:/Dropbox/git/tutorials/data/indigits/train/931932-_AL_21-22-57.jpg')]\n"
     ]
    }
   ],
   "source": [
    "# Example 7: Get image files from a single folder (Path object)\n",
    "folder_path = Path(r\".\\data\\train\")\n",
    "image_files = fs.get_image_files(folder_path)\n",
    "print(image_files)"
   ]
  },
  {
   "cell_type": "code",
   "execution_count": 9,
   "metadata": {},
   "outputs": [
    {
     "name": "stdout",
     "output_type": "stream",
     "text": [
      "[WindowsPath('E:/Dropbox/git/tutorials/data/indigits/train/907363-_AL_23-51-09.jpg'), WindowsPath('E:/Dropbox/git/tutorials/data/indigits/train/911838-_AL_22-47-38.jpg'), WindowsPath('E:/Dropbox/git/tutorials/data/indigits/train/916564-_AL_21-33-12.jpg'), WindowsPath('E:/Dropbox/git/tutorials/data/indigits/train/917955-_AL_22-56-58.jpg'), WindowsPath('E:/Dropbox/git/tutorials/data/indigits/train/921001-_AL_18-19-32.jpg'), WindowsPath('E:/Dropbox/git/tutorials/data/indigits/train/930299-1_AL_23-23-15.jpg'), WindowsPath('E:/Dropbox/git/tutorials/data/indigits/train/930299-2_AL_23-36-25.jpg'), WindowsPath('E:/Dropbox/git/tutorials/data/indigits/train/931807-1_AL_16-32-59.jpg'), WindowsPath('E:/Dropbox/git/tutorials/data/indigits/train/931807-2_AL_16-35-29.jpg'), WindowsPath('E:/Dropbox/git/tutorials/data/indigits/train/931932-_AL_21-22-57.jpg'), WindowsPath('E:/Dropbox/git/tutorials/data/indigits/test/894422-_AL_01-16-47.jpg'), WindowsPath('E:/Dropbox/git/tutorials/data/indigits/test/894426-_AL_01-37-45.jpg'), WindowsPath('E:/Dropbox/git/tutorials/data/indigits/test/894431-_AL_00-38-27.jpg'), WindowsPath('E:/Dropbox/git/tutorials/data/indigits/test/896394-_AL_00-49-13.jpg'), WindowsPath('E:/Dropbox/git/tutorials/data/indigits/test/896401-_AL_03-58-08.jpg'), WindowsPath('E:/Dropbox/git/tutorials/data/indigits/test/896405-_AL_00-17-31.jpg'), WindowsPath('E:/Dropbox/git/tutorials/data/indigits/test/896417-_AL_00-03-48.jpg'), WindowsPath('E:/Dropbox/git/tutorials/data/indigits/test/903561-_AL_04-35-39.jpg'), WindowsPath('E:/Dropbox/git/tutorials/data/indigits/test/903569-_AL_21-14-49.jpg'), WindowsPath('E:/Dropbox/git/tutorials/data/indigits/test/903576-_AL_04-38-20.jpg'), WindowsPath('E:/Dropbox/git/tutorials/data/indigits/test/903577-_AL_04-48-02.jpg'), WindowsPath('E:/Dropbox/git/tutorials/data/indigits/test/903581-_AL_15-43-59.jpg'), WindowsPath('E:/Dropbox/git/tutorials/data/indigits/test/903589-_AL_15-58-21.jpg'), WindowsPath('E:/Dropbox/git/tutorials/data/indigits/test/903596-_AL_14-30-24.jpg'), WindowsPath('E:/Dropbox/git/tutorials/data/indigits/test/903601-_AL_14-43-06.jpg'), WindowsPath('E:/Dropbox/git/tutorials/data/indigits/test/903604-_AL_14-55-12.jpg'), WindowsPath('E:/Dropbox/git/tutorials/data/indigits/test/903608-_AL_15-07-01.jpg'), WindowsPath('E:/Dropbox/git/tutorials/data/indigits/test/903613-_AL_15-21-17.jpg'), WindowsPath('E:/Dropbox/git/tutorials/data/indigits/test/903628-_AL_17-52-11.jpg'), WindowsPath('E:/Dropbox/git/tutorials/data/indigits/test/906587-_AL_04-13-33.jpg'), WindowsPath('E:/Dropbox/git/tutorials/data/indigits/test/906595-_AL_18-08-24.jpg'), WindowsPath('E:/Dropbox/git/tutorials/data/indigits/test/906603-_AL_16-38-18.jpg'), WindowsPath('E:/Dropbox/git/tutorials/data/indigits/test/911651-1_AL_02-12-06.jpg'), WindowsPath('E:/Dropbox/git/tutorials/data/indigits/test/911651-2_AL_02-26-07.jpg'), WindowsPath('E:/Dropbox/git/tutorials/data/indigits/test/911651-3_AL_02-33-31.jpg'), WindowsPath('E:/Dropbox/git/tutorials/data/indigits/test/921363-1_AL_13-41-14.jpg')]\n"
     ]
    }
   ],
   "source": [
    "# Example 8: Get image files from multiple folders (Path objects)\n",
    "folder_paths = [Path(r\".\\data\\train\"), Path(r\".\\data\\test\")]\n",
    "image_files = fs.get_image_files(folder_paths)\n",
    "print(image_files)"
   ]
  },
  {
   "cell_type": "code",
   "execution_count": 10,
   "metadata": {},
   "outputs": [
    {
     "name": "stdout",
     "output_type": "stream",
     "text": [
      "[WindowsPath('E:/Dropbox/git/tutorials/data/3class_anomalies.csv'), WindowsPath('E:/Dropbox/git/tutorials/data/anagrams.csv'), WindowsPath('E:/Dropbox/git/tutorials/data/anscombe.csv'), WindowsPath('E:/Dropbox/git/tutorials/data/assignment1.csv'), WindowsPath('E:/Dropbox/git/tutorials/data/assignment_2.csv'), WindowsPath('E:/Dropbox/git/tutorials/data/assignment_3.csv'), WindowsPath('E:/Dropbox/git/tutorials/data/assignment_3_categoricals.csv'), WindowsPath('E:/Dropbox/git/tutorials/data/assignment_4.csv'), WindowsPath('E:/Dropbox/git/tutorials/data/attention.csv'), WindowsPath('E:/Dropbox/git/tutorials/data/brain_networks.csv'), WindowsPath('E:/Dropbox/git/tutorials/data/car_crashes.csv'), WindowsPath('E:/Dropbox/git/tutorials/data/DATA_dp_wc_bc.csv'), WindowsPath('E:/Dropbox/git/tutorials/data/diamonds.csv'), WindowsPath('E:/Dropbox/git/tutorials/data/dots.csv'), WindowsPath('E:/Dropbox/git/tutorials/data/exercise.csv'), WindowsPath('E:/Dropbox/git/tutorials/data/flights.csv'), WindowsPath('E:/Dropbox/git/tutorials/data/fmri.csv'), WindowsPath('E:/Dropbox/git/tutorials/data/gammas.csv'), WindowsPath('E:/Dropbox/git/tutorials/data/geyser.csv'), WindowsPath('E:/Dropbox/git/tutorials/data/iris.csv'), WindowsPath('E:/Dropbox/git/tutorials/data/mpg.csv'), WindowsPath('E:/Dropbox/git/tutorials/data/penguins.csv'), WindowsPath('E:/Dropbox/git/tutorials/data/planets.csv'), WindowsPath('E:/Dropbox/git/tutorials/data/processminer-rare-event-mts - data.csv'), WindowsPath('E:/Dropbox/git/tutorials/data/some_data.csv'), WindowsPath('E:/Dropbox/git/tutorials/data/taxis.csv'), WindowsPath('E:/Dropbox/git/tutorials/data/tips.csv'), WindowsPath('E:/Dropbox/git/tutorials/data/titanic.csv'), WindowsPath('E:/Dropbox/git/tutorials/data/xor.csv'), WindowsPath('E:/Dropbox/git/tutorials/data/xor_numerical.csv'), WindowsPath('E:/Dropbox/git/tutorials/data/xor_overlap.csv'), WindowsPath('E:/Dropbox/git/tutorials/data/xor_overlap_anomalies.csv')]\n"
     ]
    }
   ],
   "source": [
    "# Example 9: Get CSV files from a single folder (string)\n",
    "folder_path = Path(r\".\\data\\train\")\n",
    "csv_files = fs.get_csv_files(folder_path)\n",
    "print(csv_files)"
   ]
  },
  {
   "cell_type": "code",
   "execution_count": 11,
   "metadata": {},
   "outputs": [
    {
     "name": "stdout",
     "output_type": "stream",
     "text": [
      "[WindowsPath('E:/Dropbox/git/tutorials/data/3class_anomalies.csv'), WindowsPath('E:/Dropbox/git/tutorials/data/anagrams.csv'), WindowsPath('E:/Dropbox/git/tutorials/data/anscombe.csv'), WindowsPath('E:/Dropbox/git/tutorials/data/assignment1.csv'), WindowsPath('E:/Dropbox/git/tutorials/data/assignment_2.csv'), WindowsPath('E:/Dropbox/git/tutorials/data/assignment_3.csv'), WindowsPath('E:/Dropbox/git/tutorials/data/assignment_3_categoricals.csv'), WindowsPath('E:/Dropbox/git/tutorials/data/assignment_4.csv'), WindowsPath('E:/Dropbox/git/tutorials/data/attention.csv'), WindowsPath('E:/Dropbox/git/tutorials/data/brain_networks.csv'), WindowsPath('E:/Dropbox/git/tutorials/data/car_crashes.csv'), WindowsPath('E:/Dropbox/git/tutorials/data/DATA_dp_wc_bc.csv'), WindowsPath('E:/Dropbox/git/tutorials/data/diamonds.csv'), WindowsPath('E:/Dropbox/git/tutorials/data/dots.csv'), WindowsPath('E:/Dropbox/git/tutorials/data/exercise.csv'), WindowsPath('E:/Dropbox/git/tutorials/data/flights.csv'), WindowsPath('E:/Dropbox/git/tutorials/data/fmri.csv'), WindowsPath('E:/Dropbox/git/tutorials/data/gammas.csv'), WindowsPath('E:/Dropbox/git/tutorials/data/geyser.csv'), WindowsPath('E:/Dropbox/git/tutorials/data/iris.csv'), WindowsPath('E:/Dropbox/git/tutorials/data/mpg.csv'), WindowsPath('E:/Dropbox/git/tutorials/data/penguins.csv'), WindowsPath('E:/Dropbox/git/tutorials/data/planets.csv'), WindowsPath('E:/Dropbox/git/tutorials/data/processminer-rare-event-mts - data.csv'), WindowsPath('E:/Dropbox/git/tutorials/data/some_data.csv'), WindowsPath('E:/Dropbox/git/tutorials/data/taxis.csv'), WindowsPath('E:/Dropbox/git/tutorials/data/tips.csv'), WindowsPath('E:/Dropbox/git/tutorials/data/titanic.csv'), WindowsPath('E:/Dropbox/git/tutorials/data/xor.csv'), WindowsPath('E:/Dropbox/git/tutorials/data/xor_numerical.csv'), WindowsPath('E:/Dropbox/git/tutorials/data/xor_overlap.csv'), WindowsPath('E:/Dropbox/git/tutorials/data/xor_overlap_anomalies.csv'), WindowsPath('E:/Dropbox/git/tutorials/data/cars/cars.csv')]\n"
     ]
    }
   ],
   "source": [
    "# Example 10: Get CSV files from multiple folders (strings)\n",
    "folder_paths = [Path(r\".\\data\\train\"), Path(r\".\\data\\test\")]\n",
    "csv_files = fs.get_csv_files(folder_paths)\n",
    "print(csv_files)"
   ]
  },
  {
   "cell_type": "code",
   "execution_count": 12,
   "metadata": {},
   "outputs": [
    {
     "name": "stdout",
     "output_type": "stream",
     "text": [
      "[WindowsPath('../transights/.gitattributes'), WindowsPath('../transights/.gitignore'), WindowsPath('../transights/FolderScanner_demo.ipynb'), WindowsPath('../transights/LICENSE'), WindowsPath('../transights/package_testing.ipynb'), WindowsPath('../transights/README.md'), WindowsPath('../transights/requirements.txt'), WindowsPath('../transights/setup.py'), WindowsPath('../transights/.git/COMMIT_EDITMSG'), WindowsPath('../transights/.git/config'), WindowsPath('../transights/.git/description'), WindowsPath('../transights/.git/FETCH_HEAD'), WindowsPath('../transights/.git/HEAD'), WindowsPath('../transights/.git/index'), WindowsPath('../transights/.git/ORIG_HEAD'), WindowsPath('../transights/.git/packed-refs'), WindowsPath('../transights/.git/hooks/applypatch-msg.sample'), WindowsPath('../transights/.git/hooks/commit-msg.sample'), WindowsPath('../transights/.git/hooks/fsmonitor-watchman.sample'), WindowsPath('../transights/.git/hooks/post-update.sample'), WindowsPath('../transights/.git/hooks/pre-applypatch.sample'), WindowsPath('../transights/.git/hooks/pre-commit.sample'), WindowsPath('../transights/.git/hooks/pre-merge-commit.sample'), WindowsPath('../transights/.git/hooks/pre-push.sample'), WindowsPath('../transights/.git/hooks/pre-rebase.sample'), WindowsPath('../transights/.git/hooks/pre-receive.sample'), WindowsPath('../transights/.git/hooks/prepare-commit-msg.sample'), WindowsPath('../transights/.git/hooks/push-to-checkout.sample'), WindowsPath('../transights/.git/hooks/update.sample'), WindowsPath('../transights/.git/info/exclude'), WindowsPath('../transights/.git/logs/HEAD'), WindowsPath('../transights/.git/logs/refs/heads/main'), WindowsPath('../transights/.git/logs/refs/remotes/origin/HEAD'), WindowsPath('../transights/.git/logs/refs/remotes/origin/main'), WindowsPath('../transights/.git/objects/00/eac896d37950fc46a6ddca204781c199a24a4e'), WindowsPath('../transights/.git/objects/05/43b4756e810ede168895bcd5bde1e6a66e246e'), WindowsPath('../transights/.git/objects/05/75870bc93a4a4c016abd982d4eae1d05c7738b'), WindowsPath('../transights/.git/objects/05/9e8c77fc6f02a87e84ca0c6c879f49f5eb79b7'), WindowsPath('../transights/.git/objects/0c/d5cb51daa04afdd5ac9b6668f460ad6d3d6aed'), WindowsPath('../transights/.git/objects/0e/ff6fe70a2862c17293e589f80505e1dd5788d8'), WindowsPath('../transights/.git/objects/10/b34d03d0891a78db53253b4d81450b3aa33539'), WindowsPath('../transights/.git/objects/13/4e0ed305a6c4895459a442a98a2ed2fe4cba25'), WindowsPath('../transights/.git/objects/1b/0c3b55f715e67b364ff15c4da6292cb05e230f'), WindowsPath('../transights/.git/objects/1d/bb6c2de92fa4bada1b86002fd535c69d62a38d'), WindowsPath('../transights/.git/objects/21/9974419cd83eea0c6f1637a6622279fca737ef'), WindowsPath('../transights/.git/objects/22/119d2371cb0a464f6b48bbb76225a158d71375'), WindowsPath('../transights/.git/objects/23/81b61d5c2604d5ad64e5e958762c7007233888'), WindowsPath('../transights/.git/objects/24/96de09ee159a9b58415983766662f745e17840'), WindowsPath('../transights/.git/objects/2a/cd90f0d7e9da817bd549175ac4de3d8e2aaa72'), WindowsPath('../transights/.git/objects/2b/6185968602173c871df7f38e43cdcc41f969d0'), WindowsPath('../transights/.git/objects/2c/af5ad5d62d45934a6dfd2432c78cb8598317b1'), WindowsPath('../transights/.git/objects/30/11f4f8c16c12273c845be549264f003b3deb10'), WindowsPath('../transights/.git/objects/34/fc53d66a72bad53c33cd8fa8906bb15142b223'), WindowsPath('../transights/.git/objects/39/c5d29c27396f1ea0d277c1242b66dfe0ca1256'), WindowsPath('../transights/.git/objects/3d/719d0c179a87fbfca00481543d0bb4f800e0c6'), WindowsPath('../transights/.git/objects/40/49cb80037d7256cc261d6c3e0db5620b80f0ae'), WindowsPath('../transights/.git/objects/41/558f907262d49d5151b82737ad86c672cee9b4'), WindowsPath('../transights/.git/objects/46/92f604fefb318054b2cb188e25a4d068a852b9'), WindowsPath('../transights/.git/objects/47/8c630847b610eef9747390ff0b90fb263e5c42'), WindowsPath('../transights/.git/objects/49/6439d415a46457638b257265a7bcc7d7be1c2e'), WindowsPath('../transights/.git/objects/4a/db557e28c4e68694cbf656b9ad9902109d457f'), WindowsPath('../transights/.git/objects/4b/7b6ac011e3bf5faed603b1fdc37eed90e4f14c'), WindowsPath('../transights/.git/objects/4c/192c304bcf60348f2f6d024c9dfc6bd532feaa'), WindowsPath('../transights/.git/objects/4e/85947adfd232cb27cb1015c2a8bde06d4329b1'), WindowsPath('../transights/.git/objects/4e/d99623aeb75c63db9aeb94740920b0e21d4e18'), WindowsPath('../transights/.git/objects/54/7d87b48ac74bfb8da48b7990aec1674bd4b902'), WindowsPath('../transights/.git/objects/56/ccb7c6834e50df24e9e56e84ef31cc338cd48e'), WindowsPath('../transights/.git/objects/56/d07f9a2895d01291483ff93bd1eeff01019711'), WindowsPath('../transights/.git/objects/59/d7fc997b25627eab62de0fe7fd13b7c2f2339f'), WindowsPath('../transights/.git/objects/5f/0f1fc5721f000b1c2e04a54c3f912dbdc6d39a'), WindowsPath('../transights/.git/objects/67/cb07365ee9492cbb0e4d6629c2a38f6c792c01'), WindowsPath('../transights/.git/objects/68/246a7068a997d36c5385cec3bf3ca59212120d'), WindowsPath('../transights/.git/objects/6d/83271d9f321c05d67804b5496b43a083a36122'), WindowsPath('../transights/.git/objects/70/baa5b57241d8f318a36ef98392fb7979036296'), WindowsPath('../transights/.git/objects/72/226e7049ed5fd1e294a46e74234af74eb7e054'), WindowsPath('../transights/.git/objects/73/fa1f0ee874fa62b0ae4abd66bae7c38729f9ea'), WindowsPath('../transights/.git/objects/74/47ee53310584315cc27bc5193c65e4dd495478'), WindowsPath('../transights/.git/objects/7a/1f85ebdeca79679edeb3c7737d560a9619152d'), WindowsPath('../transights/.git/objects/7f/807d730690c6ceddbbd01f2941a6dbbdd9c199'), WindowsPath('../transights/.git/objects/89/0b332aefa012c6850c305d0206ac6cb2d49e59'), WindowsPath('../transights/.git/objects/8a/ee4c9c79e45fad9e6609e27628263e48da34e7'), WindowsPath('../transights/.git/objects/90/dc4c9176976a2443971d0deb4938ed1d13a46c'), WindowsPath('../transights/.git/objects/93/35abd6634e590f6141e11d18b716f8578cd74b'), WindowsPath('../transights/.git/objects/96/5fa70ab64f4249c1f730f805aee697199ad429'), WindowsPath('../transights/.git/objects/9a/aed7f9c00241330943892ac1fee99e1ffc4adc'), WindowsPath('../transights/.git/objects/9e/eceb6b32afbbe8fe049cacd694d6809f2d5a60'), WindowsPath('../transights/.git/objects/a0/9dca71d36ab660c8dd15f4d61cf277928517d7'), WindowsPath('../transights/.git/objects/a9/797c152d9e1df2b5dc50ca34af3c07a4e64892'), WindowsPath('../transights/.git/objects/b1/a8286e5e8b703357c33a8f4f35c5cd18e49e7b'), WindowsPath('../transights/.git/objects/b2/78eb27b17d783dfb7f867a3d6a9d77d6caf54c'), WindowsPath('../transights/.git/objects/bf/58d1ba0261437b35a6f7f86c24ccc29c8318a1'), WindowsPath('../transights/.git/objects/c4/8ddc2cad523e7a2d55627bbf02a56891991685'), WindowsPath('../transights/.git/objects/c5/54646dbf087cca34ea408f22590110b600126a'), WindowsPath('../transights/.git/objects/c8/2f833d6aba09f0ef0fd14881fe3cd77b0a0dc7'), WindowsPath('../transights/.git/objects/c8/3bbfaf44214025b13cdc788976975613ba31ce'), WindowsPath('../transights/.git/objects/cc/4d1bfa2114b673adbb6b2ea941cf8eb2456e85'), WindowsPath('../transights/.git/objects/ce/8b23df8c5f6297242716e563db3c5128f53e93'), WindowsPath('../transights/.git/objects/cf/6a1142cc23868dbd33e56838346650128d3bba'), WindowsPath('../transights/.git/objects/cf/81536eecb57c0ca280183eeaa6d7c155f1e70f'), WindowsPath('../transights/.git/objects/d1/8cfe2ffee17b741527b71857922263791f911c'), WindowsPath('../transights/.git/objects/da/a72fb3b968dc010253e607716144de645235c0'), WindowsPath('../transights/.git/objects/dc/981d77a010d3d53c6fe445e58cb0099bc6638c'), WindowsPath('../transights/.git/objects/e0/7d139f6801c4916cc65ddedc3d43aa6a3c670e'), WindowsPath('../transights/.git/objects/e7/69164da3b0a8da1e1b00b266f2c16fcc1c5327'), WindowsPath('../transights/.git/objects/eb/3ff08a62a5b41d343686eb68270ece35f039ae'), WindowsPath('../transights/.git/objects/f1/d148a900eb390f9c29b3fcdd21cb76f7dc733f'), WindowsPath('../transights/.git/objects/f3/46b9ead44628c78fa8e24fafe4d3402a1b3067'), WindowsPath('../transights/.git/objects/f4/7c962e09063243b0da3c2eb404453b4744e2db'), WindowsPath('../transights/.git/objects/f5/9eaca6ee9097e43a0d93080b8bd56fbe1e39a4'), WindowsPath('../transights/.git/objects/f5/f5d52b8fb36aee517a8115bb89098536a5b5be'), WindowsPath('../transights/.git/objects/fd/3c56940b361d20dbe54273a9cba49b124d8cb2'), WindowsPath('../transights/.git/objects/pack/pack-8fd2dd0bf4ab39d74286338029d779bb87fb4e97.idx'), WindowsPath('../transights/.git/objects/pack/pack-8fd2dd0bf4ab39d74286338029d779bb87fb4e97.pack'), WindowsPath('../transights/.git/refs/heads/main'), WindowsPath('../transights/.git/refs/remotes/origin/HEAD'), WindowsPath('../transights/.git/refs/remotes/origin/main'), WindowsPath('../transights/.ipynb_checkpoints/FolderScanner_demo-checkpoint.ipynb'), WindowsPath('../transights/.ipynb_checkpoints/package_testing-checkpoint.ipynb'), WindowsPath('../transights/dist/transights-0.1.0.tar.gz'), WindowsPath('../transights/transights/__init__.py'), WindowsPath('../transights/transights/aggregator/Aggregator.py'), WindowsPath('../transights/transights/aggregator/__init__.py'), WindowsPath('../transights/transights/aggregator/__pycache__/Aggregator.cpython-39.pyc'), WindowsPath('../transights/transights/aggregator/__pycache__/__init__.cpython-39.pyc'), WindowsPath('../transights/transights/dataset/GenericDataset.py'), WindowsPath('../transights/transights/dataset/__init__.py'), WindowsPath('../transights/transights/projections/RandomProjection.py'), WindowsPath('../transights/transights/projections/__init__.py'), WindowsPath('../transights/transights/projections/__pycache__/RandomProjection.cpython-39.pyc'), WindowsPath('../transights/transights/projections/__pycache__/__init__.cpython-39.pyc'), WindowsPath('../transights/transights/transforms/transforms.py'), WindowsPath('../transights/transights/transforms/__init__.py'), WindowsPath('../transights/transights/transforms/__pycache__/transforms.cpython-39.pyc'), WindowsPath('../transights/transights/transforms/__pycache__/__init__.cpython-39.pyc'), WindowsPath('../transights/transights/utils/FolderScanner.py'), WindowsPath('../transights/transights/utils/Pickler.py'), WindowsPath('../transights/transights/utils/__init__.py'), WindowsPath('../transights/transights/utils/__pycache__/FolderScanner.cpython-310.pyc'), WindowsPath('../transights/transights/utils/__pycache__/FolderScanner.cpython-39.pyc'), WindowsPath('../transights/transights/utils/__pycache__/Pickler.cpython-310.pyc'), WindowsPath('../transights/transights/utils/__pycache__/Pickler.cpython-39.pyc'), WindowsPath('../transights/transights/utils/__pycache__/__init__.cpython-310.pyc'), WindowsPath('../transights/transights/utils/__pycache__/__init__.cpython-39.pyc'), WindowsPath('../transights/transights/__pycache__/__init__.cpython-310.pyc'), WindowsPath('../transights/transights/__pycache__/__init__.cpython-39.pyc'), WindowsPath('../transights/transights.egg-info/dependency_links.txt'), WindowsPath('../transights/transights.egg-info/PKG-INFO'), WindowsPath('../transights/transights.egg-info/SOURCES.txt'), WindowsPath('../transights/transights.egg-info/top_level.txt')]\n"
     ]
    }
   ],
   "source": [
    "# Example 11: Get all files recursively\n",
    "folder_path = Path(r\"..\\transights\")\n",
    "files = fs.get_files(folder_path, recursive=True)\n",
    "print(files)"
   ]
  }
 ],
 "metadata": {
  "kernelspec": {
   "display_name": "Python 3 (ipykernel)",
   "language": "python",
   "name": "python3"
  },
  "language_info": {
   "codemirror_mode": {
    "name": "ipython",
    "version": 3
   },
   "file_extension": ".py",
   "mimetype": "text/x-python",
   "name": "python",
   "nbconvert_exporter": "python",
   "pygments_lexer": "ipython3",
   "version": "3.10.12"
  }
 },
 "nbformat": 4,
 "nbformat_minor": 4
}
