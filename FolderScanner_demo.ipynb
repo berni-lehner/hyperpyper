{
 "cells": [
  {
   "cell_type": "markdown",
   "metadata": {},
   "source": [
    "# FolderScanner Demo\n",
    "The `FolderScanner` is used to get a list of files in the specified folders, optionally with specific extensions."
   ]
  },
  {
   "cell_type": "code",
   "execution_count": 1,
   "metadata": {},
   "outputs": [],
   "source": [
    "import numpy as np\n",
    "from PIL import Image\n",
    "from typing import Union, List\n",
    "from pathlib import Path\n",
    "\n",
    "from hyperpyper.utils import FolderScanner as fs\n",
    "\n",
    "\n",
    "random_state = 23"
   ]
  },
  {
   "cell_type": "code",
   "execution_count": 2,
   "metadata": {},
   "outputs": [
    {
     "name": "stdout",
     "output_type": "stream",
     "text": [
      "[WindowsPath('hyperpyper/__init__.py')]\n"
     ]
    }
   ],
   "source": [
    "# Example: Get files from a single folder (Path object)\n",
    "folder_path = Path(r\".\\hyperpyper\")\n",
    "files = fs.get_files(folder_path)\n",
    "print(files)"
   ]
  },
  {
   "cell_type": "code",
   "execution_count": 3,
   "metadata": {},
   "outputs": [
    {
     "name": "stdout",
     "output_type": "stream",
     "text": [
      "[WindowsPath('hyperpyper/aggregator/Aggregator.py'), WindowsPath('hyperpyper/aggregator/__init__.py'), WindowsPath('hyperpyper/transforms/img_transforms.py'), WindowsPath('hyperpyper/transforms/torch_transforms.py'), WindowsPath('hyperpyper/transforms/transforms.py'), WindowsPath('hyperpyper/transforms/__init__.py')]\n"
     ]
    }
   ],
   "source": [
    "# Example: Get files from multiple folders (Path objects)\n",
    "folder_paths = [Path(r\".\\hyperpyper\\aggregator\"), Path(r\".\\hyperpyper\\transforms\")]\n",
    "files = fs.get_files(folder_paths)\n",
    "print(files)"
   ]
  },
  {
   "cell_type": "code",
   "execution_count": 4,
   "metadata": {},
   "outputs": [
    {
     "name": "stdout",
     "output_type": "stream",
     "text": [
      "[WindowsPath('hyperpyper/__init__.py')]\n"
     ]
    }
   ],
   "source": [
    "# Example: Get files from a single folder (string)\n",
    "folder_path = r\".\\hyperpyper\"\n",
    "files = fs.get_files(folder_path)\n",
    "print(files)"
   ]
  },
  {
   "cell_type": "code",
   "execution_count": 5,
   "metadata": {},
   "outputs": [
    {
     "name": "stdout",
     "output_type": "stream",
     "text": [
      "[WindowsPath('hyperpyper/aggregator/Aggregator.py'), WindowsPath('hyperpyper/aggregator/__init__.py'), WindowsPath('hyperpyper/transforms/img_transforms.py'), WindowsPath('hyperpyper/transforms/torch_transforms.py'), WindowsPath('hyperpyper/transforms/transforms.py'), WindowsPath('hyperpyper/transforms/__init__.py')]\n"
     ]
    }
   ],
   "source": [
    "# Example: Get files from multiple folders (strings)\n",
    "folder_paths = [r\".\\hyperpyper\\aggregator\", r\".\\hyperpyper\\transforms\"]\n",
    "files = fs.get_files(folder_paths)\n",
    "print(files)"
   ]
  },
  {
   "cell_type": "code",
   "execution_count": 6,
   "metadata": {},
   "outputs": [
    {
     "name": "stdout",
     "output_type": "stream",
     "text": [
      "[WindowsPath('hyperpyper/aggregator/Aggregator.py'), WindowsPath('hyperpyper/aggregator/__init__.py')]\n"
     ]
    }
   ],
   "source": [
    "# Example: Get files with a specific extension\n",
    "folder_path = Path(r\".\\hyperpyper\\aggregator\")\n",
    "extension = \".py\"\n",
    "files = fs.get_files(folder_path, extension)\n",
    "print(files)"
   ]
  },
  {
   "cell_type": "code",
   "execution_count": 7,
   "metadata": {},
   "outputs": [
    {
     "name": "stdout",
     "output_type": "stream",
     "text": [
      "[WindowsPath('../hyperpyper/imagenet.py'), WindowsPath('../hyperpyper/requirements.txt'), WindowsPath('../hyperpyper/resnet18_32x32.py'), WindowsPath('../hyperpyper/setup.py')]\n"
     ]
    }
   ],
   "source": [
    "# Example: Get files with multiple specific extensions\n",
    "folder_path = Path(r\"..\\hyperpyper\")\n",
    "extensions = [\".py\", \".txt\"]\n",
    "files = fs.get_files(folder_path, extensions)\n",
    "print(files)"
   ]
  },
  {
   "cell_type": "code",
   "execution_count": 8,
   "metadata": {},
   "outputs": [
    {
     "name": "stdout",
     "output_type": "stream",
     "text": [
      "[WindowsPath('data/train/52.png'), WindowsPath('data/train/84.png'), WindowsPath('data/train/93.png')]\n"
     ]
    }
   ],
   "source": [
    "# Example: Get image files from a single folder (Path object)\n",
    "folder_path = Path(r\".\\data\\train\")\n",
    "image_files = fs.get_image_files(folder_path)\n",
    "print(image_files)"
   ]
  },
  {
   "cell_type": "code",
   "execution_count": 9,
   "metadata": {},
   "outputs": [
    {
     "name": "stdout",
     "output_type": "stream",
     "text": [
      "[WindowsPath('52.png'), WindowsPath('84.png'), WindowsPath('93.png')]\n"
     ]
    }
   ],
   "source": [
    "# Example: Get image files from a single folder, relative to a specific folder\n",
    "folder_path = Path(r\".\\data\\train\")\n",
    "image_files = fs.get_image_files(folder_path, relative_to=folder_path)\n",
    "print(image_files)"
   ]
  },
  {
   "cell_type": "code",
   "execution_count": 10,
   "metadata": {},
   "outputs": [
    {
     "name": "stdout",
     "output_type": "stream",
     "text": [
      "[WindowsPath('data/train/52.png'), WindowsPath('data/train/84.png'), WindowsPath('data/train/93.png'), WindowsPath('data/test/806.png'), WindowsPath('data/test/822.png'), WindowsPath('data/test/905.png')]\n"
     ]
    }
   ],
   "source": [
    "# Example: Get image files from multiple folders (Path objects)\n",
    "folder_paths = [Path(r\".\\data\\train\"), Path(r\".\\data\\test\")]\n",
    "image_files = fs.get_image_files(folder_paths)\n",
    "print(image_files)"
   ]
  },
  {
   "cell_type": "code",
   "execution_count": 11,
   "metadata": {},
   "outputs": [
    {
     "name": "stdout",
     "output_type": "stream",
     "text": [
      "[WindowsPath('data/csv/some_file.csv'), WindowsPath('data/csv/some_other_file.csv')]\n"
     ]
    }
   ],
   "source": [
    "# Example: Get CSV files from a single folder (string)\n",
    "folder_path = Path(r\".\\data\\csv\")\n",
    "csv_files = fs.get_csv_files(folder_path)\n",
    "print(csv_files)"
   ]
  },
  {
   "cell_type": "code",
   "execution_count": 12,
   "metadata": {},
   "outputs": [
    {
     "name": "stdout",
     "output_type": "stream",
     "text": [
      "[WindowsPath('data/csv/some_file.csv'), WindowsPath('data/csv/some_other_file.csv'), WindowsPath('data/test/806.png'), WindowsPath('data/test/822.png'), WindowsPath('data/test/905.png'), WindowsPath('data/train/52.png'), WindowsPath('data/train/84.png'), WindowsPath('data/train/93.png')]\n"
     ]
    }
   ],
   "source": [
    "# Example: Get all files recursively\n",
    "folder_path = Path(r\".\\data\")\n",
    "files = fs.get_files(folder_path, recursive=True)\n",
    "print(files)"
   ]
  },
  {
   "cell_type": "code",
   "execution_count": 20,
   "metadata": {},
   "outputs": [
    {
     "name": "stdout",
     "output_type": "stream",
     "text": [
      "[WindowsPath('data/test/822.png'), WindowsPath('data/test/905.png'), WindowsPath('data/train/84.png')]\n"
     ]
    }
   ],
   "source": [
    "# Example: Get a subset of all files recursively\n",
    "folder_path = Path(r\".\\data\")\n",
    "files = fs.get_files(folder_path, recursive=True, n_samples=3)\n",
    "print(files)"
   ]
  },
  {
   "cell_type": "code",
   "execution_count": 21,
   "metadata": {},
   "outputs": [
    {
     "name": "stdout",
     "output_type": "stream",
     "text": [
      "[WindowsPath('data/test/806.png'), WindowsPath('data/test/822.png'), WindowsPath('data/train/52.png'), WindowsPath('data/train/93.png'), WindowsPath('data/csv/some_file.csv'), WindowsPath('data/csv/some_other_file.csv'), WindowsPath('data/test/905.png'), WindowsPath('data/train/84.png')]\n"
     ]
    }
   ],
   "source": [
    "# Example: In case the n_samples is too high, the full set of all files is returned\n",
    "folder_path = Path(r\".\\data\")\n",
    "files = fs.get_files(folder_path, recursive=True, n_samples=32)\n",
    "print(files)"
   ]
  }
 ],
 "metadata": {
  "kernelspec": {
   "display_name": "Python 3 (ipykernel)",
   "language": "python",
   "name": "python3"
  },
  "language_info": {
   "codemirror_mode": {
    "name": "ipython",
    "version": 3
   },
   "file_extension": ".py",
   "mimetype": "text/x-python",
   "name": "python",
   "nbconvert_exporter": "python",
   "pygments_lexer": "ipython3",
   "version": "3.10.13"
  }
 },
 "nbformat": 4,
 "nbformat_minor": 4
}
