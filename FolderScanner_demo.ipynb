{
 "cells": [
  {
   "cell_type": "code",
   "execution_count": 1,
   "metadata": {},
   "outputs": [],
   "source": [
    "import numpy as np\n",
    "from PIL import Image\n",
    "from typing import Union, List\n",
    "from pathlib import Path\n",
    "\n",
    "\n",
    "random_state = 23"
   ]
  },
  {
   "cell_type": "code",
   "execution_count": 2,
   "metadata": {},
   "outputs": [
    {
     "name": "stdout",
     "output_type": "stream",
     "text": [
      "[WindowsPath('E:/Dropbox/git/tutorials/data/indigits/train/907363-_AL_23-51-09.jpg'), WindowsPath('E:/Dropbox/git/tutorials/data/indigits/train/911838-_AL_22-47-38.jpg'), WindowsPath('E:/Dropbox/git/tutorials/data/indigits/train/916564-_AL_21-33-12.jpg'), WindowsPath('E:/Dropbox/git/tutorials/data/indigits/train/917955-_AL_22-56-58.jpg'), WindowsPath('E:/Dropbox/git/tutorials/data/indigits/train/921001-_AL_18-19-32.jpg'), WindowsPath('E:/Dropbox/git/tutorials/data/indigits/train/930299-1_AL_23-23-15.jpg'), WindowsPath('E:/Dropbox/git/tutorials/data/indigits/train/930299-2_AL_23-36-25.jpg'), WindowsPath('E:/Dropbox/git/tutorials/data/indigits/train/931807-1_AL_16-32-59.jpg'), WindowsPath('E:/Dropbox/git/tutorials/data/indigits/train/931807-2_AL_16-35-29.jpg'), WindowsPath('E:/Dropbox/git/tutorials/data/indigits/train/931932-_AL_21-22-57.jpg')]\n"
     ]
    }
   ],
   "source": [
    "from pathlib import Path\n",
    "from FolderScanner import FolderScanner as fs\n",
    "\n",
    "# Example 1: Get files from a single folder (Path object)\n",
    "folder_path = Path(r\"E:\\Dropbox\\git\\tutorials\\data\\indigits\\train\")\n",
    "files = fs.get_files(folder_path)\n",
    "print(files)  # List of Path objects representing the files in the folder"
   ]
  },
  {
   "cell_type": "code",
   "execution_count": 3,
   "metadata": {},
   "outputs": [
    {
     "name": "stdout",
     "output_type": "stream",
     "text": [
      "[WindowsPath('E:/Dropbox/git/tutorials/data/indigits/train/907363-_AL_23-51-09.jpg'), WindowsPath('E:/Dropbox/git/tutorials/data/indigits/train/911838-_AL_22-47-38.jpg'), WindowsPath('E:/Dropbox/git/tutorials/data/indigits/train/916564-_AL_21-33-12.jpg'), WindowsPath('E:/Dropbox/git/tutorials/data/indigits/train/917955-_AL_22-56-58.jpg'), WindowsPath('E:/Dropbox/git/tutorials/data/indigits/train/921001-_AL_18-19-32.jpg'), WindowsPath('E:/Dropbox/git/tutorials/data/indigits/train/930299-1_AL_23-23-15.jpg'), WindowsPath('E:/Dropbox/git/tutorials/data/indigits/train/930299-2_AL_23-36-25.jpg'), WindowsPath('E:/Dropbox/git/tutorials/data/indigits/train/931807-1_AL_16-32-59.jpg'), WindowsPath('E:/Dropbox/git/tutorials/data/indigits/train/931807-2_AL_16-35-29.jpg'), WindowsPath('E:/Dropbox/git/tutorials/data/indigits/train/931932-_AL_21-22-57.jpg'), WindowsPath('E:/Dropbox/git/tutorials/data/indigits/test/894422-_AL_01-16-47.jpg'), WindowsPath('E:/Dropbox/git/tutorials/data/indigits/test/894426-_AL_01-37-45.jpg'), WindowsPath('E:/Dropbox/git/tutorials/data/indigits/test/894431-_AL_00-38-27.jpg'), WindowsPath('E:/Dropbox/git/tutorials/data/indigits/test/896394-_AL_00-49-13.jpg'), WindowsPath('E:/Dropbox/git/tutorials/data/indigits/test/896401-_AL_03-58-08.jpg'), WindowsPath('E:/Dropbox/git/tutorials/data/indigits/test/896405-_AL_00-17-31.jpg'), WindowsPath('E:/Dropbox/git/tutorials/data/indigits/test/896417-_AL_00-03-48.jpg'), WindowsPath('E:/Dropbox/git/tutorials/data/indigits/test/903561-_AL_04-35-39.jpg'), WindowsPath('E:/Dropbox/git/tutorials/data/indigits/test/903569-_AL_21-14-49.jpg'), WindowsPath('E:/Dropbox/git/tutorials/data/indigits/test/903576-_AL_04-38-20.jpg'), WindowsPath('E:/Dropbox/git/tutorials/data/indigits/test/903577-_AL_04-48-02.jpg'), WindowsPath('E:/Dropbox/git/tutorials/data/indigits/test/903581-_AL_15-43-59.jpg'), WindowsPath('E:/Dropbox/git/tutorials/data/indigits/test/903589-_AL_15-58-21.jpg'), WindowsPath('E:/Dropbox/git/tutorials/data/indigits/test/903596-_AL_14-30-24.jpg'), WindowsPath('E:/Dropbox/git/tutorials/data/indigits/test/903601-_AL_14-43-06.jpg'), WindowsPath('E:/Dropbox/git/tutorials/data/indigits/test/903604-_AL_14-55-12.jpg'), WindowsPath('E:/Dropbox/git/tutorials/data/indigits/test/903608-_AL_15-07-01.jpg'), WindowsPath('E:/Dropbox/git/tutorials/data/indigits/test/903613-_AL_15-21-17.jpg'), WindowsPath('E:/Dropbox/git/tutorials/data/indigits/test/903628-_AL_17-52-11.jpg'), WindowsPath('E:/Dropbox/git/tutorials/data/indigits/test/906587-_AL_04-13-33.jpg'), WindowsPath('E:/Dropbox/git/tutorials/data/indigits/test/906595-_AL_18-08-24.jpg'), WindowsPath('E:/Dropbox/git/tutorials/data/indigits/test/906603-_AL_16-38-18.jpg'), WindowsPath('E:/Dropbox/git/tutorials/data/indigits/test/911651-1_AL_02-12-06.jpg'), WindowsPath('E:/Dropbox/git/tutorials/data/indigits/test/911651-2_AL_02-26-07.jpg'), WindowsPath('E:/Dropbox/git/tutorials/data/indigits/test/911651-3_AL_02-33-31.jpg'), WindowsPath('E:/Dropbox/git/tutorials/data/indigits/test/921363-1_AL_13-41-14.jpg')]\n"
     ]
    }
   ],
   "source": [
    "# Example 2: Get files from multiple folders (Path objects)\n",
    "folder_paths = [Path(r\"E:\\Dropbox\\git\\tutorials\\data\\indigits\\train\"), Path(r\"E:\\Dropbox\\git\\tutorials\\data\\indigits\\test\")]\n",
    "files = fs.get_files(folder_paths)\n",
    "print(files)  # List of Path objects representing the files in the folders"
   ]
  },
  {
   "cell_type": "code",
   "execution_count": 4,
   "metadata": {},
   "outputs": [
    {
     "name": "stdout",
     "output_type": "stream",
     "text": [
      "[WindowsPath('E:/Dropbox/git/tutorials/data/indigits/train/907363-_AL_23-51-09.jpg'), WindowsPath('E:/Dropbox/git/tutorials/data/indigits/train/911838-_AL_22-47-38.jpg'), WindowsPath('E:/Dropbox/git/tutorials/data/indigits/train/916564-_AL_21-33-12.jpg'), WindowsPath('E:/Dropbox/git/tutorials/data/indigits/train/917955-_AL_22-56-58.jpg'), WindowsPath('E:/Dropbox/git/tutorials/data/indigits/train/921001-_AL_18-19-32.jpg'), WindowsPath('E:/Dropbox/git/tutorials/data/indigits/train/930299-1_AL_23-23-15.jpg'), WindowsPath('E:/Dropbox/git/tutorials/data/indigits/train/930299-2_AL_23-36-25.jpg'), WindowsPath('E:/Dropbox/git/tutorials/data/indigits/train/931807-1_AL_16-32-59.jpg'), WindowsPath('E:/Dropbox/git/tutorials/data/indigits/train/931807-2_AL_16-35-29.jpg'), WindowsPath('E:/Dropbox/git/tutorials/data/indigits/train/931932-_AL_21-22-57.jpg')]\n"
     ]
    }
   ],
   "source": [
    "# Example 3: Get files from a single folder (string)\n",
    "folder_path = r\"E:\\Dropbox\\git\\tutorials\\data\\indigits\\train\"\n",
    "files = fs.get_files(folder_path)\n",
    "print(files)  # List of Path objects representing the files in the folder"
   ]
  },
  {
   "cell_type": "code",
   "execution_count": 5,
   "metadata": {},
   "outputs": [
    {
     "name": "stdout",
     "output_type": "stream",
     "text": [
      "[WindowsPath('E:/Dropbox/git/tutorials/data/indigits/train/907363-_AL_23-51-09.jpg'), WindowsPath('E:/Dropbox/git/tutorials/data/indigits/train/911838-_AL_22-47-38.jpg'), WindowsPath('E:/Dropbox/git/tutorials/data/indigits/train/916564-_AL_21-33-12.jpg'), WindowsPath('E:/Dropbox/git/tutorials/data/indigits/train/917955-_AL_22-56-58.jpg'), WindowsPath('E:/Dropbox/git/tutorials/data/indigits/train/921001-_AL_18-19-32.jpg'), WindowsPath('E:/Dropbox/git/tutorials/data/indigits/train/930299-1_AL_23-23-15.jpg'), WindowsPath('E:/Dropbox/git/tutorials/data/indigits/train/930299-2_AL_23-36-25.jpg'), WindowsPath('E:/Dropbox/git/tutorials/data/indigits/train/931807-1_AL_16-32-59.jpg'), WindowsPath('E:/Dropbox/git/tutorials/data/indigits/train/931807-2_AL_16-35-29.jpg'), WindowsPath('E:/Dropbox/git/tutorials/data/indigits/train/931932-_AL_21-22-57.jpg'), WindowsPath('E:/Dropbox/git/tutorials/data/indigits/test/894422-_AL_01-16-47.jpg'), WindowsPath('E:/Dropbox/git/tutorials/data/indigits/test/894426-_AL_01-37-45.jpg'), WindowsPath('E:/Dropbox/git/tutorials/data/indigits/test/894431-_AL_00-38-27.jpg'), WindowsPath('E:/Dropbox/git/tutorials/data/indigits/test/896394-_AL_00-49-13.jpg'), WindowsPath('E:/Dropbox/git/tutorials/data/indigits/test/896401-_AL_03-58-08.jpg'), WindowsPath('E:/Dropbox/git/tutorials/data/indigits/test/896405-_AL_00-17-31.jpg'), WindowsPath('E:/Dropbox/git/tutorials/data/indigits/test/896417-_AL_00-03-48.jpg'), WindowsPath('E:/Dropbox/git/tutorials/data/indigits/test/903561-_AL_04-35-39.jpg'), WindowsPath('E:/Dropbox/git/tutorials/data/indigits/test/903569-_AL_21-14-49.jpg'), WindowsPath('E:/Dropbox/git/tutorials/data/indigits/test/903576-_AL_04-38-20.jpg'), WindowsPath('E:/Dropbox/git/tutorials/data/indigits/test/903577-_AL_04-48-02.jpg'), WindowsPath('E:/Dropbox/git/tutorials/data/indigits/test/903581-_AL_15-43-59.jpg'), WindowsPath('E:/Dropbox/git/tutorials/data/indigits/test/903589-_AL_15-58-21.jpg'), WindowsPath('E:/Dropbox/git/tutorials/data/indigits/test/903596-_AL_14-30-24.jpg'), WindowsPath('E:/Dropbox/git/tutorials/data/indigits/test/903601-_AL_14-43-06.jpg'), WindowsPath('E:/Dropbox/git/tutorials/data/indigits/test/903604-_AL_14-55-12.jpg'), WindowsPath('E:/Dropbox/git/tutorials/data/indigits/test/903608-_AL_15-07-01.jpg'), WindowsPath('E:/Dropbox/git/tutorials/data/indigits/test/903613-_AL_15-21-17.jpg'), WindowsPath('E:/Dropbox/git/tutorials/data/indigits/test/903628-_AL_17-52-11.jpg'), WindowsPath('E:/Dropbox/git/tutorials/data/indigits/test/906587-_AL_04-13-33.jpg'), WindowsPath('E:/Dropbox/git/tutorials/data/indigits/test/906595-_AL_18-08-24.jpg'), WindowsPath('E:/Dropbox/git/tutorials/data/indigits/test/906603-_AL_16-38-18.jpg'), WindowsPath('E:/Dropbox/git/tutorials/data/indigits/test/911651-1_AL_02-12-06.jpg'), WindowsPath('E:/Dropbox/git/tutorials/data/indigits/test/911651-2_AL_02-26-07.jpg'), WindowsPath('E:/Dropbox/git/tutorials/data/indigits/test/911651-3_AL_02-33-31.jpg'), WindowsPath('E:/Dropbox/git/tutorials/data/indigits/test/921363-1_AL_13-41-14.jpg')]\n"
     ]
    }
   ],
   "source": [
    "# Example 4: Get files from multiple folders (strings)\n",
    "folder_paths = [r\"E:\\Dropbox\\git\\tutorials\\data\\indigits\\train\", r\"E:\\Dropbox\\git\\tutorials\\data\\indigits\\test\"]\n",
    "files = fs.get_files(folder_paths)\n",
    "print(files)  # List of Path objects representing the files in the folders"
   ]
  },
  {
   "cell_type": "code",
   "execution_count": 6,
   "metadata": {},
   "outputs": [
    {
     "name": "stdout",
     "output_type": "stream",
     "text": [
      "[]\n"
     ]
    }
   ],
   "source": [
    "# Example 5: Get files with a specific extension\n",
    "folder_path = Path(r\"E:\\Dropbox\\git\\tutorials\\data\\indigits\\train\")\n",
    "extension = \".png\"\n",
    "files = fs.get_files(folder_path, extension)\n",
    "print(files)  # List of Path objects representing the files with specified extensions"
   ]
  },
  {
   "cell_type": "code",
   "execution_count": 7,
   "metadata": {},
   "outputs": [
    {
     "name": "stdout",
     "output_type": "stream",
     "text": [
      "[WindowsPath('E:/Dropbox/git/tutorials/data/indigits/train/907363-_AL_23-51-09.jpg'), WindowsPath('E:/Dropbox/git/tutorials/data/indigits/train/911838-_AL_22-47-38.jpg'), WindowsPath('E:/Dropbox/git/tutorials/data/indigits/train/916564-_AL_21-33-12.jpg'), WindowsPath('E:/Dropbox/git/tutorials/data/indigits/train/917955-_AL_22-56-58.jpg'), WindowsPath('E:/Dropbox/git/tutorials/data/indigits/train/921001-_AL_18-19-32.jpg'), WindowsPath('E:/Dropbox/git/tutorials/data/indigits/train/930299-1_AL_23-23-15.jpg'), WindowsPath('E:/Dropbox/git/tutorials/data/indigits/train/930299-2_AL_23-36-25.jpg'), WindowsPath('E:/Dropbox/git/tutorials/data/indigits/train/931807-1_AL_16-32-59.jpg'), WindowsPath('E:/Dropbox/git/tutorials/data/indigits/train/931807-2_AL_16-35-29.jpg'), WindowsPath('E:/Dropbox/git/tutorials/data/indigits/train/931932-_AL_21-22-57.jpg')]\n"
     ]
    }
   ],
   "source": [
    "# Example 6: Get files with multiple specific extensions\n",
    "folder_path = Path(r\"E:\\Dropbox\\git\\tutorials\\data\\indigits\\train\")\n",
    "extensions = [\".jpg\", \".png\"]\n",
    "files = fs.get_files(folder_path, extensions)\n",
    "print(files)  # List of Path objects representing all files in the folder"
   ]
  },
  {
   "cell_type": "code",
   "execution_count": 8,
   "metadata": {},
   "outputs": [
    {
     "name": "stdout",
     "output_type": "stream",
     "text": [
      "[WindowsPath('E:/Dropbox/git/tutorials/data/indigits/train/907363-_AL_23-51-09.jpg'), WindowsPath('E:/Dropbox/git/tutorials/data/indigits/train/911838-_AL_22-47-38.jpg'), WindowsPath('E:/Dropbox/git/tutorials/data/indigits/train/916564-_AL_21-33-12.jpg'), WindowsPath('E:/Dropbox/git/tutorials/data/indigits/train/917955-_AL_22-56-58.jpg'), WindowsPath('E:/Dropbox/git/tutorials/data/indigits/train/921001-_AL_18-19-32.jpg'), WindowsPath('E:/Dropbox/git/tutorials/data/indigits/train/930299-1_AL_23-23-15.jpg'), WindowsPath('E:/Dropbox/git/tutorials/data/indigits/train/930299-2_AL_23-36-25.jpg'), WindowsPath('E:/Dropbox/git/tutorials/data/indigits/train/931807-1_AL_16-32-59.jpg'), WindowsPath('E:/Dropbox/git/tutorials/data/indigits/train/931807-2_AL_16-35-29.jpg'), WindowsPath('E:/Dropbox/git/tutorials/data/indigits/train/931932-_AL_21-22-57.jpg')]\n"
     ]
    }
   ],
   "source": [
    "# Example 7: Get image files from a single folder (Path object)\n",
    "folder_path = Path(r\"E:\\Dropbox\\git\\tutorials\\data\\indigits\\train\")\n",
    "image_files = fs.get_image_files(folder_path)\n",
    "print(image_files)  # List of Path objects representing the image files in the folder"
   ]
  },
  {
   "cell_type": "code",
   "execution_count": 9,
   "metadata": {},
   "outputs": [
    {
     "name": "stdout",
     "output_type": "stream",
     "text": [
      "[WindowsPath('E:/Dropbox/git/tutorials/data/indigits/train/907363-_AL_23-51-09.jpg'), WindowsPath('E:/Dropbox/git/tutorials/data/indigits/train/911838-_AL_22-47-38.jpg'), WindowsPath('E:/Dropbox/git/tutorials/data/indigits/train/916564-_AL_21-33-12.jpg'), WindowsPath('E:/Dropbox/git/tutorials/data/indigits/train/917955-_AL_22-56-58.jpg'), WindowsPath('E:/Dropbox/git/tutorials/data/indigits/train/921001-_AL_18-19-32.jpg'), WindowsPath('E:/Dropbox/git/tutorials/data/indigits/train/930299-1_AL_23-23-15.jpg'), WindowsPath('E:/Dropbox/git/tutorials/data/indigits/train/930299-2_AL_23-36-25.jpg'), WindowsPath('E:/Dropbox/git/tutorials/data/indigits/train/931807-1_AL_16-32-59.jpg'), WindowsPath('E:/Dropbox/git/tutorials/data/indigits/train/931807-2_AL_16-35-29.jpg'), WindowsPath('E:/Dropbox/git/tutorials/data/indigits/train/931932-_AL_21-22-57.jpg'), WindowsPath('E:/Dropbox/git/tutorials/data/indigits/test/894422-_AL_01-16-47.jpg'), WindowsPath('E:/Dropbox/git/tutorials/data/indigits/test/894426-_AL_01-37-45.jpg'), WindowsPath('E:/Dropbox/git/tutorials/data/indigits/test/894431-_AL_00-38-27.jpg'), WindowsPath('E:/Dropbox/git/tutorials/data/indigits/test/896394-_AL_00-49-13.jpg'), WindowsPath('E:/Dropbox/git/tutorials/data/indigits/test/896401-_AL_03-58-08.jpg'), WindowsPath('E:/Dropbox/git/tutorials/data/indigits/test/896405-_AL_00-17-31.jpg'), WindowsPath('E:/Dropbox/git/tutorials/data/indigits/test/896417-_AL_00-03-48.jpg'), WindowsPath('E:/Dropbox/git/tutorials/data/indigits/test/903561-_AL_04-35-39.jpg'), WindowsPath('E:/Dropbox/git/tutorials/data/indigits/test/903569-_AL_21-14-49.jpg'), WindowsPath('E:/Dropbox/git/tutorials/data/indigits/test/903576-_AL_04-38-20.jpg'), WindowsPath('E:/Dropbox/git/tutorials/data/indigits/test/903577-_AL_04-48-02.jpg'), WindowsPath('E:/Dropbox/git/tutorials/data/indigits/test/903581-_AL_15-43-59.jpg'), WindowsPath('E:/Dropbox/git/tutorials/data/indigits/test/903589-_AL_15-58-21.jpg'), WindowsPath('E:/Dropbox/git/tutorials/data/indigits/test/903596-_AL_14-30-24.jpg'), WindowsPath('E:/Dropbox/git/tutorials/data/indigits/test/903601-_AL_14-43-06.jpg'), WindowsPath('E:/Dropbox/git/tutorials/data/indigits/test/903604-_AL_14-55-12.jpg'), WindowsPath('E:/Dropbox/git/tutorials/data/indigits/test/903608-_AL_15-07-01.jpg'), WindowsPath('E:/Dropbox/git/tutorials/data/indigits/test/903613-_AL_15-21-17.jpg'), WindowsPath('E:/Dropbox/git/tutorials/data/indigits/test/903628-_AL_17-52-11.jpg'), WindowsPath('E:/Dropbox/git/tutorials/data/indigits/test/906587-_AL_04-13-33.jpg'), WindowsPath('E:/Dropbox/git/tutorials/data/indigits/test/906595-_AL_18-08-24.jpg'), WindowsPath('E:/Dropbox/git/tutorials/data/indigits/test/906603-_AL_16-38-18.jpg'), WindowsPath('E:/Dropbox/git/tutorials/data/indigits/test/911651-1_AL_02-12-06.jpg'), WindowsPath('E:/Dropbox/git/tutorials/data/indigits/test/911651-2_AL_02-26-07.jpg'), WindowsPath('E:/Dropbox/git/tutorials/data/indigits/test/911651-3_AL_02-33-31.jpg'), WindowsPath('E:/Dropbox/git/tutorials/data/indigits/test/921363-1_AL_13-41-14.jpg')]\n"
     ]
    }
   ],
   "source": [
    "# Example 8: Get image files from multiple folders (Path objects)\n",
    "folder_paths = [Path(r\"E:\\Dropbox\\git\\tutorials\\data\\indigits\\train\"), Path(r\"E:\\Dropbox\\git\\tutorials\\data\\indigits\\test\")]\n",
    "image_files = fs.get_image_files(folder_paths)\n",
    "print(image_files)  # List of Path objects representing the image files in the folders"
   ]
  },
  {
   "cell_type": "code",
   "execution_count": 10,
   "metadata": {},
   "outputs": [
    {
     "name": "stdout",
     "output_type": "stream",
     "text": [
      "[WindowsPath('E:/Dropbox/git/tutorials/data/3class_anomalies.csv'), WindowsPath('E:/Dropbox/git/tutorials/data/anagrams.csv'), WindowsPath('E:/Dropbox/git/tutorials/data/anscombe.csv'), WindowsPath('E:/Dropbox/git/tutorials/data/assignment1.csv'), WindowsPath('E:/Dropbox/git/tutorials/data/assignment_2.csv'), WindowsPath('E:/Dropbox/git/tutorials/data/assignment_3.csv'), WindowsPath('E:/Dropbox/git/tutorials/data/assignment_3_categoricals.csv'), WindowsPath('E:/Dropbox/git/tutorials/data/assignment_4.csv'), WindowsPath('E:/Dropbox/git/tutorials/data/attention.csv'), WindowsPath('E:/Dropbox/git/tutorials/data/brain_networks.csv'), WindowsPath('E:/Dropbox/git/tutorials/data/car_crashes.csv'), WindowsPath('E:/Dropbox/git/tutorials/data/DATA_dp_wc_bc.csv'), WindowsPath('E:/Dropbox/git/tutorials/data/diamonds.csv'), WindowsPath('E:/Dropbox/git/tutorials/data/dots.csv'), WindowsPath('E:/Dropbox/git/tutorials/data/exercise.csv'), WindowsPath('E:/Dropbox/git/tutorials/data/flights.csv'), WindowsPath('E:/Dropbox/git/tutorials/data/fmri.csv'), WindowsPath('E:/Dropbox/git/tutorials/data/gammas.csv'), WindowsPath('E:/Dropbox/git/tutorials/data/geyser.csv'), WindowsPath('E:/Dropbox/git/tutorials/data/iris.csv'), WindowsPath('E:/Dropbox/git/tutorials/data/mpg.csv'), WindowsPath('E:/Dropbox/git/tutorials/data/penguins.csv'), WindowsPath('E:/Dropbox/git/tutorials/data/planets.csv'), WindowsPath('E:/Dropbox/git/tutorials/data/processminer-rare-event-mts - data.csv'), WindowsPath('E:/Dropbox/git/tutorials/data/some_data.csv'), WindowsPath('E:/Dropbox/git/tutorials/data/taxis.csv'), WindowsPath('E:/Dropbox/git/tutorials/data/tips.csv'), WindowsPath('E:/Dropbox/git/tutorials/data/titanic.csv'), WindowsPath('E:/Dropbox/git/tutorials/data/xor.csv'), WindowsPath('E:/Dropbox/git/tutorials/data/xor_numerical.csv'), WindowsPath('E:/Dropbox/git/tutorials/data/xor_overlap.csv'), WindowsPath('E:/Dropbox/git/tutorials/data/xor_overlap_anomalies.csv')]\n"
     ]
    }
   ],
   "source": [
    "# Example 9: Get CSV files from a single folder (string)\n",
    "folder_path = r\"E:\\Dropbox\\git\\tutorials\\data\"\n",
    "csv_files = fs.get_csv_files(folder_path)\n",
    "print(csv_files)  # List of Path objects representing the CSV files in the folder"
   ]
  },
  {
   "cell_type": "code",
   "execution_count": 11,
   "metadata": {},
   "outputs": [
    {
     "name": "stdout",
     "output_type": "stream",
     "text": [
      "[WindowsPath('E:/Dropbox/git/tutorials/data/3class_anomalies.csv'), WindowsPath('E:/Dropbox/git/tutorials/data/anagrams.csv'), WindowsPath('E:/Dropbox/git/tutorials/data/anscombe.csv'), WindowsPath('E:/Dropbox/git/tutorials/data/assignment1.csv'), WindowsPath('E:/Dropbox/git/tutorials/data/assignment_2.csv'), WindowsPath('E:/Dropbox/git/tutorials/data/assignment_3.csv'), WindowsPath('E:/Dropbox/git/tutorials/data/assignment_3_categoricals.csv'), WindowsPath('E:/Dropbox/git/tutorials/data/assignment_4.csv'), WindowsPath('E:/Dropbox/git/tutorials/data/attention.csv'), WindowsPath('E:/Dropbox/git/tutorials/data/brain_networks.csv'), WindowsPath('E:/Dropbox/git/tutorials/data/car_crashes.csv'), WindowsPath('E:/Dropbox/git/tutorials/data/DATA_dp_wc_bc.csv'), WindowsPath('E:/Dropbox/git/tutorials/data/diamonds.csv'), WindowsPath('E:/Dropbox/git/tutorials/data/dots.csv'), WindowsPath('E:/Dropbox/git/tutorials/data/exercise.csv'), WindowsPath('E:/Dropbox/git/tutorials/data/flights.csv'), WindowsPath('E:/Dropbox/git/tutorials/data/fmri.csv'), WindowsPath('E:/Dropbox/git/tutorials/data/gammas.csv'), WindowsPath('E:/Dropbox/git/tutorials/data/geyser.csv'), WindowsPath('E:/Dropbox/git/tutorials/data/iris.csv'), WindowsPath('E:/Dropbox/git/tutorials/data/mpg.csv'), WindowsPath('E:/Dropbox/git/tutorials/data/penguins.csv'), WindowsPath('E:/Dropbox/git/tutorials/data/planets.csv'), WindowsPath('E:/Dropbox/git/tutorials/data/processminer-rare-event-mts - data.csv'), WindowsPath('E:/Dropbox/git/tutorials/data/some_data.csv'), WindowsPath('E:/Dropbox/git/tutorials/data/taxis.csv'), WindowsPath('E:/Dropbox/git/tutorials/data/tips.csv'), WindowsPath('E:/Dropbox/git/tutorials/data/titanic.csv'), WindowsPath('E:/Dropbox/git/tutorials/data/xor.csv'), WindowsPath('E:/Dropbox/git/tutorials/data/xor_numerical.csv'), WindowsPath('E:/Dropbox/git/tutorials/data/xor_overlap.csv'), WindowsPath('E:/Dropbox/git/tutorials/data/xor_overlap_anomalies.csv'), WindowsPath('E:/Dropbox/git/tutorials/data/cars/cars.csv')]\n"
     ]
    }
   ],
   "source": [
    "# Example 10: Get CSV files from multiple folders (strings)\n",
    "folder_paths = [r\"E:\\Dropbox\\git\\tutorials\\data\", r\"E:\\Dropbox\\git\\tutorials\\data\\cars\"]\n",
    "csv_files = fs.get_csv_files(folder_paths)\n",
    "print(csv_files)  # List of Path objects representing the CSV files in the folders"
   ]
  },
  {
   "cell_type": "code",
   "execution_count": null,
   "metadata": {},
   "outputs": [],
   "source": []
  },
  {
   "cell_type": "code",
   "execution_count": null,
   "metadata": {},
   "outputs": [],
   "source": []
  },
  {
   "cell_type": "code",
   "execution_count": null,
   "metadata": {},
   "outputs": [],
   "source": []
  },
  {
   "cell_type": "code",
   "execution_count": null,
   "metadata": {},
   "outputs": [],
   "source": []
  },
  {
   "cell_type": "code",
   "execution_count": 12,
   "metadata": {},
   "outputs": [
    {
     "name": "stdout",
     "output_type": "stream",
     "text": [
      "E:\\Dropbox\\git\\tutorials\\data\\indigits\\train\\907363-_AL_23-51-09.jpg\n",
      "E:\\Dropbox\\git\\tutorials\\data\\indigits\\train\\911838-_AL_22-47-38.jpg\n",
      "E:\\Dropbox\\git\\tutorials\\data\\indigits\\train\\916564-_AL_21-33-12.jpg\n",
      "E:\\Dropbox\\git\\tutorials\\data\\indigits\\train\\917955-_AL_22-56-58.jpg\n",
      "E:\\Dropbox\\git\\tutorials\\data\\indigits\\train\\921001-_AL_18-19-32.jpg\n",
      "E:\\Dropbox\\git\\tutorials\\data\\indigits\\train\\930299-1_AL_23-23-15.jpg\n",
      "E:\\Dropbox\\git\\tutorials\\data\\indigits\\train\\930299-2_AL_23-36-25.jpg\n",
      "E:\\Dropbox\\git\\tutorials\\data\\indigits\\train\\931807-1_AL_16-32-59.jpg\n",
      "E:\\Dropbox\\git\\tutorials\\data\\indigits\\train\\931807-2_AL_16-35-29.jpg\n",
      "E:\\Dropbox\\git\\tutorials\\data\\indigits\\train\\931932-_AL_21-22-57.jpg\n"
     ]
    }
   ],
   "source": [
    "folder_path = Path(r\"E:\\Dropbox\\git\\tutorials\\data\\indigits\\train\")  # Replace with your folder path\n",
    "image_files = fs.get_files(folder_path)\n",
    "\n",
    "# Print the list of image file paths\n",
    "for file_path in image_files:\n",
    "    print(file_path)"
   ]
  },
  {
   "cell_type": "code",
   "execution_count": null,
   "metadata": {},
   "outputs": [],
   "source": []
  },
  {
   "cell_type": "code",
   "execution_count": null,
   "metadata": {},
   "outputs": [],
   "source": []
  },
  {
   "cell_type": "code",
   "execution_count": null,
   "metadata": {},
   "outputs": [],
   "source": []
  },
  {
   "cell_type": "code",
   "execution_count": null,
   "metadata": {},
   "outputs": [],
   "source": []
  },
  {
   "cell_type": "code",
   "execution_count": null,
   "metadata": {},
   "outputs": [],
   "source": []
  }
 ],
 "metadata": {
  "kernelspec": {
   "display_name": "Python 3 (ipykernel)",
   "language": "python",
   "name": "python3"
  },
  "language_info": {
   "codemirror_mode": {
    "name": "ipython",
    "version": 3
   },
   "file_extension": ".py",
   "mimetype": "text/x-python",
   "name": "python",
   "nbconvert_exporter": "python",
   "pygments_lexer": "ipython3",
   "version": "3.9.12"
  }
 },
 "nbformat": 4,
 "nbformat_minor": 4
}
