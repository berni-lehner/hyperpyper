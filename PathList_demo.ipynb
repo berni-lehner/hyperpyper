{
 "cells": [
  {
   "cell_type": "markdown",
   "metadata": {},
   "source": [
    "# PathList Demo\n",
    "The `PathList` is a class that holds a list of pathlib.Path objects and allows various operations on them."
   ]
  },
  {
   "cell_type": "code",
   "execution_count": 1,
   "metadata": {},
   "outputs": [],
   "source": [
    "from pathlib import Path\n",
    "\n",
    "from hyperpyper.utils import PathList"
   ]
  },
  {
   "cell_type": "code",
   "execution_count": 2,
   "metadata": {},
   "outputs": [
    {
     "data": {
      "text/plain": [
       "PathList([WindowsPath('folder1/file1.txt'), WindowsPath('folder2/file2.txt')])"
      ]
     },
     "execution_count": 2,
     "metadata": {},
     "output_type": "execute_result"
    }
   ],
   "source": [
    "# Initialize a PathList with a list of paths\n",
    "paths = ['folder1/file1.txt', 'folder2/file2.txt']\n",
    "path_list = PathList(paths)\n",
    "\n",
    "path_list"
   ]
  },
  {
   "cell_type": "code",
   "execution_count": 3,
   "metadata": {},
   "outputs": [
    {
     "data": {
      "text/plain": [
       "WindowsPath('folder1/file1.txt')"
      ]
     },
     "execution_count": 3,
     "metadata": {},
     "output_type": "execute_result"
    }
   ],
   "source": [
    "# Access elements in a PathList\n",
    "path_list[0]"
   ]
  },
  {
   "cell_type": "code",
   "execution_count": 4,
   "metadata": {},
   "outputs": [
    {
     "data": {
      "text/plain": [
       "PathList([WindowsPath('folder1/file1.txt'), WindowsPath('folder2/file2.txt')])"
      ]
     },
     "execution_count": 4,
     "metadata": {},
     "output_type": "execute_result"
    }
   ],
   "source": [
    "# Initialize a PathList with a list of paths\n",
    "paths = [Path('folder1/file1.txt'), Path('folder2/file2.txt')]\n",
    "path_list = PathList(paths)\n",
    "\n",
    "path_list"
   ]
  },
  {
   "cell_type": "code",
   "execution_count": 5,
   "metadata": {},
   "outputs": [
    {
     "data": {
      "text/plain": [
       "PathList([WindowsPath('folder1/file1.txt'), WindowsPath('folder2/file2.txt'), WindowsPath('folder1/file3.txt')])"
      ]
     },
     "execution_count": 5,
     "metadata": {},
     "output_type": "execute_result"
    }
   ],
   "source": [
    "# Append a new path to a PathList\n",
    "path_list = PathList(['folder1/file1.txt', 'folder2/file2.txt'])\n",
    "path_list.append('folder1/file3.txt')\n",
    "\n",
    "path_list"
   ]
  },
  {
   "cell_type": "code",
   "execution_count": 6,
   "metadata": {},
   "outputs": [
    {
     "data": {
      "text/plain": [
       "PathList([WindowsPath('subfolder/folder1'), WindowsPath('subfolder/folder2'), WindowsPath('subfolder/folder3'), WindowsPath('subfolder/folder4')])"
      ]
     },
     "execution_count": 6,
     "metadata": {},
     "output_type": "execute_result"
    }
   ],
   "source": [
    "# Concatenate two PathLists\n",
    "path_list1 = PathList(['subfolder/folder1', 'subfolder/folder2/'])\n",
    "path_list2 = PathList(['subfolder/folder3', 'subfolder/folder4/'])\n",
    "\n",
    "result = path_list1 + path_list2\n",
    "\n",
    "result\n"
   ]
  },
  {
   "cell_type": "code",
   "execution_count": 7,
   "metadata": {},
   "outputs": [
    {
     "data": {
      "text/plain": [
       "PathList([WindowsPath('subfolder/folder1/some.txt'), WindowsPath('subfolder/folder2/some.txt')])"
      ]
     },
     "execution_count": 7,
     "metadata": {},
     "output_type": "execute_result"
    }
   ],
   "source": [
    "# Concatenate a PathList with a single path\n",
    "path_list = PathList(['subfolder/folder1', 'subfolder/folder2/'])\n",
    "result = path_list / 'some.txt'\n",
    "\n",
    "result"
   ]
  },
  {
   "cell_type": "code",
   "execution_count": 8,
   "metadata": {},
   "outputs": [
    {
     "data": {
      "text/plain": [
       "PathList([WindowsPath('root_folder/folder1/file1.txt'), WindowsPath('root_folder/folder2/file2.txt')])"
      ]
     },
     "execution_count": 8,
     "metadata": {},
     "output_type": "execute_result"
    }
   ],
   "source": [
    "# Add a prefix to all paths in a PathList\n",
    "path_list = PathList(['folder1/file1.txt', 'folder2/file2.txt'])\n",
    "result = 'root_folder' / path_list\n",
    "\n",
    "result"
   ]
  },
  {
   "cell_type": "code",
   "execution_count": 9,
   "metadata": {},
   "outputs": [
    {
     "data": {
      "text/plain": [
       "PathList([WindowsPath('dir1/file1.txt'), WindowsPath('dir2/file2.txt')])"
      ]
     },
     "execution_count": 9,
     "metadata": {},
     "output_type": "execute_result"
    }
   ],
   "source": [
    "# Perform find and replace on all paths in a PathList\n",
    "path_list = PathList(['folder1/file1.txt', 'folder2/file2.txt'])\n",
    "find_str = 'folder'\n",
    "replace_str = 'dir'\n",
    "path_list.find_replace(find_str, replace_str)\n",
    "\n",
    "path_list"
   ]
  }
 ],
 "metadata": {
  "kernelspec": {
   "display_name": "py310",
   "language": "python",
   "name": "python3"
  },
  "language_info": {
   "codemirror_mode": {
    "name": "ipython",
    "version": 3
   },
   "file_extension": ".py",
   "mimetype": "text/x-python",
   "name": "python",
   "nbconvert_exporter": "python",
   "pygments_lexer": "ipython3",
   "version": "3.10.12"
  }
 },
 "nbformat": 4,
 "nbformat_minor": 2
}
