{
 "cells": [
  {
   "cell_type": "markdown",
   "id": "b5bbc5b3",
   "metadata": {},
   "source": [
    "# Demo with CIFAR10 test data and histogram extraction\n",
    "In this notebook, we are going to extract the histograms of images. Then, we average and plot them in order to see the distribution of colors in the full data. We do this only with the test data, since it is smaller and the notebook will execute faster, but you can easily do the same with the training data."
   ]
  },
  {
   "cell_type": "markdown",
   "id": "118f716d",
   "metadata": {},
   "source": [
    "# Prerequisites"
   ]
  },
  {
   "cell_type": "code",
   "execution_count": 1,
   "id": "cf086772",
   "metadata": {},
   "outputs": [],
   "source": [
    "import numpy as np\n",
    "from pathlib import Path\n",
    "\n",
    "import torch\n",
    "from torchvision.transforms import Compose\n",
    "from torchvision.datasets import CIFAR10\n",
    "\n",
    "from hyperpyper.transforms import (FileToPIL, PILtoHist)\n",
    "\n",
    "from hyperpyper.aggregator import DataAggregator\n",
    "\n",
    "from hyperpyper.utils import VisionDatasetDumper\n",
    "from hyperpyper.utils import FolderScanner as fs\n",
    "\n",
    "import matplotlib.pyplot as plt\n",
    "\n",
    "random_state = 23"
   ]
  },
  {
   "cell_type": "code",
   "execution_count": 2,
   "id": "ef41a798",
   "metadata": {},
   "outputs": [],
   "source": [
    "ROOT_PATH = Path.home() / \"Downloads\" / \"data\"\n",
    "\n",
    "DATA_PATH = ROOT_PATH / \"CIFAR10\"\n",
    "\n",
    "DATA_PATH_TEST = Path(DATA_PATH, \"test\")"
   ]
  },
  {
   "cell_type": "markdown",
   "id": "2fb2569e",
   "metadata": {},
   "source": [
    "## Function to plot the precomputed histograms"
   ]
  },
  {
   "cell_type": "code",
   "execution_count": 3,
   "id": "45d868ca",
   "metadata": {},
   "outputs": [],
   "source": [
    "def plot_histograms(histograms):\n",
    "    n_cols = len(histograms)\n",
    "\n",
    "    fig, axes = plt.subplots(nrows=1, ncols=n_cols, figsize=(4*len(histograms), 4))\n",
    "\n",
    "    if n_cols==1:\n",
    "        axes = np.array([axes])\n",
    "\n",
    "    for h,ax in zip(histograms, axes):\n",
    "        ax.bar(x=range(len(h)), height=h)\n",
    "\n",
    "    return fig"
   ]
  },
  {
   "cell_type": "markdown",
   "id": "161fd028",
   "metadata": {},
   "source": [
    "## Create CIFAR10 test dataset organized in subfolders indicating the corresponding class label\n",
    "The VisionDatasetDumper handles the download and the creation of a folder structure where images are stored. They can then be used as the starting point for experiments."
   ]
  },
  {
   "cell_type": "code",
   "execution_count": 4,
   "id": "56f6c72f",
   "metadata": {},
   "outputs": [
    {
     "name": "stdout",
     "output_type": "stream",
     "text": [
      "Files already downloaded and verified\n"
     ]
    }
   ],
   "source": [
    "test_dataset = VisionDatasetDumper(CIFAR10, root=DATA_PATH, dst=DATA_PATH_TEST, train=False).dump()"
   ]
  },
  {
   "cell_type": "markdown",
   "id": "d84a414b",
   "metadata": {},
   "source": [
    "### Retrieve a list of .png files"
   ]
  },
  {
   "cell_type": "code",
   "execution_count": 5,
   "id": "68fb13b2",
   "metadata": {},
   "outputs": [
    {
     "data": {
      "text/plain": [
       "10000"
      ]
     },
     "execution_count": 5,
     "metadata": {},
     "output_type": "execute_result"
    }
   ],
   "source": [
    "test_files = fs.get_files(DATA_PATH_TEST, extensions='.png', recursive=True)\n",
    "len(test_files)"
   ]
  },
  {
   "cell_type": "markdown",
   "id": "875aa994",
   "metadata": {},
   "source": [
    "## Define Transformation pipeline\n",
    "Notice, that we have a FileToPIL Transformation that handles the loading of the image. This enables us to use the standard Aggregator, where we don't need to take care of a DataSet or DataLoader instantiation.\n",
    "All we need to pass as arguments is a file list and the transformation pipeline, and optionally a batch size."
   ]
  },
  {
   "cell_type": "code",
   "execution_count": 6,
   "id": "420dd4f1",
   "metadata": {},
   "outputs": [],
   "source": [
    "transform_pipeline = Compose([\n",
    "    FileToPIL(),\n",
    "    PILtoHist(bins=64),\n",
    "])"
   ]
  },
  {
   "cell_type": "code",
   "execution_count": 7,
   "id": "6f5cfb8f",
   "metadata": {},
   "outputs": [],
   "source": [
    "agg = DataAggregator(test_files, transforms=transform_pipeline, batch_size=1000)\n",
    "\n",
    "test_hist_result, test_hist_files = agg.transform()"
   ]
  },
  {
   "cell_type": "markdown",
   "id": "2302a1bc",
   "metadata": {},
   "source": [
    "## Average the histograms and plot\n",
    "Notice that the Aggregator yields the full batch with respect to each data point. We cannot simply add a transform in the pipeline that operates on the full batch, hence we must take the average after aggregating the full batch to end up with histograms of the full batch."
   ]
  },
  {
   "cell_type": "code",
   "execution_count": 8,
   "id": "e8dcd6db",
   "metadata": {},
   "outputs": [
    {
     "data": {
      "image/png": "[encoded data removed]",
      "text/plain": [
       "<Figure size 1200x400 with 3 Axes>"
      ]
     },
     "metadata": {},
     "output_type": "display_data"
    }
   ],
   "source": [
    "test_hist_avg = torch.mean(test_hist_result.float(), dim=0)\n",
    "\n",
    "fig = plot_histograms(test_hist_avg)"
   ]
  },
  {
   "cell_type": "markdown",
   "id": "38de464a",
   "metadata": {},
   "source": [
    "## Another pipeline to process grayscale images\n",
    "Simply using ```mode='L'``` as argument for image loading turns the image into a grayscale version, and the remaining components of the pipeline act accordingly, leading to just a single histogram instead of three."
   ]
  },
  {
   "cell_type": "code",
   "execution_count": 9,
   "id": "74fe4b38",
   "metadata": {},
   "outputs": [],
   "source": [
    "transform_pipeline = Compose([\n",
    "    FileToPIL(mode='L'),\n",
    "    PILtoHist(bins=64),\n",
    "])"
   ]
  },
  {
   "cell_type": "code",
   "execution_count": 10,
   "id": "f0512ead",
   "metadata": {},
   "outputs": [],
   "source": [
    "agg = DataAggregator(test_files, transforms=transform_pipeline, batch_size=1000)\n",
    "\n",
    "test_hist_result, test_hist_files = agg.transform()"
   ]
  },
  {
   "cell_type": "code",
   "execution_count": 11,
   "id": "63982949",
   "metadata": {},
   "outputs": [
    {
     "data": {
      "image/png": "[encoded data removed]",
      "text/plain": [
       "<Figure size 400x400 with 1 Axes>"
      ]
     },
     "metadata": {},
     "output_type": "display_data"
    }
   ],
   "source": [
    "test_hist_avg = torch.mean(test_hist_result.float(), dim=0)\n",
    "\n",
    "fig = plot_histograms(test_hist_avg)"
   ]
  }
 ],
 "metadata": {
  "kernelspec": {
   "display_name": "Python 3 (ipykernel)",
   "language": "python",
   "name": "python3"
  },
  "language_info": {
   "codemirror_mode": {
    "name": "ipython",
    "version": 3
   },
   "file_extension": ".py",
   "mimetype": "text/x-python",
   "name": "python",
   "nbconvert_exporter": "python",
   "pygments_lexer": "ipython3",
   "version": "3.10.13"
  }
 },
 "nbformat": 4,
 "nbformat_minor": 5
}
