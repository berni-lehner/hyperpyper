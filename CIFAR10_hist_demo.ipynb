{
 "cells": [
  {
   "cell_type": "markdown",
   "id": "b5bbc5b3",
   "metadata": {},
   "source": [
    "# Demo with CIFAR10 data and image preview of embedded data points\n",
    "For this, we need to have CIFAR10 data organized in subfolders (one for each class). We can then use the standard Aggregator, which returns an image and the corresponding filename.\n",
    "We use the image data to extract the embeddings from a pretrained Resnet, and reduce the dimensionality further with UMAP down to just 2 dimensions.\n",
    "Then, we use a scatter plot that additionally plots the corresponding images when we hover over a data point with the mouse pointer.\n",
    "We do this only with the test data, since it is smaller and the notebook will execute faster, but you can easily do the same with the training data."
   ]
  },
  {
   "cell_type": "markdown",
   "id": "118f716d",
   "metadata": {},
   "source": [
    "# Prerequisites"
   ]
  },
  {
   "cell_type": "code",
   "execution_count": 1,
   "id": "cf086772",
   "metadata": {},
   "outputs": [],
   "source": [
    "import numpy as np\n",
    "from pathlib import Path\n",
    "\n",
    "import torch\n",
    "from torch.utils.data import DataLoader\n",
    "\n",
    "import torchvision\n",
    "from torchvision.transforms import Compose, ToTensor, Grayscale, Normalize, Resize\n",
    "from torchvision import transforms\n",
    "import torchvision.transforms as transforms\n",
    "from torchvision.models import resnet18\n",
    "\n",
    "\n",
    "\n",
    "\n",
    "from transights.utils import FolderScanner as fs\n",
    "from transights.utils import Pickler\n",
    "from transights.transforms import (FileToPIL,\n",
    "                             PILToNumpy,\n",
    "                             PILtoHist,\n",
    "                             FlattenArray,\n",
    "                             DebugTransform,\n",
    "                             ProjectTransform,\n",
    "                             PyTorchOutput,\n",
    "                             PyTorchEmbedding,\n",
    "                             ToDevice,\n",
    "                             FlattenTensor,\n",
    "                             CachingTransform)\n",
    "\n",
    "from transights.aggregator import DataAggregator\n",
    "\n",
    "import matplotlib.pyplot as plt\n",
    "\n",
    "import plotly.graph_objs as go\n",
    "import plotly.express as px\n",
    "import ipywidgets as widgets\n",
    "\n",
    "\n",
    "random_state = 23"
   ]
  },
  {
   "cell_type": "code",
   "execution_count": 2,
   "id": "0e284b05",
   "metadata": {},
   "outputs": [],
   "source": [
    "def load_image(filename: str):\n",
    "    with open(filename, \"rb\") as f:\n",
    "            im = f.read()\n",
    "    return im\n",
    "\n",
    "def plot_2d(data, color=None, hover_name=None):\n",
    "    fig = px.scatter(x=data[:, 0],\n",
    "                     y=data[:, 1],\n",
    "                     color=color,\n",
    "                     hover_name=hover_name)\n",
    "    fig.update_traces(marker=dict(size=5,\n",
    "                                  line=dict(color='black',\n",
    "                                            width=0.1)))\n",
    "\n",
    "    fig.update_layout(width=1000, height=800)\n",
    "\n",
    "    img = widgets.Image(format='png', width=128)\n",
    "    img.value = load_image(hover_name[0])\n",
    "    \n",
    "    def update(trace, points, state):\n",
    "        if not points.point_inds:\n",
    "            return\n",
    "        \n",
    "        ind = points.point_inds[0]\n",
    "        fname = hover_name[ind]\n",
    "        img.value = load_image(fname)\n",
    "\n",
    "    fig = go.FigureWidget(fig)\n",
    "    #fig.data[0].on_click(update)\n",
    "    fig.data[0].on_hover(update)\n",
    "\n",
    "    layout = widgets.Layout(\n",
    "        width='100%',\n",
    "        height='',\n",
    "        flex_flow='row',\n",
    "        display='flex'\n",
    "    )\n",
    "\n",
    "    return widgets.Box([fig, widgets.VBox([widgets.Label(), img, widgets.Label()])], layout=layout)\n"
   ]
  },
  {
   "cell_type": "code",
   "execution_count": 3,
   "id": "4300f7f9",
   "metadata": {},
   "outputs": [],
   "source": [
    "import ssl\n",
    "# this prevents the following error when trying to download the dataset:\n",
    "# SSLCertVerificationError: [SSL: CERTIFICATE_VERIFY_FAILED] certificate verify failed: certificate has expired (_ssl.c:1007)\n",
    "ssl._create_default_https_context = ssl._create_unverified_context"
   ]
  },
  {
   "cell_type": "code",
   "execution_count": 4,
   "id": "4e52b0a8",
   "metadata": {},
   "outputs": [],
   "source": [
    "#DATA_PATH = Path.cwd() / \"data\" / \"CIFAR10\"\n",
    "DATA_PATH = Path.home() / \"Documents\" / \"data\" / \"CIFAR10\"\n",
    "\n",
    "DATA_PATH_TRAIN = Path(DATA_PATH, \"train\")\n",
    "DATA_PATH_TEST = Path(DATA_PATH, \"test\")"
   ]
  },
  {
   "cell_type": "code",
   "execution_count": 5,
   "id": "d0a08a37",
   "metadata": {},
   "outputs": [
    {
     "data": {
      "text/plain": [
       "WindowsPath('C:/Users/Bernhard/Documents/data/CIFAR10')"
      ]
     },
     "execution_count": 5,
     "metadata": {},
     "output_type": "execute_result"
    }
   ],
   "source": [
    "DATA_PATH"
   ]
  },
  {
   "cell_type": "markdown",
   "id": "aeef93ba",
   "metadata": {},
   "source": [
    "## Create CIFAR10 dataset organized in subfolders indicating class"
   ]
  },
  {
   "cell_type": "code",
   "execution_count": 6,
   "id": "2f5b4c6d",
   "metadata": {},
   "outputs": [],
   "source": [
    "def prepare_CIFAR10(dataset, root):\n",
    "    # Create subfolders for each class label\n",
    "    for class_label in range(10):\n",
    "        class_dir = Path(root, str(class_label))\n",
    "        class_dir.mkdir(parents=True, exist_ok=True)\n",
    "\n",
    "    # Organize the dataset into subfolders\n",
    "    for idx, (image, label) in enumerate(dataset):\n",
    "        class_dir = Path(root, str(label))\n",
    "        image_path = Path(class_dir, f\"{idx}.png\")\n",
    "        torchvision.utils.save_image(image, image_path)\n"
   ]
  },
  {
   "cell_type": "code",
   "execution_count": 7,
   "id": "54876fd6",
   "metadata": {},
   "outputs": [
    {
     "name": "stdout",
     "output_type": "stream",
     "text": [
      "Files already downloaded and verified\n"
     ]
    }
   ],
   "source": [
    "transform = transforms.Compose(\n",
    "    [\n",
    "        transforms.ToTensor(),\n",
    "    ]\n",
    ")\n",
    "\n",
    "train_dataset = torchvision.datasets.CIFAR10(root=DATA_PATH, train=True, transform=transform, download=True)\n",
    "\n",
    "if not DATA_PATH_TRAIN.exists():\n",
    "    prepare_CIFAR10(train_dataset, DATA_PATH_TRAIN)"
   ]
  },
  {
   "cell_type": "code",
   "execution_count": 8,
   "id": "3c676a3b",
   "metadata": {},
   "outputs": [
    {
     "name": "stdout",
     "output_type": "stream",
     "text": [
      "Files already downloaded and verified\n"
     ]
    }
   ],
   "source": [
    "test_dataset = torchvision.datasets.CIFAR10(root=DATA_PATH, train=False, transform=transform, download=True)\n",
    "\n",
    "if not DATA_PATH_TEST.exists():\n",
    "    prepare_CIFAR10(test_dataset, DATA_PATH_TEST)"
   ]
  },
  {
   "cell_type": "code",
   "execution_count": 9,
   "id": "bf6b9a4d",
   "metadata": {},
   "outputs": [
    {
     "name": "stdout",
     "output_type": "stream",
     "text": [
      "Running on device: CUDA\n"
     ]
    }
   ],
   "source": [
    "DEVICE = \"cuda\" if torch.cuda.is_available() else \"cpu\"\n",
    "print(\"Running on device:\", DEVICE.upper())"
   ]
  },
  {
   "cell_type": "code",
   "execution_count": 10,
   "id": "c7b8f6b7",
   "metadata": {},
   "outputs": [
    {
     "data": {
      "text/plain": [
       "<All keys matched successfully>"
      ]
     },
     "execution_count": 10,
     "metadata": {},
     "output_type": "execute_result"
    }
   ],
   "source": [
    "weights_pretrained = torch.load(\"weights_resnet18_cifar10.pth\", map_location=DEVICE)\n",
    "\n",
    "# load model with pre-trained weights\n",
    "model = resnet18(num_classes=10)\n",
    "model.load_state_dict(weights_pretrained)"
   ]
  },
  {
   "cell_type": "code",
   "execution_count": 11,
   "id": "68fb13b2",
   "metadata": {},
   "outputs": [
    {
     "data": {
      "text/plain": [
       "50000"
      ]
     },
     "execution_count": 11,
     "metadata": {},
     "output_type": "execute_result"
    }
   ],
   "source": [
    "train_files = fs.get_files(DATA_PATH_TRAIN, extensions='.png', recursive=True)\n",
    "len(train_files)"
   ]
  },
  {
   "cell_type": "code",
   "execution_count": 12,
   "id": "b3ac0cf8",
   "metadata": {},
   "outputs": [
    {
     "data": {
      "text/plain": [
       "10000"
      ]
     },
     "execution_count": 12,
     "metadata": {},
     "output_type": "execute_result"
    }
   ],
   "source": [
    "test_files = fs.get_files(DATA_PATH_TEST, extensions='.png', recursive=True)\n",
    "len(test_files)"
   ]
  },
  {
   "cell_type": "markdown",
   "id": "875aa994",
   "metadata": {},
   "source": [
    "## Define Transformation pipeline\n",
    "Notice, that we have a FileToPIL Transformation that handles the loading of the image. This enables us to use the standard Aggregator, where we don't need to take care of a DataSet or DataLoader instantiation.\n",
    "All we need to pass as arguments is a file list and the transformation pipeline, and optionally a batch size."
   ]
  },
  {
   "cell_type": "code",
   "execution_count": 13,
   "id": "420dd4f1",
   "metadata": {},
   "outputs": [],
   "source": [
    "# Create the transformation pipeline\n",
    "transform_pipeline = Compose([\n",
    "    FileToPIL(),\n",
    "    PILtoHist(bins=64),\n",
    "    FlattenArray(),\n",
    "])"
   ]
  },
  {
   "cell_type": "markdown",
   "id": "6db43ec5",
   "metadata": {},
   "source": [
    "## Instantiate Aggregator and extract embeddings\n",
    "The images are stored in the resulting dict as 'item', and the filenames as 'file'."
   ]
  },
  {
   "cell_type": "code",
   "execution_count": 14,
   "id": "6f5cfb8f",
   "metadata": {},
   "outputs": [],
   "source": [
    "agg = DataAggregator(test_files, transforms=transform_pipeline, batch_size=32)\n",
    "\n",
    "test_hist_result = agg.transform()"
   ]
  },
  {
   "cell_type": "code",
   "execution_count": 15,
   "id": "34acc08a",
   "metadata": {},
   "outputs": [],
   "source": [
    "# Create the transformation pipeline\n",
    "transform_pipeline = Compose([\n",
    "    FileToPIL(),\n",
    "    PILToNumpy(),\n",
    "    FlattenArray(),\n",
    "])\n",
    "\n",
    "agg = DataAggregator(test_files, transforms=transform_pipeline, batch_size=32)\n",
    "\n",
    "test_PIL_result = agg.transform()"
   ]
  },
  {
   "cell_type": "code",
   "execution_count": 16,
   "id": "fcbffd96",
   "metadata": {},
   "outputs": [
    {
     "data": {
      "text/plain": [
       "torch.Size([10000, 3072])"
      ]
     },
     "execution_count": 16,
     "metadata": {},
     "output_type": "execute_result"
    }
   ],
   "source": [
    "test_PIL_result['item'].shape"
   ]
  },
  {
   "cell_type": "code",
   "execution_count": 17,
   "id": "19331866",
   "metadata": {},
   "outputs": [
    {
     "data": {
      "text/plain": [
       "torch.Size([10000, 192])"
      ]
     },
     "execution_count": 17,
     "metadata": {},
     "output_type": "execute_result"
    }
   ],
   "source": [
    "test_hist_result['item'].shape"
   ]
  },
  {
   "cell_type": "code",
   "execution_count": 78,
   "id": "b5a0ebd6",
   "metadata": {},
   "outputs": [
    {
     "data": {
      "application/vnd.plotly.v1+json": {
       "config": {
        "plotlyServerURL": "https://plot.ly"
       },
       "data": [
        {
         "alignmentgroup": "True",
         "hovertemplate": "variable=0<br>index=%{x}<br>value=%{y}<extra></extra>",
         "legendgroup": "0",
         "marker": {
          "color": "#636efa",
          "pattern": {
           "shape": ""
          }
         },
         "name": "0",
         "offsetgroup": "0",
         "orientation": "v",
         "showlegend": true,
         "textposition": "auto",
         "type": "bar",
         "x": [
          0,
          1,
          2,
          3,
          4,
          5,
          6,
          7,
          8,
          9,
          10,
          11,
          12,
          13,
          14,
          15,
          16,
          17,
          18,
          19,
          20,
          21,
          22,
          23,
          24,
          25,
          26,
          27,
          28,
          29,
          30,
          31,
          32,
          33,
          34,
          35,
          36,
          37,
          38,
          39,
          40,
          41,
          42,
          43,
          44,
          45,
          46,
          47,
          48,
          49,
          50,
          51,
          52,
          53,
          54,
          55,
          56,
          57,
          58,
          59,
          60,
          61,
          62,
          63,
          64,
          65,
          66,
          67,
          68,
          69,
          70,
          71,
          72,
          73,
          74,
          75,
          76,
          77,
          78,
          79,
          80,
          81,
          82,
          83,
          84,
          85,
          86,
          87,
          88,
          89,
          90,
          91,
          92,
          93,
          94,
          95,
          96,
          97,
          98,
          99,
          100,
          101,
          102,
          103,
          104,
          105,
          106,
          107,
          108,
          109,
          110,
          111,
          112,
          113,
          114,
          115,
          116,
          117,
          118,
          119,
          120,
          121,
          122,
          123,
          124,
          125,
          126,
          127,
          128,
          129,
          130,
          131,
          132,
          133,
          134,
          135,
          136,
          137,
          138,
          139,
          140,
          141,
          142,
          143,
          144,
          145,
          146,
          147,
          148,
          149,
          150,
          151,
          152,
          153,
          154,
          155,
          156,
          157,
          158,
          159,
          160,
          161,
          162,
          163,
          164,
          165,
          166,
          167,
          168,
          169,
          170,
          171,
          172,
          173,
          174,
          175,
          176,
          177,
          178,
          179,
          180,
          181,
          182,
          183,
          184,
          185,
          186,
          187,
          188,
          189,
          190,
          191
         ],
         "xaxis": "x",
         "y": [
          0,
          0,
          0,
          0,
          0,
          0,
          0,
          0,
          0,
          0,
          0,
          0,
          0,
          0,
          0,
          0,
          0,
          4,
          8,
          8,
          11,
          5,
          8,
          3,
          4,
          7,
          4,
          3,
          4,
          7,
          4,
          4,
          3,
          2,
          5,
          4,
          7,
          6,
          4,
          9,
          10,
          9,
          6,
          8,
          4,
          8,
          20,
          25,
          62,
          115,
          134,
          79,
          141,
          130,
          84,
          43,
          12,
          4,
          4,
          2,
          0,
          0,
          0,
          0,
          0,
          0,
          0,
          0,
          0,
          0,
          0,
          0,
          0,
          0,
          0,
          0,
          0,
          0,
          0,
          0,
          0,
          4,
          8,
          8,
          11,
          5,
          8,
          3,
          4,
          7,
          4,
          3,
          4,
          7,
          4,
          4,
          3,
          2,
          5,
          4,
          7,
          6,
          4,
          9,
          10,
          9,
          6,
          8,
          4,
          8,
          20,
          25,
          62,
          115,
          134,
          79,
          141,
          130,
          84,
          43,
          12,
          4,
          4,
          2,
          0,
          0,
          0,
          0,
          0,
          0,
          0,
          0,
          0,
          0,
          0,
          0,
          0,
          0,
          0,
          0,
          0,
          0,
          0,
          0,
          0,
          4,
          8,
          8,
          11,
          5,
          8,
          3,
          4,
          7,
          4,
          3,
          4,
          7,
          4,
          4,
          3,
          2,
          5,
          4,
          7,
          6,
          4,
          9,
          10,
          9,
          6,
          8,
          4,
          8,
          20,
          25,
          62,
          115,
          134,
          79,
          141,
          130,
          84,
          43,
          12,
          4,
          4,
          2,
          0,
          0,
          0,
          0
         ],
         "yaxis": "y"
        }
       ],
       "layout": {
        "barmode": "relative",
        "legend": {
         "title": {
          "text": "variable"
         },
         "tracegroupgap": 0
        },
        "margin": {
         "t": 60
        },
        "template": {
         "data": {
          "bar": [
           {
            "error_x": {
             "color": "#2a3f5f"
            },
            "error_y": {
             "color": "#2a3f5f"
            },
            "marker": {
             "line": {
              "color": "#E5ECF6",
              "width": 0.5
             },
             "pattern": {
              "fillmode": "overlay",
              "size": 10,
              "solidity": 0.2
             }
            },
            "type": "bar"
           }
          ],
          "barpolar": [
           {
            "marker": {
             "line": {
              "color": "#E5ECF6",
              "width": 0.5
             },
             "pattern": {
              "fillmode": "overlay",
              "size": 10,
              "solidity": 0.2
             }
            },
            "type": "barpolar"
           }
          ],
          "carpet": [
           {
            "aaxis": {
             "endlinecolor": "#2a3f5f",
             "gridcolor": "white",
             "linecolor": "white",
             "minorgridcolor": "white",
             "startlinecolor": "#2a3f5f"
            },
            "baxis": {
             "endlinecolor": "#2a3f5f",
             "gridcolor": "white",
             "linecolor": "white",
             "minorgridcolor": "white",
             "startlinecolor": "#2a3f5f"
            },
            "type": "carpet"
           }
          ],
          "choropleth": [
           {
            "colorbar": {
             "outlinewidth": 0,
             "ticks": ""
            },
            "type": "choropleth"
           }
          ],
          "contour": [
           {
            "colorbar": {
             "outlinewidth": 0,
             "ticks": ""
            },
            "colorscale": [
             [
              0,
              "#0d0887"
             ],
             [
              0.1111111111111111,
              "#46039f"
             ],
             [
              0.2222222222222222,
              "#7201a8"
             ],
             [
              0.3333333333333333,
              "#9c179e"
             ],
             [
              0.4444444444444444,
              "#bd3786"
             ],
             [
              0.5555555555555556,
              "#d8576b"
             ],
             [
              0.6666666666666666,
              "#ed7953"
             ],
             [
              0.7777777777777778,
              "#fb9f3a"
             ],
             [
              0.8888888888888888,
              "#fdca26"
             ],
             [
              1,
              "#f0f921"
             ]
            ],
            "type": "contour"
           }
          ],
          "contourcarpet": [
           {
            "colorbar": {
             "outlinewidth": 0,
             "ticks": ""
            },
            "type": "contourcarpet"
           }
          ],
          "heatmap": [
           {
            "colorbar": {
             "outlinewidth": 0,
             "ticks": ""
            },
            "colorscale": [
             [
              0,
              "#0d0887"
             ],
             [
              0.1111111111111111,
              "#46039f"
             ],
             [
              0.2222222222222222,
              "#7201a8"
             ],
             [
              0.3333333333333333,
              "#9c179e"
             ],
             [
              0.4444444444444444,
              "#bd3786"
             ],
             [
              0.5555555555555556,
              "#d8576b"
             ],
             [
              0.6666666666666666,
              "#ed7953"
             ],
             [
              0.7777777777777778,
              "#fb9f3a"
             ],
             [
              0.8888888888888888,
              "#fdca26"
             ],
             [
              1,
              "#f0f921"
             ]
            ],
            "type": "heatmap"
           }
          ],
          "heatmapgl": [
           {
            "colorbar": {
             "outlinewidth": 0,
             "ticks": ""
            },
            "colorscale": [
             [
              0,
              "#0d0887"
             ],
             [
              0.1111111111111111,
              "#46039f"
             ],
             [
              0.2222222222222222,
              "#7201a8"
             ],
             [
              0.3333333333333333,
              "#9c179e"
             ],
             [
              0.4444444444444444,
              "#bd3786"
             ],
             [
              0.5555555555555556,
              "#d8576b"
             ],
             [
              0.6666666666666666,
              "#ed7953"
             ],
             [
              0.7777777777777778,
              "#fb9f3a"
             ],
             [
              0.8888888888888888,
              "#fdca26"
             ],
             [
              1,
              "#f0f921"
             ]
            ],
            "type": "heatmapgl"
           }
          ],
          "histogram": [
           {
            "marker": {
             "pattern": {
              "fillmode": "overlay",
              "size": 10,
              "solidity": 0.2
             }
            },
            "type": "histogram"
           }
          ],
          "histogram2d": [
           {
            "colorbar": {
             "outlinewidth": 0,
             "ticks": ""
            },
            "colorscale": [
             [
              0,
              "#0d0887"
             ],
             [
              0.1111111111111111,
              "#46039f"
             ],
             [
              0.2222222222222222,
              "#7201a8"
             ],
             [
              0.3333333333333333,
              "#9c179e"
             ],
             [
              0.4444444444444444,
              "#bd3786"
             ],
             [
              0.5555555555555556,
              "#d8576b"
             ],
             [
              0.6666666666666666,
              "#ed7953"
             ],
             [
              0.7777777777777778,
              "#fb9f3a"
             ],
             [
              0.8888888888888888,
              "#fdca26"
             ],
             [
              1,
              "#f0f921"
             ]
            ],
            "type": "histogram2d"
           }
          ],
          "histogram2dcontour": [
           {
            "colorbar": {
             "outlinewidth": 0,
             "ticks": ""
            },
            "colorscale": [
             [
              0,
              "#0d0887"
             ],
             [
              0.1111111111111111,
              "#46039f"
             ],
             [
              0.2222222222222222,
              "#7201a8"
             ],
             [
              0.3333333333333333,
              "#9c179e"
             ],
             [
              0.4444444444444444,
              "#bd3786"
             ],
             [
              0.5555555555555556,
              "#d8576b"
             ],
             [
              0.6666666666666666,
              "#ed7953"
             ],
             [
              0.7777777777777778,
              "#fb9f3a"
             ],
             [
              0.8888888888888888,
              "#fdca26"
             ],
             [
              1,
              "#f0f921"
             ]
            ],
            "type": "histogram2dcontour"
           }
          ],
          "mesh3d": [
           {
            "colorbar": {
             "outlinewidth": 0,
             "ticks": ""
            },
            "type": "mesh3d"
           }
          ],
          "parcoords": [
           {
            "line": {
             "colorbar": {
              "outlinewidth": 0,
              "ticks": ""
             }
            },
            "type": "parcoords"
           }
          ],
          "pie": [
           {
            "automargin": true,
            "type": "pie"
           }
          ],
          "scatter": [
           {
            "fillpattern": {
             "fillmode": "overlay",
             "size": 10,
             "solidity": 0.2
            },
            "type": "scatter"
           }
          ],
          "scatter3d": [
           {
            "line": {
             "colorbar": {
              "outlinewidth": 0,
              "ticks": ""
             }
            },
            "marker": {
             "colorbar": {
              "outlinewidth": 0,
              "ticks": ""
             }
            },
            "type": "scatter3d"
           }
          ],
          "scattercarpet": [
           {
            "marker": {
             "colorbar": {
              "outlinewidth": 0,
              "ticks": ""
             }
            },
            "type": "scattercarpet"
           }
          ],
          "scattergeo": [
           {
            "marker": {
             "colorbar": {
              "outlinewidth": 0,
              "ticks": ""
             }
            },
            "type": "scattergeo"
           }
          ],
          "scattergl": [
           {
            "marker": {
             "colorbar": {
              "outlinewidth": 0,
              "ticks": ""
             }
            },
            "type": "scattergl"
           }
          ],
          "scattermapbox": [
           {
            "marker": {
             "colorbar": {
              "outlinewidth": 0,
              "ticks": ""
             }
            },
            "type": "scattermapbox"
           }
          ],
          "scatterpolar": [
           {
            "marker": {
             "colorbar": {
              "outlinewidth": 0,
              "ticks": ""
             }
            },
            "type": "scatterpolar"
           }
          ],
          "scatterpolargl": [
           {
            "marker": {
             "colorbar": {
              "outlinewidth": 0,
              "ticks": ""
             }
            },
            "type": "scatterpolargl"
           }
          ],
          "scatterternary": [
           {
            "marker": {
             "colorbar": {
              "outlinewidth": 0,
              "ticks": ""
             }
            },
            "type": "scatterternary"
           }
          ],
          "surface": [
           {
            "colorbar": {
             "outlinewidth": 0,
             "ticks": ""
            },
            "colorscale": [
             [
              0,
              "#0d0887"
             ],
             [
              0.1111111111111111,
              "#46039f"
             ],
             [
              0.2222222222222222,
              "#7201a8"
             ],
             [
              0.3333333333333333,
              "#9c179e"
             ],
             [
              0.4444444444444444,
              "#bd3786"
             ],
             [
              0.5555555555555556,
              "#d8576b"
             ],
             [
              0.6666666666666666,
              "#ed7953"
             ],
             [
              0.7777777777777778,
              "#fb9f3a"
             ],
             [
              0.8888888888888888,
              "#fdca26"
             ],
             [
              1,
              "#f0f921"
             ]
            ],
            "type": "surface"
           }
          ],
          "table": [
           {
            "cells": {
             "fill": {
              "color": "#EBF0F8"
             },
             "line": {
              "color": "white"
             }
            },
            "header": {
             "fill": {
              "color": "#C8D4E3"
             },
             "line": {
              "color": "white"
             }
            },
            "type": "table"
           }
          ]
         },
         "layout": {
          "annotationdefaults": {
           "arrowcolor": "#2a3f5f",
           "arrowhead": 0,
           "arrowwidth": 1
          },
          "autotypenumbers": "strict",
          "coloraxis": {
           "colorbar": {
            "outlinewidth": 0,
            "ticks": ""
           }
          },
          "colorscale": {
           "diverging": [
            [
             0,
             "#8e0152"
            ],
            [
             0.1,
             "#c51b7d"
            ],
            [
             0.2,
             "#de77ae"
            ],
            [
             0.3,
             "#f1b6da"
            ],
            [
             0.4,
             "#fde0ef"
            ],
            [
             0.5,
             "#f7f7f7"
            ],
            [
             0.6,
             "#e6f5d0"
            ],
            [
             0.7,
             "#b8e186"
            ],
            [
             0.8,
             "#7fbc41"
            ],
            [
             0.9,
             "#4d9221"
            ],
            [
             1,
             "#276419"
            ]
           ],
           "sequential": [
            [
             0,
             "#0d0887"
            ],
            [
             0.1111111111111111,
             "#46039f"
            ],
            [
             0.2222222222222222,
             "#7201a8"
            ],
            [
             0.3333333333333333,
             "#9c179e"
            ],
            [
             0.4444444444444444,
             "#bd3786"
            ],
            [
             0.5555555555555556,
             "#d8576b"
            ],
            [
             0.6666666666666666,
             "#ed7953"
            ],
            [
             0.7777777777777778,
             "#fb9f3a"
            ],
            [
             0.8888888888888888,
             "#fdca26"
            ],
            [
             1,
             "#f0f921"
            ]
           ],
           "sequentialminus": [
            [
             0,
             "#0d0887"
            ],
            [
             0.1111111111111111,
             "#46039f"
            ],
            [
             0.2222222222222222,
             "#7201a8"
            ],
            [
             0.3333333333333333,
             "#9c179e"
            ],
            [
             0.4444444444444444,
             "#bd3786"
            ],
            [
             0.5555555555555556,
             "#d8576b"
            ],
            [
             0.6666666666666666,
             "#ed7953"
            ],
            [
             0.7777777777777778,
             "#fb9f3a"
            ],
            [
             0.8888888888888888,
             "#fdca26"
            ],
            [
             1,
             "#f0f921"
            ]
           ]
          },
          "colorway": [
           "#636efa",
           "#EF553B",
           "#00cc96",
           "#ab63fa",
           "#FFA15A",
           "#19d3f3",
           "#FF6692",
           "#B6E880",
           "#FF97FF",
           "#FECB52"
          ],
          "font": {
           "color": "#2a3f5f"
          },
          "geo": {
           "bgcolor": "white",
           "lakecolor": "white",
           "landcolor": "#E5ECF6",
           "showlakes": true,
           "showland": true,
           "subunitcolor": "white"
          },
          "hoverlabel": {
           "align": "left"
          },
          "hovermode": "closest",
          "mapbox": {
           "style": "light"
          },
          "paper_bgcolor": "white",
          "plot_bgcolor": "#E5ECF6",
          "polar": {
           "angularaxis": {
            "gridcolor": "white",
            "linecolor": "white",
            "ticks": ""
           },
           "bgcolor": "#E5ECF6",
           "radialaxis": {
            "gridcolor": "white",
            "linecolor": "white",
            "ticks": ""
           }
          },
          "scene": {
           "xaxis": {
            "backgroundcolor": "#E5ECF6",
            "gridcolor": "white",
            "gridwidth": 2,
            "linecolor": "white",
            "showbackground": true,
            "ticks": "",
            "zerolinecolor": "white"
           },
           "yaxis": {
            "backgroundcolor": "#E5ECF6",
            "gridcolor": "white",
            "gridwidth": 2,
            "linecolor": "white",
            "showbackground": true,
            "ticks": "",
            "zerolinecolor": "white"
           },
           "zaxis": {
            "backgroundcolor": "#E5ECF6",
            "gridcolor": "white",
            "gridwidth": 2,
            "linecolor": "white",
            "showbackground": true,
            "ticks": "",
            "zerolinecolor": "white"
           }
          },
          "shapedefaults": {
           "line": {
            "color": "#2a3f5f"
           }
          },
          "ternary": {
           "aaxis": {
            "gridcolor": "white",
            "linecolor": "white",
            "ticks": ""
           },
           "baxis": {
            "gridcolor": "white",
            "linecolor": "white",
            "ticks": ""
           },
           "bgcolor": "#E5ECF6",
           "caxis": {
            "gridcolor": "white",
            "linecolor": "white",
            "ticks": ""
           }
          },
          "title": {
           "x": 0.05
          },
          "xaxis": {
           "automargin": true,
           "gridcolor": "white",
           "linecolor": "white",
           "ticks": "",
           "title": {
            "standoff": 15
           },
           "zerolinecolor": "white",
           "zerolinewidth": 2
          },
          "yaxis": {
           "automargin": true,
           "gridcolor": "white",
           "linecolor": "white",
           "ticks": "",
           "title": {
            "standoff": 15
           },
           "zerolinecolor": "white",
           "zerolinewidth": 2
          }
         }
        },
        "xaxis": {
         "anchor": "y",
         "domain": [
          0,
          1
         ],
         "title": {
          "text": "index"
         }
        },
        "yaxis": {
         "anchor": "x",
         "domain": [
          0,
          1
         ],
         "title": {
          "text": "value"
         }
        }
       }
      }
     },
     "metadata": {},
     "output_type": "display_data"
    }
   ],
   "source": [
    "import plotly.express as px\n",
    "\n",
    "fig = px.bar(test_hist_result['item'][4])\n",
    "fig.show()"
   ]
  },
  {
   "cell_type": "code",
   "execution_count": 18,
   "id": "c79d38a9",
   "metadata": {},
   "outputs": [
    {
     "ename": "AssertionError",
     "evalue": "",
     "output_type": "error",
     "traceback": [
      "\u001b[1;31m---------------------------------------------------------------------------\u001b[0m",
      "\u001b[1;31mAssertionError\u001b[0m                            Traceback (most recent call last)",
      "\u001b[1;32me:\\Dropbox\\github\\transights\\CIFAR10_hist_demo.ipynb Cell 23\u001b[0m in \u001b[0;36m<cell line: 1>\u001b[1;34m()\u001b[0m\n\u001b[1;32m----> <a href='vscode-notebook-cell:/e%3A/Dropbox/github/transights/CIFAR10_hist_demo.ipynb#X34sZmlsZQ%3D%3D?line=0'>1</a>\u001b[0m \u001b[39massert\u001b[39;00m \u001b[39mFalse\u001b[39;00m\n",
      "\u001b[1;31mAssertionError\u001b[0m: "
     ]
    }
   ],
   "source": [
    "assert False"
   ]
  },
  {
   "cell_type": "code",
   "execution_count": 23,
   "id": "498dbbae",
   "metadata": {},
   "outputs": [],
   "source": [
    "from sklearn.neighbors import NearestNeighbors\n",
    "\n",
    "def compute_k_nearest_neighbors(histograms, K):\n",
    "    # Convert histograms to a numpy array for easier processing\n",
    "    histograms = np.array(histograms)\n",
    "\n",
    "    # Initialize Nearest Neighbors model\n",
    "    nn_model = NearestNeighbors(n_neighbors=K, metric='euclidean')\n",
    "   \n",
    "    # Fit the model to the histograms\n",
    "    nn_model.fit(histograms)\n",
    "   \n",
    "    # Find K-nearest neighbors for each histogram\n",
    "    _,neighbors_indices = nn_model.kneighbors(histograms, n_neighbors=K, return_distance=False)\n",
    "   \n",
    "    return neighbors_indices\n",
    "\n",
    "\n",
    "import numpy as np\n",
    "from sklearn.neighbors import NearestNeighbors\n",
    "\n",
    "def compute_nearest_neighbors_between_datasets(reference_histograms, query_histograms, K):\n",
    "    # Convert histograms to numpy arrays for easier processing\n",
    "    reference_histograms = np.array(reference_histograms)\n",
    "    query_histograms = np.array(query_histograms)\n",
    "\n",
    "    # Initialize Nearest Neighbors model with reference dataset\n",
    "    nn_model = NearestNeighbors(n_neighbors=K, metric='euclidean')\n",
    "    nn_model.fit(reference_histograms)\n",
    "\n",
    "    # Find K-nearest neighbors in the reference dataset for each query histogram\n",
    "    neighbors_indices = nn_model.kneighbors(query_histograms, n_neighbors=K, return_distance=False)\n",
    "\n",
    "    return neighbors_indices    "
   ]
  },
  {
   "cell_type": "code",
   "execution_count": 31,
   "id": "2822c32e",
   "metadata": {},
   "outputs": [],
   "source": [
    "def get_nearest_neighbour_idx(X):\n",
    "    nbrs = NearestNeighbors(n_neighbors=2).fit(X)#, algorithm='ball_tree').fit(X)\n",
    "    _, indices = nbrs.kneighbors(X)\n",
    "    \n",
    "    return indices"
   ]
  },
  {
   "cell_type": "code",
   "execution_count": 32,
   "id": "5564fd0f",
   "metadata": {},
   "outputs": [],
   "source": [
    "hist_neighbors_indices = get_nearest_neighbour_idx(test_hist_result['item'])\n",
    "hist_neighbors_indices"
   ]
  },
  {
   "cell_type": "code",
   "execution_count": 41,
   "id": "87571474",
   "metadata": {},
   "outputs": [
    {
     "data": {
      "text/plain": [
       "10000"
      ]
     },
     "execution_count": 41,
     "metadata": {},
     "output_type": "execute_result"
    }
   ],
   "source": [
    "test = np.unique(hist_neighbors_indices[:,0])\n",
    "len(test)"
   ]
  },
  {
   "cell_type": "code",
   "execution_count": 66,
   "id": "6d43b578",
   "metadata": {},
   "outputs": [
    {
     "data": {
      "text/plain": [
       "4886"
      ]
     },
     "execution_count": 66,
     "metadata": {},
     "output_type": "execute_result"
    }
   ],
   "source": [
    "test = np.unique(hist_neighbors_indices[:,1])\n",
    "len(test)"
   ]
  },
  {
   "cell_type": "code",
   "execution_count": 67,
   "id": "000e8e66",
   "metadata": {},
   "outputs": [
    {
     "data": {
      "text/plain": [
       "array([   0,    3,    4, ..., 9995, 9997, 9999], dtype=int64)"
      ]
     },
     "execution_count": 67,
     "metadata": {},
     "output_type": "execute_result"
    }
   ],
   "source": [
    "test"
   ]
  },
  {
   "cell_type": "code",
   "execution_count": 68,
   "id": "9b9e51da",
   "metadata": {},
   "outputs": [],
   "source": [
    "unique_hist_nns = hist_neighbors_indices[test,:]"
   ]
  },
  {
   "cell_type": "code",
   "execution_count": 69,
   "id": "2fea6b59",
   "metadata": {},
   "outputs": [
    {
     "data": {
      "text/plain": [
       "array([   0,    3,    4, ..., 9995, 9997, 9999], dtype=int64)"
      ]
     },
     "execution_count": 69,
     "metadata": {},
     "output_type": "execute_result"
    }
   ],
   "source": [
    "unique_hist_nns[:,0]"
   ]
  },
  {
   "cell_type": "code",
   "execution_count": 74,
   "id": "4d2f2916",
   "metadata": {},
   "outputs": [
    {
     "data": {
      "text/plain": [
       "array([6967,    4], dtype=int64)"
      ]
     },
     "execution_count": 74,
     "metadata": {},
     "output_type": "execute_result"
    }
   ],
   "source": [
    "unique_hist_nns[3531]"
   ]
  },
  {
   "cell_type": "code",
   "execution_count": 75,
   "id": "2e1524f1",
   "metadata": {},
   "outputs": [
    {
     "data": {
      "text/plain": [
       "array([   4, 6967], dtype=int64)"
      ]
     },
     "execution_count": 75,
     "metadata": {},
     "output_type": "execute_result"
    }
   ],
   "source": [
    "unique_hist_nns[2]"
   ]
  },
  {
   "cell_type": "code",
   "execution_count": 70,
   "id": "5f846ed5",
   "metadata": {},
   "outputs": [
    {
     "data": {
      "text/plain": [
       "array([   4,    5,    7, ..., 9995, 9997, 9999], dtype=int64)"
      ]
     },
     "execution_count": 70,
     "metadata": {},
     "output_type": "execute_result"
    }
   ],
   "source": [
    "common_values = np.intersect1d(unique_hist_nns[:,0], unique_hist_nns[:,1])\n",
    "common_values"
   ]
  },
  {
   "cell_type": "code",
   "execution_count": 51,
   "id": "40c15ac4",
   "metadata": {},
   "outputs": [
    {
     "data": {
      "text/plain": [
       "['C:\\\\Users\\\\Bernhard\\\\Documents\\\\data\\\\CIFAR10\\\\test\\\\0\\\\10.png',\n",
       " 'C:\\\\Users\\\\Bernhard\\\\Documents\\\\data\\\\CIFAR10\\\\test\\\\0\\\\1001.png',\n",
       " 'C:\\\\Users\\\\Bernhard\\\\Documents\\\\data\\\\CIFAR10\\\\test\\\\0\\\\1010.png',\n",
       " 'C:\\\\Users\\\\Bernhard\\\\Documents\\\\data\\\\CIFAR10\\\\test\\\\0\\\\1018.png',\n",
       " 'C:\\\\Users\\\\Bernhard\\\\Documents\\\\data\\\\CIFAR10\\\\test\\\\0\\\\1022.png',\n",
       " 'C:\\\\Users\\\\Bernhard\\\\Documents\\\\data\\\\CIFAR10\\\\test\\\\0\\\\1023.png',\n",
       " 'C:\\\\Users\\\\Bernhard\\\\Documents\\\\data\\\\CIFAR10\\\\test\\\\0\\\\1026.png',\n",
       " 'C:\\\\Users\\\\Bernhard\\\\Documents\\\\data\\\\CIFAR10\\\\test\\\\0\\\\1027.png',\n",
       " 'C:\\\\Users\\\\Bernhard\\\\Documents\\\\data\\\\CIFAR10\\\\test\\\\0\\\\1036.png',\n",
       " 'C:\\\\Users\\\\Bernhard\\\\Documents\\\\data\\\\CIFAR10\\\\test\\\\0\\\\1052.png',\n",
       " 'C:\\\\Users\\\\Bernhard\\\\Documents\\\\data\\\\CIFAR10\\\\test\\\\0\\\\1067.png',\n",
       " 'C:\\\\Users\\\\Bernhard\\\\Documents\\\\data\\\\CIFAR10\\\\test\\\\0\\\\1072.png',\n",
       " 'C:\\\\Users\\\\Bernhard\\\\Documents\\\\data\\\\CIFAR10\\\\test\\\\0\\\\1076.png',\n",
       " 'C:\\\\Users\\\\Bernhard\\\\Documents\\\\data\\\\CIFAR10\\\\test\\\\0\\\\1077.png',\n",
       " 'C:\\\\Users\\\\Bernhard\\\\Documents\\\\data\\\\CIFAR10\\\\test\\\\0\\\\1078.png',\n",
       " 'C:\\\\Users\\\\Bernhard\\\\Documents\\\\data\\\\CIFAR10\\\\test\\\\0\\\\1090.png',\n",
       " 'C:\\\\Users\\\\Bernhard\\\\Documents\\\\data\\\\CIFAR10\\\\test\\\\0\\\\1093.png',\n",
       " 'C:\\\\Users\\\\Bernhard\\\\Documents\\\\data\\\\CIFAR10\\\\test\\\\0\\\\1103.png',\n",
       " 'C:\\\\Users\\\\Bernhard\\\\Documents\\\\data\\\\CIFAR10\\\\test\\\\0\\\\1109.png',\n",
       " 'C:\\\\Users\\\\Bernhard\\\\Documents\\\\data\\\\CIFAR10\\\\test\\\\0\\\\111.png',\n",
       " 'C:\\\\Users\\\\Bernhard\\\\Documents\\\\data\\\\CIFAR10\\\\test\\\\0\\\\1137.png',\n",
       " 'C:\\\\Users\\\\Bernhard\\\\Documents\\\\data\\\\CIFAR10\\\\test\\\\0\\\\1152.png',\n",
       " 'C:\\\\Users\\\\Bernhard\\\\Documents\\\\data\\\\CIFAR10\\\\test\\\\0\\\\116.png',\n",
       " 'C:\\\\Users\\\\Bernhard\\\\Documents\\\\data\\\\CIFAR10\\\\test\\\\0\\\\1161.png',\n",
       " 'C:\\\\Users\\\\Bernhard\\\\Documents\\\\data\\\\CIFAR10\\\\test\\\\0\\\\1165.png',\n",
       " 'C:\\\\Users\\\\Bernhard\\\\Documents\\\\data\\\\CIFAR10\\\\test\\\\0\\\\1183.png',\n",
       " 'C:\\\\Users\\\\Bernhard\\\\Documents\\\\data\\\\CIFAR10\\\\test\\\\0\\\\1188.png',\n",
       " 'C:\\\\Users\\\\Bernhard\\\\Documents\\\\data\\\\CIFAR10\\\\test\\\\0\\\\1189.png',\n",
       " 'C:\\\\Users\\\\Bernhard\\\\Documents\\\\data\\\\CIFAR10\\\\test\\\\0\\\\1197.png',\n",
       " 'C:\\\\Users\\\\Bernhard\\\\Documents\\\\data\\\\CIFAR10\\\\test\\\\0\\\\1203.png',\n",
       " 'C:\\\\Users\\\\Bernhard\\\\Documents\\\\data\\\\CIFAR10\\\\test\\\\0\\\\1210.png',\n",
       " 'C:\\\\Users\\\\Bernhard\\\\Documents\\\\data\\\\CIFAR10\\\\test\\\\0\\\\1237.png',\n",
       " 'C:\\\\Users\\\\Bernhard\\\\Documents\\\\data\\\\CIFAR10\\\\test\\\\0\\\\1241.png',\n",
       " 'C:\\\\Users\\\\Bernhard\\\\Documents\\\\data\\\\CIFAR10\\\\test\\\\0\\\\125.png',\n",
       " 'C:\\\\Users\\\\Bernhard\\\\Documents\\\\data\\\\CIFAR10\\\\test\\\\0\\\\1266.png',\n",
       " 'C:\\\\Users\\\\Bernhard\\\\Documents\\\\data\\\\CIFAR10\\\\test\\\\0\\\\1295.png',\n",
       " 'C:\\\\Users\\\\Bernhard\\\\Documents\\\\data\\\\CIFAR10\\\\test\\\\0\\\\1310.png',\n",
       " 'C:\\\\Users\\\\Bernhard\\\\Documents\\\\data\\\\CIFAR10\\\\test\\\\0\\\\1319.png',\n",
       " 'C:\\\\Users\\\\Bernhard\\\\Documents\\\\data\\\\CIFAR10\\\\test\\\\0\\\\1322.png',\n",
       " 'C:\\\\Users\\\\Bernhard\\\\Documents\\\\data\\\\CIFAR10\\\\test\\\\0\\\\1323.png',\n",
       " 'C:\\\\Users\\\\Bernhard\\\\Documents\\\\data\\\\CIFAR10\\\\test\\\\0\\\\1343.png',\n",
       " 'C:\\\\Users\\\\Bernhard\\\\Documents\\\\data\\\\CIFAR10\\\\test\\\\0\\\\1365.png',\n",
       " 'C:\\\\Users\\\\Bernhard\\\\Documents\\\\data\\\\CIFAR10\\\\test\\\\0\\\\1397.png',\n",
       " 'C:\\\\Users\\\\Bernhard\\\\Documents\\\\data\\\\CIFAR10\\\\test\\\\0\\\\1409.png',\n",
       " 'C:\\\\Users\\\\Bernhard\\\\Documents\\\\data\\\\CIFAR10\\\\test\\\\0\\\\1434.png',\n",
       " 'C:\\\\Users\\\\Bernhard\\\\Documents\\\\data\\\\CIFAR10\\\\test\\\\0\\\\1440.png',\n",
       " 'C:\\\\Users\\\\Bernhard\\\\Documents\\\\data\\\\CIFAR10\\\\test\\\\0\\\\1446.png',\n",
       " 'C:\\\\Users\\\\Bernhard\\\\Documents\\\\data\\\\CIFAR10\\\\test\\\\0\\\\1461.png',\n",
       " 'C:\\\\Users\\\\Bernhard\\\\Documents\\\\data\\\\CIFAR10\\\\test\\\\0\\\\1463.png',\n",
       " 'C:\\\\Users\\\\Bernhard\\\\Documents\\\\data\\\\CIFAR10\\\\test\\\\0\\\\1485.png',\n",
       " 'C:\\\\Users\\\\Bernhard\\\\Documents\\\\data\\\\CIFAR10\\\\test\\\\0\\\\1514.png',\n",
       " 'C:\\\\Users\\\\Bernhard\\\\Documents\\\\data\\\\CIFAR10\\\\test\\\\0\\\\153.png',\n",
       " 'C:\\\\Users\\\\Bernhard\\\\Documents\\\\data\\\\CIFAR10\\\\test\\\\0\\\\154.png',\n",
       " 'C:\\\\Users\\\\Bernhard\\\\Documents\\\\data\\\\CIFAR10\\\\test\\\\0\\\\1555.png',\n",
       " 'C:\\\\Users\\\\Bernhard\\\\Documents\\\\data\\\\CIFAR10\\\\test\\\\0\\\\1568.png',\n",
       " 'C:\\\\Users\\\\Bernhard\\\\Documents\\\\data\\\\CIFAR10\\\\test\\\\0\\\\1573.png',\n",
       " 'C:\\\\Users\\\\Bernhard\\\\Documents\\\\data\\\\CIFAR10\\\\test\\\\0\\\\1574.png',\n",
       " 'C:\\\\Users\\\\Bernhard\\\\Documents\\\\data\\\\CIFAR10\\\\test\\\\0\\\\1579.png',\n",
       " 'C:\\\\Users\\\\Bernhard\\\\Documents\\\\data\\\\CIFAR10\\\\test\\\\0\\\\1596.png',\n",
       " 'C:\\\\Users\\\\Bernhard\\\\Documents\\\\data\\\\CIFAR10\\\\test\\\\0\\\\1617.png',\n",
       " 'C:\\\\Users\\\\Bernhard\\\\Documents\\\\data\\\\CIFAR10\\\\test\\\\0\\\\1646.png',\n",
       " 'C:\\\\Users\\\\Bernhard\\\\Documents\\\\data\\\\CIFAR10\\\\test\\\\0\\\\1651.png',\n",
       " 'C:\\\\Users\\\\Bernhard\\\\Documents\\\\data\\\\CIFAR10\\\\test\\\\0\\\\1652.png',\n",
       " 'C:\\\\Users\\\\Bernhard\\\\Documents\\\\data\\\\CIFAR10\\\\test\\\\0\\\\1664.png',\n",
       " 'C:\\\\Users\\\\Bernhard\\\\Documents\\\\data\\\\CIFAR10\\\\test\\\\0\\\\1686.png',\n",
       " 'C:\\\\Users\\\\Bernhard\\\\Documents\\\\data\\\\CIFAR10\\\\test\\\\0\\\\169.png',\n",
       " 'C:\\\\Users\\\\Bernhard\\\\Documents\\\\data\\\\CIFAR10\\\\test\\\\0\\\\1694.png',\n",
       " 'C:\\\\Users\\\\Bernhard\\\\Documents\\\\data\\\\CIFAR10\\\\test\\\\0\\\\1705.png',\n",
       " 'C:\\\\Users\\\\Bernhard\\\\Documents\\\\data\\\\CIFAR10\\\\test\\\\0\\\\1712.png',\n",
       " 'C:\\\\Users\\\\Bernhard\\\\Documents\\\\data\\\\CIFAR10\\\\test\\\\0\\\\1714.png',\n",
       " 'C:\\\\Users\\\\Bernhard\\\\Documents\\\\data\\\\CIFAR10\\\\test\\\\0\\\\1718.png',\n",
       " 'C:\\\\Users\\\\Bernhard\\\\Documents\\\\data\\\\CIFAR10\\\\test\\\\0\\\\1719.png',\n",
       " 'C:\\\\Users\\\\Bernhard\\\\Documents\\\\data\\\\CIFAR10\\\\test\\\\0\\\\1725.png',\n",
       " 'C:\\\\Users\\\\Bernhard\\\\Documents\\\\data\\\\CIFAR10\\\\test\\\\0\\\\1726.png',\n",
       " 'C:\\\\Users\\\\Bernhard\\\\Documents\\\\data\\\\CIFAR10\\\\test\\\\0\\\\1728.png',\n",
       " 'C:\\\\Users\\\\Bernhard\\\\Documents\\\\data\\\\CIFAR10\\\\test\\\\0\\\\1735.png',\n",
       " 'C:\\\\Users\\\\Bernhard\\\\Documents\\\\data\\\\CIFAR10\\\\test\\\\0\\\\1739.png',\n",
       " 'C:\\\\Users\\\\Bernhard\\\\Documents\\\\data\\\\CIFAR10\\\\test\\\\0\\\\1744.png',\n",
       " 'C:\\\\Users\\\\Bernhard\\\\Documents\\\\data\\\\CIFAR10\\\\test\\\\0\\\\1748.png',\n",
       " 'C:\\\\Users\\\\Bernhard\\\\Documents\\\\data\\\\CIFAR10\\\\test\\\\0\\\\1760.png',\n",
       " 'C:\\\\Users\\\\Bernhard\\\\Documents\\\\data\\\\CIFAR10\\\\test\\\\0\\\\1776.png',\n",
       " 'C:\\\\Users\\\\Bernhard\\\\Documents\\\\data\\\\CIFAR10\\\\test\\\\0\\\\1785.png',\n",
       " 'C:\\\\Users\\\\Bernhard\\\\Documents\\\\data\\\\CIFAR10\\\\test\\\\0\\\\1789.png',\n",
       " 'C:\\\\Users\\\\Bernhard\\\\Documents\\\\data\\\\CIFAR10\\\\test\\\\0\\\\179.png',\n",
       " 'C:\\\\Users\\\\Bernhard\\\\Documents\\\\data\\\\CIFAR10\\\\test\\\\0\\\\1796.png',\n",
       " 'C:\\\\Users\\\\Bernhard\\\\Documents\\\\data\\\\CIFAR10\\\\test\\\\0\\\\180.png',\n",
       " 'C:\\\\Users\\\\Bernhard\\\\Documents\\\\data\\\\CIFAR10\\\\test\\\\0\\\\1819.png',\n",
       " 'C:\\\\Users\\\\Bernhard\\\\Documents\\\\data\\\\CIFAR10\\\\test\\\\0\\\\1823.png',\n",
       " 'C:\\\\Users\\\\Bernhard\\\\Documents\\\\data\\\\CIFAR10\\\\test\\\\0\\\\1835.png',\n",
       " 'C:\\\\Users\\\\Bernhard\\\\Documents\\\\data\\\\CIFAR10\\\\test\\\\0\\\\1851.png',\n",
       " 'C:\\\\Users\\\\Bernhard\\\\Documents\\\\data\\\\CIFAR10\\\\test\\\\0\\\\1875.png',\n",
       " 'C:\\\\Users\\\\Bernhard\\\\Documents\\\\data\\\\CIFAR10\\\\test\\\\0\\\\1879.png',\n",
       " 'C:\\\\Users\\\\Bernhard\\\\Documents\\\\data\\\\CIFAR10\\\\test\\\\0\\\\189.png',\n",
       " 'C:\\\\Users\\\\Bernhard\\\\Documents\\\\data\\\\CIFAR10\\\\test\\\\0\\\\1898.png',\n",
       " 'C:\\\\Users\\\\Bernhard\\\\Documents\\\\data\\\\CIFAR10\\\\test\\\\0\\\\1902.png',\n",
       " 'C:\\\\Users\\\\Bernhard\\\\Documents\\\\data\\\\CIFAR10\\\\test\\\\0\\\\1903.png',\n",
       " 'C:\\\\Users\\\\Bernhard\\\\Documents\\\\data\\\\CIFAR10\\\\test\\\\0\\\\1912.png',\n",
       " 'C:\\\\Users\\\\Bernhard\\\\Documents\\\\data\\\\CIFAR10\\\\test\\\\0\\\\192.png',\n",
       " 'C:\\\\Users\\\\Bernhard\\\\Documents\\\\data\\\\CIFAR10\\\\test\\\\0\\\\1926.png',\n",
       " 'C:\\\\Users\\\\Bernhard\\\\Documents\\\\data\\\\CIFAR10\\\\test\\\\0\\\\1932.png',\n",
       " 'C:\\\\Users\\\\Bernhard\\\\Documents\\\\data\\\\CIFAR10\\\\test\\\\0\\\\1949.png',\n",
       " 'C:\\\\Users\\\\Bernhard\\\\Documents\\\\data\\\\CIFAR10\\\\test\\\\0\\\\1959.png',\n",
       " 'C:\\\\Users\\\\Bernhard\\\\Documents\\\\data\\\\CIFAR10\\\\test\\\\0\\\\1965.png',\n",
       " 'C:\\\\Users\\\\Bernhard\\\\Documents\\\\data\\\\CIFAR10\\\\test\\\\0\\\\1973.png',\n",
       " 'C:\\\\Users\\\\Bernhard\\\\Documents\\\\data\\\\CIFAR10\\\\test\\\\0\\\\2040.png',\n",
       " 'C:\\\\Users\\\\Bernhard\\\\Documents\\\\data\\\\CIFAR10\\\\test\\\\0\\\\2041.png',\n",
       " 'C:\\\\Users\\\\Bernhard\\\\Documents\\\\data\\\\CIFAR10\\\\test\\\\0\\\\2058.png',\n",
       " 'C:\\\\Users\\\\Bernhard\\\\Documents\\\\data\\\\CIFAR10\\\\test\\\\0\\\\206.png',\n",
       " 'C:\\\\Users\\\\Bernhard\\\\Documents\\\\data\\\\CIFAR10\\\\test\\\\0\\\\2077.png',\n",
       " 'C:\\\\Users\\\\Bernhard\\\\Documents\\\\data\\\\CIFAR10\\\\test\\\\0\\\\2079.png',\n",
       " 'C:\\\\Users\\\\Bernhard\\\\Documents\\\\data\\\\CIFAR10\\\\test\\\\0\\\\2085.png',\n",
       " 'C:\\\\Users\\\\Bernhard\\\\Documents\\\\data\\\\CIFAR10\\\\test\\\\0\\\\2087.png',\n",
       " 'C:\\\\Users\\\\Bernhard\\\\Documents\\\\data\\\\CIFAR10\\\\test\\\\0\\\\2091.png',\n",
       " 'C:\\\\Users\\\\Bernhard\\\\Documents\\\\data\\\\CIFAR10\\\\test\\\\0\\\\2095.png',\n",
       " 'C:\\\\Users\\\\Bernhard\\\\Documents\\\\data\\\\CIFAR10\\\\test\\\\0\\\\2098.png',\n",
       " 'C:\\\\Users\\\\Bernhard\\\\Documents\\\\data\\\\CIFAR10\\\\test\\\\0\\\\21.png',\n",
       " 'C:\\\\Users\\\\Bernhard\\\\Documents\\\\data\\\\CIFAR10\\\\test\\\\0\\\\2102.png',\n",
       " 'C:\\\\Users\\\\Bernhard\\\\Documents\\\\data\\\\CIFAR10\\\\test\\\\0\\\\2109.png',\n",
       " 'C:\\\\Users\\\\Bernhard\\\\Documents\\\\data\\\\CIFAR10\\\\test\\\\0\\\\2110.png',\n",
       " 'C:\\\\Users\\\\Bernhard\\\\Documents\\\\data\\\\CIFAR10\\\\test\\\\0\\\\2113.png',\n",
       " 'C:\\\\Users\\\\Bernhard\\\\Documents\\\\data\\\\CIFAR10\\\\test\\\\0\\\\2122.png',\n",
       " 'C:\\\\Users\\\\Bernhard\\\\Documents\\\\data\\\\CIFAR10\\\\test\\\\0\\\\2124.png',\n",
       " 'C:\\\\Users\\\\Bernhard\\\\Documents\\\\data\\\\CIFAR10\\\\test\\\\0\\\\2130.png',\n",
       " 'C:\\\\Users\\\\Bernhard\\\\Documents\\\\data\\\\CIFAR10\\\\test\\\\0\\\\2136.png',\n",
       " 'C:\\\\Users\\\\Bernhard\\\\Documents\\\\data\\\\CIFAR10\\\\test\\\\0\\\\215.png',\n",
       " 'C:\\\\Users\\\\Bernhard\\\\Documents\\\\data\\\\CIFAR10\\\\test\\\\0\\\\2160.png',\n",
       " 'C:\\\\Users\\\\Bernhard\\\\Documents\\\\data\\\\CIFAR10\\\\test\\\\0\\\\2166.png',\n",
       " 'C:\\\\Users\\\\Bernhard\\\\Documents\\\\data\\\\CIFAR10\\\\test\\\\0\\\\2185.png',\n",
       " 'C:\\\\Users\\\\Bernhard\\\\Documents\\\\data\\\\CIFAR10\\\\test\\\\0\\\\2192.png',\n",
       " 'C:\\\\Users\\\\Bernhard\\\\Documents\\\\data\\\\CIFAR10\\\\test\\\\0\\\\2200.png',\n",
       " 'C:\\\\Users\\\\Bernhard\\\\Documents\\\\data\\\\CIFAR10\\\\test\\\\0\\\\2215.png',\n",
       " 'C:\\\\Users\\\\Bernhard\\\\Documents\\\\data\\\\CIFAR10\\\\test\\\\0\\\\2232.png',\n",
       " 'C:\\\\Users\\\\Bernhard\\\\Documents\\\\data\\\\CIFAR10\\\\test\\\\0\\\\2241.png',\n",
       " 'C:\\\\Users\\\\Bernhard\\\\Documents\\\\data\\\\CIFAR10\\\\test\\\\0\\\\2248.png',\n",
       " 'C:\\\\Users\\\\Bernhard\\\\Documents\\\\data\\\\CIFAR10\\\\test\\\\0\\\\2249.png',\n",
       " 'C:\\\\Users\\\\Bernhard\\\\Documents\\\\data\\\\CIFAR10\\\\test\\\\0\\\\2257.png',\n",
       " 'C:\\\\Users\\\\Bernhard\\\\Documents\\\\data\\\\CIFAR10\\\\test\\\\0\\\\2264.png',\n",
       " 'C:\\\\Users\\\\Bernhard\\\\Documents\\\\data\\\\CIFAR10\\\\test\\\\0\\\\2276.png',\n",
       " 'C:\\\\Users\\\\Bernhard\\\\Documents\\\\data\\\\CIFAR10\\\\test\\\\0\\\\2298.png',\n",
       " 'C:\\\\Users\\\\Bernhard\\\\Documents\\\\data\\\\CIFAR10\\\\test\\\\0\\\\2302.png',\n",
       " 'C:\\\\Users\\\\Bernhard\\\\Documents\\\\data\\\\CIFAR10\\\\test\\\\0\\\\2322.png',\n",
       " 'C:\\\\Users\\\\Bernhard\\\\Documents\\\\data\\\\CIFAR10\\\\test\\\\0\\\\2324.png',\n",
       " 'C:\\\\Users\\\\Bernhard\\\\Documents\\\\data\\\\CIFAR10\\\\test\\\\0\\\\2330.png',\n",
       " 'C:\\\\Users\\\\Bernhard\\\\Documents\\\\data\\\\CIFAR10\\\\test\\\\0\\\\2341.png',\n",
       " 'C:\\\\Users\\\\Bernhard\\\\Documents\\\\data\\\\CIFAR10\\\\test\\\\0\\\\2344.png',\n",
       " 'C:\\\\Users\\\\Bernhard\\\\Documents\\\\data\\\\CIFAR10\\\\test\\\\0\\\\235.png',\n",
       " 'C:\\\\Users\\\\Bernhard\\\\Documents\\\\data\\\\CIFAR10\\\\test\\\\0\\\\2368.png',\n",
       " 'C:\\\\Users\\\\Bernhard\\\\Documents\\\\data\\\\CIFAR10\\\\test\\\\0\\\\237.png',\n",
       " 'C:\\\\Users\\\\Bernhard\\\\Documents\\\\data\\\\CIFAR10\\\\test\\\\0\\\\2370.png',\n",
       " 'C:\\\\Users\\\\Bernhard\\\\Documents\\\\data\\\\CIFAR10\\\\test\\\\0\\\\2373.png',\n",
       " 'C:\\\\Users\\\\Bernhard\\\\Documents\\\\data\\\\CIFAR10\\\\test\\\\0\\\\2375.png',\n",
       " 'C:\\\\Users\\\\Bernhard\\\\Documents\\\\data\\\\CIFAR10\\\\test\\\\0\\\\2379.png',\n",
       " 'C:\\\\Users\\\\Bernhard\\\\Documents\\\\data\\\\CIFAR10\\\\test\\\\0\\\\2388.png',\n",
       " 'C:\\\\Users\\\\Bernhard\\\\Documents\\\\data\\\\CIFAR10\\\\test\\\\0\\\\2400.png',\n",
       " 'C:\\\\Users\\\\Bernhard\\\\Documents\\\\data\\\\CIFAR10\\\\test\\\\0\\\\2404.png',\n",
       " 'C:\\\\Users\\\\Bernhard\\\\Documents\\\\data\\\\CIFAR10\\\\test\\\\0\\\\2411.png',\n",
       " 'C:\\\\Users\\\\Bernhard\\\\Documents\\\\data\\\\CIFAR10\\\\test\\\\0\\\\2425.png',\n",
       " 'C:\\\\Users\\\\Bernhard\\\\Documents\\\\data\\\\CIFAR10\\\\test\\\\0\\\\2434.png',\n",
       " 'C:\\\\Users\\\\Bernhard\\\\Documents\\\\data\\\\CIFAR10\\\\test\\\\0\\\\244.png',\n",
       " 'C:\\\\Users\\\\Bernhard\\\\Documents\\\\data\\\\CIFAR10\\\\test\\\\0\\\\2461.png',\n",
       " 'C:\\\\Users\\\\Bernhard\\\\Documents\\\\data\\\\CIFAR10\\\\test\\\\0\\\\2463.png',\n",
       " 'C:\\\\Users\\\\Bernhard\\\\Documents\\\\data\\\\CIFAR10\\\\test\\\\0\\\\2468.png',\n",
       " 'C:\\\\Users\\\\Bernhard\\\\Documents\\\\data\\\\CIFAR10\\\\test\\\\0\\\\2473.png',\n",
       " 'C:\\\\Users\\\\Bernhard\\\\Documents\\\\data\\\\CIFAR10\\\\test\\\\0\\\\2490.png',\n",
       " 'C:\\\\Users\\\\Bernhard\\\\Documents\\\\data\\\\CIFAR10\\\\test\\\\0\\\\2507.png',\n",
       " 'C:\\\\Users\\\\Bernhard\\\\Documents\\\\data\\\\CIFAR10\\\\test\\\\0\\\\2532.png',\n",
       " 'C:\\\\Users\\\\Bernhard\\\\Documents\\\\data\\\\CIFAR10\\\\test\\\\0\\\\2535.png',\n",
       " 'C:\\\\Users\\\\Bernhard\\\\Documents\\\\data\\\\CIFAR10\\\\test\\\\0\\\\2548.png',\n",
       " 'C:\\\\Users\\\\Bernhard\\\\Documents\\\\data\\\\CIFAR10\\\\test\\\\0\\\\255.png',\n",
       " 'C:\\\\Users\\\\Bernhard\\\\Documents\\\\data\\\\CIFAR10\\\\test\\\\0\\\\2569.png',\n",
       " 'C:\\\\Users\\\\Bernhard\\\\Documents\\\\data\\\\CIFAR10\\\\test\\\\0\\\\257.png',\n",
       " 'C:\\\\Users\\\\Bernhard\\\\Documents\\\\data\\\\CIFAR10\\\\test\\\\0\\\\2570.png',\n",
       " 'C:\\\\Users\\\\Bernhard\\\\Documents\\\\data\\\\CIFAR10\\\\test\\\\0\\\\258.png',\n",
       " 'C:\\\\Users\\\\Bernhard\\\\Documents\\\\data\\\\CIFAR10\\\\test\\\\0\\\\2587.png',\n",
       " 'C:\\\\Users\\\\Bernhard\\\\Documents\\\\data\\\\CIFAR10\\\\test\\\\0\\\\2589.png',\n",
       " 'C:\\\\Users\\\\Bernhard\\\\Documents\\\\data\\\\CIFAR10\\\\test\\\\0\\\\2594.png',\n",
       " 'C:\\\\Users\\\\Bernhard\\\\Documents\\\\data\\\\CIFAR10\\\\test\\\\0\\\\2603.png',\n",
       " 'C:\\\\Users\\\\Bernhard\\\\Documents\\\\data\\\\CIFAR10\\\\test\\\\0\\\\2614.png',\n",
       " 'C:\\\\Users\\\\Bernhard\\\\Documents\\\\data\\\\CIFAR10\\\\test\\\\0\\\\2622.png',\n",
       " 'C:\\\\Users\\\\Bernhard\\\\Documents\\\\data\\\\CIFAR10\\\\test\\\\0\\\\2628.png',\n",
       " 'C:\\\\Users\\\\Bernhard\\\\Documents\\\\data\\\\CIFAR10\\\\test\\\\0\\\\264.png',\n",
       " 'C:\\\\Users\\\\Bernhard\\\\Documents\\\\data\\\\CIFAR10\\\\test\\\\0\\\\2668.png',\n",
       " 'C:\\\\Users\\\\Bernhard\\\\Documents\\\\data\\\\CIFAR10\\\\test\\\\0\\\\2672.png',\n",
       " 'C:\\\\Users\\\\Bernhard\\\\Documents\\\\data\\\\CIFAR10\\\\test\\\\0\\\\2674.png',\n",
       " 'C:\\\\Users\\\\Bernhard\\\\Documents\\\\data\\\\CIFAR10\\\\test\\\\0\\\\2678.png',\n",
       " 'C:\\\\Users\\\\Bernhard\\\\Documents\\\\data\\\\CIFAR10\\\\test\\\\0\\\\2679.png',\n",
       " 'C:\\\\Users\\\\Bernhard\\\\Documents\\\\data\\\\CIFAR10\\\\test\\\\0\\\\2680.png',\n",
       " 'C:\\\\Users\\\\Bernhard\\\\Documents\\\\data\\\\CIFAR10\\\\test\\\\0\\\\2681.png',\n",
       " 'C:\\\\Users\\\\Bernhard\\\\Documents\\\\data\\\\CIFAR10\\\\test\\\\0\\\\269.png',\n",
       " 'C:\\\\Users\\\\Bernhard\\\\Documents\\\\data\\\\CIFAR10\\\\test\\\\0\\\\2697.png',\n",
       " 'C:\\\\Users\\\\Bernhard\\\\Documents\\\\data\\\\CIFAR10\\\\test\\\\0\\\\27.png',\n",
       " 'C:\\\\Users\\\\Bernhard\\\\Documents\\\\data\\\\CIFAR10\\\\test\\\\0\\\\2704.png',\n",
       " 'C:\\\\Users\\\\Bernhard\\\\Documents\\\\data\\\\CIFAR10\\\\test\\\\0\\\\2715.png',\n",
       " 'C:\\\\Users\\\\Bernhard\\\\Documents\\\\data\\\\CIFAR10\\\\test\\\\0\\\\2717.png',\n",
       " 'C:\\\\Users\\\\Bernhard\\\\Documents\\\\data\\\\CIFAR10\\\\test\\\\0\\\\2724.png',\n",
       " 'C:\\\\Users\\\\Bernhard\\\\Documents\\\\data\\\\CIFAR10\\\\test\\\\0\\\\2749.png',\n",
       " 'C:\\\\Users\\\\Bernhard\\\\Documents\\\\data\\\\CIFAR10\\\\test\\\\0\\\\276.png',\n",
       " 'C:\\\\Users\\\\Bernhard\\\\Documents\\\\data\\\\CIFAR10\\\\test\\\\0\\\\2782.png',\n",
       " 'C:\\\\Users\\\\Bernhard\\\\Documents\\\\data\\\\CIFAR10\\\\test\\\\0\\\\2783.png',\n",
       " 'C:\\\\Users\\\\Bernhard\\\\Documents\\\\data\\\\CIFAR10\\\\test\\\\0\\\\2792.png',\n",
       " 'C:\\\\Users\\\\Bernhard\\\\Documents\\\\data\\\\CIFAR10\\\\test\\\\0\\\\2794.png',\n",
       " 'C:\\\\Users\\\\Bernhard\\\\Documents\\\\data\\\\CIFAR10\\\\test\\\\0\\\\281.png',\n",
       " 'C:\\\\Users\\\\Bernhard\\\\Documents\\\\data\\\\CIFAR10\\\\test\\\\0\\\\2812.png',\n",
       " 'C:\\\\Users\\\\Bernhard\\\\Documents\\\\data\\\\CIFAR10\\\\test\\\\0\\\\2821.png',\n",
       " 'C:\\\\Users\\\\Bernhard\\\\Documents\\\\data\\\\CIFAR10\\\\test\\\\0\\\\2833.png',\n",
       " 'C:\\\\Users\\\\Bernhard\\\\Documents\\\\data\\\\CIFAR10\\\\test\\\\0\\\\284.png',\n",
       " 'C:\\\\Users\\\\Bernhard\\\\Documents\\\\data\\\\CIFAR10\\\\test\\\\0\\\\2857.png',\n",
       " 'C:\\\\Users\\\\Bernhard\\\\Documents\\\\data\\\\CIFAR10\\\\test\\\\0\\\\287.png',\n",
       " 'C:\\\\Users\\\\Bernhard\\\\Documents\\\\data\\\\CIFAR10\\\\test\\\\0\\\\2877.png',\n",
       " 'C:\\\\Users\\\\Bernhard\\\\Documents\\\\data\\\\CIFAR10\\\\test\\\\0\\\\2879.png',\n",
       " 'C:\\\\Users\\\\Bernhard\\\\Documents\\\\data\\\\CIFAR10\\\\test\\\\0\\\\2892.png',\n",
       " 'C:\\\\Users\\\\Bernhard\\\\Documents\\\\data\\\\CIFAR10\\\\test\\\\0\\\\2909.png',\n",
       " 'C:\\\\Users\\\\Bernhard\\\\Documents\\\\data\\\\CIFAR10\\\\test\\\\0\\\\2913.png',\n",
       " 'C:\\\\Users\\\\Bernhard\\\\Documents\\\\data\\\\CIFAR10\\\\test\\\\0\\\\2951.png',\n",
       " 'C:\\\\Users\\\\Bernhard\\\\Documents\\\\data\\\\CIFAR10\\\\test\\\\0\\\\2956.png',\n",
       " 'C:\\\\Users\\\\Bernhard\\\\Documents\\\\data\\\\CIFAR10\\\\test\\\\0\\\\2958.png',\n",
       " 'C:\\\\Users\\\\Bernhard\\\\Documents\\\\data\\\\CIFAR10\\\\test\\\\0\\\\2964.png',\n",
       " 'C:\\\\Users\\\\Bernhard\\\\Documents\\\\data\\\\CIFAR10\\\\test\\\\0\\\\2966.png',\n",
       " 'C:\\\\Users\\\\Bernhard\\\\Documents\\\\data\\\\CIFAR10\\\\test\\\\0\\\\2968.png',\n",
       " 'C:\\\\Users\\\\Bernhard\\\\Documents\\\\data\\\\CIFAR10\\\\test\\\\0\\\\297.png',\n",
       " 'C:\\\\Users\\\\Bernhard\\\\Documents\\\\data\\\\CIFAR10\\\\test\\\\0\\\\2973.png',\n",
       " 'C:\\\\Users\\\\Bernhard\\\\Documents\\\\data\\\\CIFAR10\\\\test\\\\0\\\\2976.png',\n",
       " 'C:\\\\Users\\\\Bernhard\\\\Documents\\\\data\\\\CIFAR10\\\\test\\\\0\\\\2979.png',\n",
       " 'C:\\\\Users\\\\Bernhard\\\\Documents\\\\data\\\\CIFAR10\\\\test\\\\0\\\\298.png',\n",
       " 'C:\\\\Users\\\\Bernhard\\\\Documents\\\\data\\\\CIFAR10\\\\test\\\\0\\\\2993.png',\n",
       " 'C:\\\\Users\\\\Bernhard\\\\Documents\\\\data\\\\CIFAR10\\\\test\\\\0\\\\3.png',\n",
       " 'C:\\\\Users\\\\Bernhard\\\\Documents\\\\data\\\\CIFAR10\\\\test\\\\0\\\\3005.png',\n",
       " 'C:\\\\Users\\\\Bernhard\\\\Documents\\\\data\\\\CIFAR10\\\\test\\\\0\\\\3024.png',\n",
       " 'C:\\\\Users\\\\Bernhard\\\\Documents\\\\data\\\\CIFAR10\\\\test\\\\0\\\\3048.png',\n",
       " 'C:\\\\Users\\\\Bernhard\\\\Documents\\\\data\\\\CIFAR10\\\\test\\\\0\\\\3050.png',\n",
       " 'C:\\\\Users\\\\Bernhard\\\\Documents\\\\data\\\\CIFAR10\\\\test\\\\0\\\\3063.png',\n",
       " 'C:\\\\Users\\\\Bernhard\\\\Documents\\\\data\\\\CIFAR10\\\\test\\\\0\\\\3070.png',\n",
       " 'C:\\\\Users\\\\Bernhard\\\\Documents\\\\data\\\\CIFAR10\\\\test\\\\0\\\\3087.png',\n",
       " 'C:\\\\Users\\\\Bernhard\\\\Documents\\\\data\\\\CIFAR10\\\\test\\\\0\\\\3097.png',\n",
       " 'C:\\\\Users\\\\Bernhard\\\\Documents\\\\data\\\\CIFAR10\\\\test\\\\0\\\\3100.png',\n",
       " 'C:\\\\Users\\\\Bernhard\\\\Documents\\\\data\\\\CIFAR10\\\\test\\\\0\\\\3102.png',\n",
       " 'C:\\\\Users\\\\Bernhard\\\\Documents\\\\data\\\\CIFAR10\\\\test\\\\0\\\\3111.png',\n",
       " 'C:\\\\Users\\\\Bernhard\\\\Documents\\\\data\\\\CIFAR10\\\\test\\\\0\\\\3112.png',\n",
       " 'C:\\\\Users\\\\Bernhard\\\\Documents\\\\data\\\\CIFAR10\\\\test\\\\0\\\\3117.png',\n",
       " 'C:\\\\Users\\\\Bernhard\\\\Documents\\\\data\\\\CIFAR10\\\\test\\\\0\\\\313.png',\n",
       " 'C:\\\\Users\\\\Bernhard\\\\Documents\\\\data\\\\CIFAR10\\\\test\\\\0\\\\3148.png',\n",
       " 'C:\\\\Users\\\\Bernhard\\\\Documents\\\\data\\\\CIFAR10\\\\test\\\\0\\\\315.png',\n",
       " 'C:\\\\Users\\\\Bernhard\\\\Documents\\\\data\\\\CIFAR10\\\\test\\\\0\\\\3158.png',\n",
       " 'C:\\\\Users\\\\Bernhard\\\\Documents\\\\data\\\\CIFAR10\\\\test\\\\0\\\\3164.png',\n",
       " 'C:\\\\Users\\\\Bernhard\\\\Documents\\\\data\\\\CIFAR10\\\\test\\\\0\\\\3171.png',\n",
       " 'C:\\\\Users\\\\Bernhard\\\\Documents\\\\data\\\\CIFAR10\\\\test\\\\0\\\\3177.png',\n",
       " 'C:\\\\Users\\\\Bernhard\\\\Documents\\\\data\\\\CIFAR10\\\\test\\\\0\\\\3184.png',\n",
       " 'C:\\\\Users\\\\Bernhard\\\\Documents\\\\data\\\\CIFAR10\\\\test\\\\0\\\\3191.png',\n",
       " 'C:\\\\Users\\\\Bernhard\\\\Documents\\\\data\\\\CIFAR10\\\\test\\\\0\\\\3207.png',\n",
       " 'C:\\\\Users\\\\Bernhard\\\\Documents\\\\data\\\\CIFAR10\\\\test\\\\0\\\\3211.png',\n",
       " 'C:\\\\Users\\\\Bernhard\\\\Documents\\\\data\\\\CIFAR10\\\\test\\\\0\\\\3219.png',\n",
       " 'C:\\\\Users\\\\Bernhard\\\\Documents\\\\data\\\\CIFAR10\\\\test\\\\0\\\\3248.png',\n",
       " 'C:\\\\Users\\\\Bernhard\\\\Documents\\\\data\\\\CIFAR10\\\\test\\\\0\\\\3258.png',\n",
       " 'C:\\\\Users\\\\Bernhard\\\\Documents\\\\data\\\\CIFAR10\\\\test\\\\0\\\\3261.png',\n",
       " 'C:\\\\Users\\\\Bernhard\\\\Documents\\\\data\\\\CIFAR10\\\\test\\\\0\\\\3278.png',\n",
       " 'C:\\\\Users\\\\Bernhard\\\\Documents\\\\data\\\\CIFAR10\\\\test\\\\0\\\\3294.png',\n",
       " 'C:\\\\Users\\\\Bernhard\\\\Documents\\\\data\\\\CIFAR10\\\\test\\\\0\\\\3299.png',\n",
       " 'C:\\\\Users\\\\Bernhard\\\\Documents\\\\data\\\\CIFAR10\\\\test\\\\0\\\\3302.png',\n",
       " 'C:\\\\Users\\\\Bernhard\\\\Documents\\\\data\\\\CIFAR10\\\\test\\\\0\\\\3321.png',\n",
       " 'C:\\\\Users\\\\Bernhard\\\\Documents\\\\data\\\\CIFAR10\\\\test\\\\0\\\\3335.png',\n",
       " 'C:\\\\Users\\\\Bernhard\\\\Documents\\\\data\\\\CIFAR10\\\\test\\\\0\\\\3336.png',\n",
       " 'C:\\\\Users\\\\Bernhard\\\\Documents\\\\data\\\\CIFAR10\\\\test\\\\0\\\\3338.png',\n",
       " 'C:\\\\Users\\\\Bernhard\\\\Documents\\\\data\\\\CIFAR10\\\\test\\\\0\\\\3342.png',\n",
       " 'C:\\\\Users\\\\Bernhard\\\\Documents\\\\data\\\\CIFAR10\\\\test\\\\0\\\\338.png',\n",
       " 'C:\\\\Users\\\\Bernhard\\\\Documents\\\\data\\\\CIFAR10\\\\test\\\\0\\\\3396.png',\n",
       " 'C:\\\\Users\\\\Bernhard\\\\Documents\\\\data\\\\CIFAR10\\\\test\\\\0\\\\3399.png',\n",
       " 'C:\\\\Users\\\\Bernhard\\\\Documents\\\\data\\\\CIFAR10\\\\test\\\\0\\\\3412.png',\n",
       " 'C:\\\\Users\\\\Bernhard\\\\Documents\\\\data\\\\CIFAR10\\\\test\\\\0\\\\3421.png',\n",
       " 'C:\\\\Users\\\\Bernhard\\\\Documents\\\\data\\\\CIFAR10\\\\test\\\\0\\\\3425.png',\n",
       " 'C:\\\\Users\\\\Bernhard\\\\Documents\\\\data\\\\CIFAR10\\\\test\\\\0\\\\3426.png',\n",
       " 'C:\\\\Users\\\\Bernhard\\\\Documents\\\\data\\\\CIFAR10\\\\test\\\\0\\\\3429.png',\n",
       " 'C:\\\\Users\\\\Bernhard\\\\Documents\\\\data\\\\CIFAR10\\\\test\\\\0\\\\3441.png',\n",
       " 'C:\\\\Users\\\\Bernhard\\\\Documents\\\\data\\\\CIFAR10\\\\test\\\\0\\\\3444.png',\n",
       " 'C:\\\\Users\\\\Bernhard\\\\Documents\\\\data\\\\CIFAR10\\\\test\\\\0\\\\3445.png',\n",
       " 'C:\\\\Users\\\\Bernhard\\\\Documents\\\\data\\\\CIFAR10\\\\test\\\\0\\\\3467.png',\n",
       " 'C:\\\\Users\\\\Bernhard\\\\Documents\\\\data\\\\CIFAR10\\\\test\\\\0\\\\3475.png',\n",
       " 'C:\\\\Users\\\\Bernhard\\\\Documents\\\\data\\\\CIFAR10\\\\test\\\\0\\\\3483.png',\n",
       " 'C:\\\\Users\\\\Bernhard\\\\Documents\\\\data\\\\CIFAR10\\\\test\\\\0\\\\3490.png',\n",
       " 'C:\\\\Users\\\\Bernhard\\\\Documents\\\\data\\\\CIFAR10\\\\test\\\\0\\\\3493.png',\n",
       " 'C:\\\\Users\\\\Bernhard\\\\Documents\\\\data\\\\CIFAR10\\\\test\\\\0\\\\3494.png',\n",
       " 'C:\\\\Users\\\\Bernhard\\\\Documents\\\\data\\\\CIFAR10\\\\test\\\\0\\\\3497.png',\n",
       " 'C:\\\\Users\\\\Bernhard\\\\Documents\\\\data\\\\CIFAR10\\\\test\\\\0\\\\3499.png',\n",
       " 'C:\\\\Users\\\\Bernhard\\\\Documents\\\\data\\\\CIFAR10\\\\test\\\\0\\\\3511.png',\n",
       " 'C:\\\\Users\\\\Bernhard\\\\Documents\\\\data\\\\CIFAR10\\\\test\\\\0\\\\352.png',\n",
       " 'C:\\\\Users\\\\Bernhard\\\\Documents\\\\data\\\\CIFAR10\\\\test\\\\0\\\\3536.png',\n",
       " 'C:\\\\Users\\\\Bernhard\\\\Documents\\\\data\\\\CIFAR10\\\\test\\\\0\\\\3548.png',\n",
       " 'C:\\\\Users\\\\Bernhard\\\\Documents\\\\data\\\\CIFAR10\\\\test\\\\0\\\\3550.png',\n",
       " 'C:\\\\Users\\\\Bernhard\\\\Documents\\\\data\\\\CIFAR10\\\\test\\\\0\\\\3551.png',\n",
       " 'C:\\\\Users\\\\Bernhard\\\\Documents\\\\data\\\\CIFAR10\\\\test\\\\0\\\\3568.png',\n",
       " 'C:\\\\Users\\\\Bernhard\\\\Documents\\\\data\\\\CIFAR10\\\\test\\\\0\\\\3587.png',\n",
       " 'C:\\\\Users\\\\Bernhard\\\\Documents\\\\data\\\\CIFAR10\\\\test\\\\0\\\\359.png',\n",
       " 'C:\\\\Users\\\\Bernhard\\\\Documents\\\\data\\\\CIFAR10\\\\test\\\\0\\\\3601.png',\n",
       " 'C:\\\\Users\\\\Bernhard\\\\Documents\\\\data\\\\CIFAR10\\\\test\\\\0\\\\3608.png',\n",
       " 'C:\\\\Users\\\\Bernhard\\\\Documents\\\\data\\\\CIFAR10\\\\test\\\\0\\\\3620.png',\n",
       " 'C:\\\\Users\\\\Bernhard\\\\Documents\\\\data\\\\CIFAR10\\\\test\\\\0\\\\3631.png',\n",
       " 'C:\\\\Users\\\\Bernhard\\\\Documents\\\\data\\\\CIFAR10\\\\test\\\\0\\\\3650.png',\n",
       " 'C:\\\\Users\\\\Bernhard\\\\Documents\\\\data\\\\CIFAR10\\\\test\\\\0\\\\3651.png',\n",
       " 'C:\\\\Users\\\\Bernhard\\\\Documents\\\\data\\\\CIFAR10\\\\test\\\\0\\\\3660.png',\n",
       " 'C:\\\\Users\\\\Bernhard\\\\Documents\\\\data\\\\CIFAR10\\\\test\\\\0\\\\3672.png',\n",
       " 'C:\\\\Users\\\\Bernhard\\\\Documents\\\\data\\\\CIFAR10\\\\test\\\\0\\\\3679.png',\n",
       " 'C:\\\\Users\\\\Bernhard\\\\Documents\\\\data\\\\CIFAR10\\\\test\\\\0\\\\3680.png',\n",
       " 'C:\\\\Users\\\\Bernhard\\\\Documents\\\\data\\\\CIFAR10\\\\test\\\\0\\\\3740.png',\n",
       " 'C:\\\\Users\\\\Bernhard\\\\Documents\\\\data\\\\CIFAR10\\\\test\\\\0\\\\3754.png',\n",
       " 'C:\\\\Users\\\\Bernhard\\\\Documents\\\\data\\\\CIFAR10\\\\test\\\\0\\\\376.png',\n",
       " 'C:\\\\Users\\\\Bernhard\\\\Documents\\\\data\\\\CIFAR10\\\\test\\\\0\\\\3761.png',\n",
       " 'C:\\\\Users\\\\Bernhard\\\\Documents\\\\data\\\\CIFAR10\\\\test\\\\0\\\\3765.png',\n",
       " 'C:\\\\Users\\\\Bernhard\\\\Documents\\\\data\\\\CIFAR10\\\\test\\\\0\\\\378.png',\n",
       " 'C:\\\\Users\\\\Bernhard\\\\Documents\\\\data\\\\CIFAR10\\\\test\\\\0\\\\3782.png',\n",
       " 'C:\\\\Users\\\\Bernhard\\\\Documents\\\\data\\\\CIFAR10\\\\test\\\\0\\\\3792.png',\n",
       " 'C:\\\\Users\\\\Bernhard\\\\Documents\\\\data\\\\CIFAR10\\\\test\\\\0\\\\382.png',\n",
       " 'C:\\\\Users\\\\Bernhard\\\\Documents\\\\data\\\\CIFAR10\\\\test\\\\0\\\\3820.png',\n",
       " 'C:\\\\Users\\\\Bernhard\\\\Documents\\\\data\\\\CIFAR10\\\\test\\\\0\\\\3823.png',\n",
       " 'C:\\\\Users\\\\Bernhard\\\\Documents\\\\data\\\\CIFAR10\\\\test\\\\0\\\\3825.png',\n",
       " 'C:\\\\Users\\\\Bernhard\\\\Documents\\\\data\\\\CIFAR10\\\\test\\\\0\\\\3845.png',\n",
       " 'C:\\\\Users\\\\Bernhard\\\\Documents\\\\data\\\\CIFAR10\\\\test\\\\0\\\\3847.png',\n",
       " 'C:\\\\Users\\\\Bernhard\\\\Documents\\\\data\\\\CIFAR10\\\\test\\\\0\\\\3866.png',\n",
       " 'C:\\\\Users\\\\Bernhard\\\\Documents\\\\data\\\\CIFAR10\\\\test\\\\0\\\\3897.png',\n",
       " 'C:\\\\Users\\\\Bernhard\\\\Documents\\\\data\\\\CIFAR10\\\\test\\\\0\\\\3903.png',\n",
       " 'C:\\\\Users\\\\Bernhard\\\\Documents\\\\data\\\\CIFAR10\\\\test\\\\0\\\\3927.png',\n",
       " 'C:\\\\Users\\\\Bernhard\\\\Documents\\\\data\\\\CIFAR10\\\\test\\\\0\\\\3943.png',\n",
       " 'C:\\\\Users\\\\Bernhard\\\\Documents\\\\data\\\\CIFAR10\\\\test\\\\0\\\\3955.png',\n",
       " 'C:\\\\Users\\\\Bernhard\\\\Documents\\\\data\\\\CIFAR10\\\\test\\\\0\\\\3965.png',\n",
       " 'C:\\\\Users\\\\Bernhard\\\\Documents\\\\data\\\\CIFAR10\\\\test\\\\0\\\\3971.png',\n",
       " 'C:\\\\Users\\\\Bernhard\\\\Documents\\\\data\\\\CIFAR10\\\\test\\\\0\\\\398.png',\n",
       " 'C:\\\\Users\\\\Bernhard\\\\Documents\\\\data\\\\CIFAR10\\\\test\\\\0\\\\3992.png',\n",
       " 'C:\\\\Users\\\\Bernhard\\\\Documents\\\\data\\\\CIFAR10\\\\test\\\\0\\\\4004.png',\n",
       " 'C:\\\\Users\\\\Bernhard\\\\Documents\\\\data\\\\CIFAR10\\\\test\\\\0\\\\4028.png',\n",
       " 'C:\\\\Users\\\\Bernhard\\\\Documents\\\\data\\\\CIFAR10\\\\test\\\\0\\\\4037.png',\n",
       " 'C:\\\\Users\\\\Bernhard\\\\Documents\\\\data\\\\CIFAR10\\\\test\\\\0\\\\4038.png',\n",
       " 'C:\\\\Users\\\\Bernhard\\\\Documents\\\\data\\\\CIFAR10\\\\test\\\\0\\\\4040.png',\n",
       " 'C:\\\\Users\\\\Bernhard\\\\Documents\\\\data\\\\CIFAR10\\\\test\\\\0\\\\4056.png',\n",
       " 'C:\\\\Users\\\\Bernhard\\\\Documents\\\\data\\\\CIFAR10\\\\test\\\\0\\\\406.png',\n",
       " 'C:\\\\Users\\\\Bernhard\\\\Documents\\\\data\\\\CIFAR10\\\\test\\\\0\\\\4062.png',\n",
       " 'C:\\\\Users\\\\Bernhard\\\\Documents\\\\data\\\\CIFAR10\\\\test\\\\0\\\\4081.png',\n",
       " 'C:\\\\Users\\\\Bernhard\\\\Documents\\\\data\\\\CIFAR10\\\\test\\\\0\\\\4102.png',\n",
       " 'C:\\\\Users\\\\Bernhard\\\\Documents\\\\data\\\\CIFAR10\\\\test\\\\0\\\\4104.png',\n",
       " 'C:\\\\Users\\\\Bernhard\\\\Documents\\\\data\\\\CIFAR10\\\\test\\\\0\\\\4113.png',\n",
       " 'C:\\\\Users\\\\Bernhard\\\\Documents\\\\data\\\\CIFAR10\\\\test\\\\0\\\\4118.png',\n",
       " 'C:\\\\Users\\\\Bernhard\\\\Documents\\\\data\\\\CIFAR10\\\\test\\\\0\\\\4123.png',\n",
       " 'C:\\\\Users\\\\Bernhard\\\\Documents\\\\data\\\\CIFAR10\\\\test\\\\0\\\\4126.png',\n",
       " 'C:\\\\Users\\\\Bernhard\\\\Documents\\\\data\\\\CIFAR10\\\\test\\\\0\\\\4153.png',\n",
       " 'C:\\\\Users\\\\Bernhard\\\\Documents\\\\data\\\\CIFAR10\\\\test\\\\0\\\\416.png',\n",
       " 'C:\\\\Users\\\\Bernhard\\\\Documents\\\\data\\\\CIFAR10\\\\test\\\\0\\\\4162.png',\n",
       " 'C:\\\\Users\\\\Bernhard\\\\Documents\\\\data\\\\CIFAR10\\\\test\\\\0\\\\4167.png',\n",
       " 'C:\\\\Users\\\\Bernhard\\\\Documents\\\\data\\\\CIFAR10\\\\test\\\\0\\\\4171.png',\n",
       " 'C:\\\\Users\\\\Bernhard\\\\Documents\\\\data\\\\CIFAR10\\\\test\\\\0\\\\4180.png',\n",
       " 'C:\\\\Users\\\\Bernhard\\\\Documents\\\\data\\\\CIFAR10\\\\test\\\\0\\\\4181.png',\n",
       " 'C:\\\\Users\\\\Bernhard\\\\Documents\\\\data\\\\CIFAR10\\\\test\\\\0\\\\4187.png',\n",
       " 'C:\\\\Users\\\\Bernhard\\\\Documents\\\\data\\\\CIFAR10\\\\test\\\\0\\\\4192.png',\n",
       " 'C:\\\\Users\\\\Bernhard\\\\Documents\\\\data\\\\CIFAR10\\\\test\\\\0\\\\4194.png',\n",
       " 'C:\\\\Users\\\\Bernhard\\\\Documents\\\\data\\\\CIFAR10\\\\test\\\\0\\\\4202.png',\n",
       " 'C:\\\\Users\\\\Bernhard\\\\Documents\\\\data\\\\CIFAR10\\\\test\\\\0\\\\4216.png',\n",
       " 'C:\\\\Users\\\\Bernhard\\\\Documents\\\\data\\\\CIFAR10\\\\test\\\\0\\\\4217.png',\n",
       " 'C:\\\\Users\\\\Bernhard\\\\Documents\\\\data\\\\CIFAR10\\\\test\\\\0\\\\4219.png',\n",
       " 'C:\\\\Users\\\\Bernhard\\\\Documents\\\\data\\\\CIFAR10\\\\test\\\\0\\\\422.png',\n",
       " 'C:\\\\Users\\\\Bernhard\\\\Documents\\\\data\\\\CIFAR10\\\\test\\\\0\\\\4226.png',\n",
       " 'C:\\\\Users\\\\Bernhard\\\\Documents\\\\data\\\\CIFAR10\\\\test\\\\0\\\\4228.png',\n",
       " 'C:\\\\Users\\\\Bernhard\\\\Documents\\\\data\\\\CIFAR10\\\\test\\\\0\\\\423.png',\n",
       " 'C:\\\\Users\\\\Bernhard\\\\Documents\\\\data\\\\CIFAR10\\\\test\\\\0\\\\4269.png',\n",
       " 'C:\\\\Users\\\\Bernhard\\\\Documents\\\\data\\\\CIFAR10\\\\test\\\\0\\\\4270.png',\n",
       " 'C:\\\\Users\\\\Bernhard\\\\Documents\\\\data\\\\CIFAR10\\\\test\\\\0\\\\428.png',\n",
       " 'C:\\\\Users\\\\Bernhard\\\\Documents\\\\data\\\\CIFAR10\\\\test\\\\0\\\\4287.png',\n",
       " 'C:\\\\Users\\\\Bernhard\\\\Documents\\\\data\\\\CIFAR10\\\\test\\\\0\\\\4294.png',\n",
       " 'C:\\\\Users\\\\Bernhard\\\\Documents\\\\data\\\\CIFAR10\\\\test\\\\0\\\\4295.png',\n",
       " 'C:\\\\Users\\\\Bernhard\\\\Documents\\\\data\\\\CIFAR10\\\\test\\\\0\\\\4305.png',\n",
       " 'C:\\\\Users\\\\Bernhard\\\\Documents\\\\data\\\\CIFAR10\\\\test\\\\0\\\\4308.png',\n",
       " 'C:\\\\Users\\\\Bernhard\\\\Documents\\\\data\\\\CIFAR10\\\\test\\\\0\\\\4313.png',\n",
       " 'C:\\\\Users\\\\Bernhard\\\\Documents\\\\data\\\\CIFAR10\\\\test\\\\0\\\\4328.png',\n",
       " 'C:\\\\Users\\\\Bernhard\\\\Documents\\\\data\\\\CIFAR10\\\\test\\\\0\\\\4340.png',\n",
       " 'C:\\\\Users\\\\Bernhard\\\\Documents\\\\data\\\\CIFAR10\\\\test\\\\0\\\\4349.png',\n",
       " 'C:\\\\Users\\\\Bernhard\\\\Documents\\\\data\\\\CIFAR10\\\\test\\\\0\\\\4355.png',\n",
       " 'C:\\\\Users\\\\Bernhard\\\\Documents\\\\data\\\\CIFAR10\\\\test\\\\0\\\\4356.png',\n",
       " 'C:\\\\Users\\\\Bernhard\\\\Documents\\\\data\\\\CIFAR10\\\\test\\\\0\\\\4367.png',\n",
       " 'C:\\\\Users\\\\Bernhard\\\\Documents\\\\data\\\\CIFAR10\\\\test\\\\0\\\\4373.png',\n",
       " 'C:\\\\Users\\\\Bernhard\\\\Documents\\\\data\\\\CIFAR10\\\\test\\\\0\\\\4374.png',\n",
       " 'C:\\\\Users\\\\Bernhard\\\\Documents\\\\data\\\\CIFAR10\\\\test\\\\0\\\\4387.png',\n",
       " 'C:\\\\Users\\\\Bernhard\\\\Documents\\\\data\\\\CIFAR10\\\\test\\\\0\\\\44.png',\n",
       " 'C:\\\\Users\\\\Bernhard\\\\Documents\\\\data\\\\CIFAR10\\\\test\\\\0\\\\4408.png',\n",
       " 'C:\\\\Users\\\\Bernhard\\\\Documents\\\\data\\\\CIFAR10\\\\test\\\\0\\\\4415.png',\n",
       " 'C:\\\\Users\\\\Bernhard\\\\Documents\\\\data\\\\CIFAR10\\\\test\\\\0\\\\4419.png',\n",
       " 'C:\\\\Users\\\\Bernhard\\\\Documents\\\\data\\\\CIFAR10\\\\test\\\\0\\\\4426.png',\n",
       " 'C:\\\\Users\\\\Bernhard\\\\Documents\\\\data\\\\CIFAR10\\\\test\\\\0\\\\4446.png',\n",
       " 'C:\\\\Users\\\\Bernhard\\\\Documents\\\\data\\\\CIFAR10\\\\test\\\\0\\\\4447.png',\n",
       " 'C:\\\\Users\\\\Bernhard\\\\Documents\\\\data\\\\CIFAR10\\\\test\\\\0\\\\4450.png',\n",
       " 'C:\\\\Users\\\\Bernhard\\\\Documents\\\\data\\\\CIFAR10\\\\test\\\\0\\\\4453.png',\n",
       " 'C:\\\\Users\\\\Bernhard\\\\Documents\\\\data\\\\CIFAR10\\\\test\\\\0\\\\4461.png',\n",
       " 'C:\\\\Users\\\\Bernhard\\\\Documents\\\\data\\\\CIFAR10\\\\test\\\\0\\\\447.png',\n",
       " 'C:\\\\Users\\\\Bernhard\\\\Documents\\\\data\\\\CIFAR10\\\\test\\\\0\\\\4470.png',\n",
       " 'C:\\\\Users\\\\Bernhard\\\\Documents\\\\data\\\\CIFAR10\\\\test\\\\0\\\\4474.png',\n",
       " 'C:\\\\Users\\\\Bernhard\\\\Documents\\\\data\\\\CIFAR10\\\\test\\\\0\\\\4490.png',\n",
       " 'C:\\\\Users\\\\Bernhard\\\\Documents\\\\data\\\\CIFAR10\\\\test\\\\0\\\\4504.png',\n",
       " 'C:\\\\Users\\\\Bernhard\\\\Documents\\\\data\\\\CIFAR10\\\\test\\\\0\\\\4510.png',\n",
       " 'C:\\\\Users\\\\Bernhard\\\\Documents\\\\data\\\\CIFAR10\\\\test\\\\0\\\\4515.png',\n",
       " 'C:\\\\Users\\\\Bernhard\\\\Documents\\\\data\\\\CIFAR10\\\\test\\\\0\\\\4525.png',\n",
       " 'C:\\\\Users\\\\Bernhard\\\\Documents\\\\data\\\\CIFAR10\\\\test\\\\0\\\\4548.png',\n",
       " 'C:\\\\Users\\\\Bernhard\\\\Documents\\\\data\\\\CIFAR10\\\\test\\\\0\\\\4557.png',\n",
       " 'C:\\\\Users\\\\Bernhard\\\\Documents\\\\data\\\\CIFAR10\\\\test\\\\0\\\\4558.png',\n",
       " 'C:\\\\Users\\\\Bernhard\\\\Documents\\\\data\\\\CIFAR10\\\\test\\\\0\\\\4586.png',\n",
       " 'C:\\\\Users\\\\Bernhard\\\\Documents\\\\data\\\\CIFAR10\\\\test\\\\0\\\\4591.png',\n",
       " 'C:\\\\Users\\\\Bernhard\\\\Documents\\\\data\\\\CIFAR10\\\\test\\\\0\\\\4606.png',\n",
       " 'C:\\\\Users\\\\Bernhard\\\\Documents\\\\data\\\\CIFAR10\\\\test\\\\0\\\\4639.png',\n",
       " 'C:\\\\Users\\\\Bernhard\\\\Documents\\\\data\\\\CIFAR10\\\\test\\\\0\\\\4666.png',\n",
       " 'C:\\\\Users\\\\Bernhard\\\\Documents\\\\data\\\\CIFAR10\\\\test\\\\0\\\\4667.png',\n",
       " 'C:\\\\Users\\\\Bernhard\\\\Documents\\\\data\\\\CIFAR10\\\\test\\\\0\\\\4673.png',\n",
       " 'C:\\\\Users\\\\Bernhard\\\\Documents\\\\data\\\\CIFAR10\\\\test\\\\0\\\\4686.png',\n",
       " 'C:\\\\Users\\\\Bernhard\\\\Documents\\\\data\\\\CIFAR10\\\\test\\\\0\\\\4701.png',\n",
       " 'C:\\\\Users\\\\Bernhard\\\\Documents\\\\data\\\\CIFAR10\\\\test\\\\0\\\\4726.png',\n",
       " 'C:\\\\Users\\\\Bernhard\\\\Documents\\\\data\\\\CIFAR10\\\\test\\\\0\\\\473.png',\n",
       " 'C:\\\\Users\\\\Bernhard\\\\Documents\\\\data\\\\CIFAR10\\\\test\\\\0\\\\4748.png',\n",
       " 'C:\\\\Users\\\\Bernhard\\\\Documents\\\\data\\\\CIFAR10\\\\test\\\\0\\\\4759.png',\n",
       " 'C:\\\\Users\\\\Bernhard\\\\Documents\\\\data\\\\CIFAR10\\\\test\\\\0\\\\4763.png',\n",
       " 'C:\\\\Users\\\\Bernhard\\\\Documents\\\\data\\\\CIFAR10\\\\test\\\\0\\\\477.png',\n",
       " 'C:\\\\Users\\\\Bernhard\\\\Documents\\\\data\\\\CIFAR10\\\\test\\\\0\\\\4771.png',\n",
       " 'C:\\\\Users\\\\Bernhard\\\\Documents\\\\data\\\\CIFAR10\\\\test\\\\0\\\\4780.png',\n",
       " 'C:\\\\Users\\\\Bernhard\\\\Documents\\\\data\\\\CIFAR10\\\\test\\\\0\\\\4784.png',\n",
       " 'C:\\\\Users\\\\Bernhard\\\\Documents\\\\data\\\\CIFAR10\\\\test\\\\0\\\\4792.png',\n",
       " 'C:\\\\Users\\\\Bernhard\\\\Documents\\\\data\\\\CIFAR10\\\\test\\\\0\\\\4802.png',\n",
       " 'C:\\\\Users\\\\Bernhard\\\\Documents\\\\data\\\\CIFAR10\\\\test\\\\0\\\\4809.png',\n",
       " 'C:\\\\Users\\\\Bernhard\\\\Documents\\\\data\\\\CIFAR10\\\\test\\\\0\\\\4817.png',\n",
       " 'C:\\\\Users\\\\Bernhard\\\\Documents\\\\data\\\\CIFAR10\\\\test\\\\0\\\\4824.png',\n",
       " 'C:\\\\Users\\\\Bernhard\\\\Documents\\\\data\\\\CIFAR10\\\\test\\\\0\\\\4840.png',\n",
       " 'C:\\\\Users\\\\Bernhard\\\\Documents\\\\data\\\\CIFAR10\\\\test\\\\0\\\\4854.png',\n",
       " 'C:\\\\Users\\\\Bernhard\\\\Documents\\\\data\\\\CIFAR10\\\\test\\\\0\\\\4861.png',\n",
       " 'C:\\\\Users\\\\Bernhard\\\\Documents\\\\data\\\\CIFAR10\\\\test\\\\0\\\\4868.png',\n",
       " 'C:\\\\Users\\\\Bernhard\\\\Documents\\\\data\\\\CIFAR10\\\\test\\\\0\\\\4880.png',\n",
       " 'C:\\\\Users\\\\Bernhard\\\\Documents\\\\data\\\\CIFAR10\\\\test\\\\0\\\\489.png',\n",
       " 'C:\\\\Users\\\\Bernhard\\\\Documents\\\\data\\\\CIFAR10\\\\test\\\\0\\\\4901.png',\n",
       " 'C:\\\\Users\\\\Bernhard\\\\Documents\\\\data\\\\CIFAR10\\\\test\\\\0\\\\4909.png',\n",
       " 'C:\\\\Users\\\\Bernhard\\\\Documents\\\\data\\\\CIFAR10\\\\test\\\\0\\\\491.png',\n",
       " 'C:\\\\Users\\\\Bernhard\\\\Documents\\\\data\\\\CIFAR10\\\\test\\\\0\\\\4922.png',\n",
       " 'C:\\\\Users\\\\Bernhard\\\\Documents\\\\data\\\\CIFAR10\\\\test\\\\0\\\\4937.png',\n",
       " 'C:\\\\Users\\\\Bernhard\\\\Documents\\\\data\\\\CIFAR10\\\\test\\\\0\\\\4939.png',\n",
       " 'C:\\\\Users\\\\Bernhard\\\\Documents\\\\data\\\\CIFAR10\\\\test\\\\0\\\\4953.png',\n",
       " 'C:\\\\Users\\\\Bernhard\\\\Documents\\\\data\\\\CIFAR10\\\\test\\\\0\\\\496.png',\n",
       " 'C:\\\\Users\\\\Bernhard\\\\Documents\\\\data\\\\CIFAR10\\\\test\\\\0\\\\4968.png',\n",
       " 'C:\\\\Users\\\\Bernhard\\\\Documents\\\\data\\\\CIFAR10\\\\test\\\\0\\\\499.png',\n",
       " 'C:\\\\Users\\\\Bernhard\\\\Documents\\\\data\\\\CIFAR10\\\\test\\\\0\\\\4991.png',\n",
       " 'C:\\\\Users\\\\Bernhard\\\\Documents\\\\data\\\\CIFAR10\\\\test\\\\0\\\\5013.png',\n",
       " 'C:\\\\Users\\\\Bernhard\\\\Documents\\\\data\\\\CIFAR10\\\\test\\\\0\\\\5021.png',\n",
       " 'C:\\\\Users\\\\Bernhard\\\\Documents\\\\data\\\\CIFAR10\\\\test\\\\0\\\\5027.png',\n",
       " 'C:\\\\Users\\\\Bernhard\\\\Documents\\\\data\\\\CIFAR10\\\\test\\\\0\\\\5036.png',\n",
       " 'C:\\\\Users\\\\Bernhard\\\\Documents\\\\data\\\\CIFAR10\\\\test\\\\0\\\\5037.png',\n",
       " 'C:\\\\Users\\\\Bernhard\\\\Documents\\\\data\\\\CIFAR10\\\\test\\\\0\\\\5043.png',\n",
       " 'C:\\\\Users\\\\Bernhard\\\\Documents\\\\data\\\\CIFAR10\\\\test\\\\0\\\\5055.png',\n",
       " 'C:\\\\Users\\\\Bernhard\\\\Documents\\\\data\\\\CIFAR10\\\\test\\\\0\\\\5065.png',\n",
       " 'C:\\\\Users\\\\Bernhard\\\\Documents\\\\data\\\\CIFAR10\\\\test\\\\0\\\\5074.png',\n",
       " 'C:\\\\Users\\\\Bernhard\\\\Documents\\\\data\\\\CIFAR10\\\\test\\\\0\\\\5077.png',\n",
       " 'C:\\\\Users\\\\Bernhard\\\\Documents\\\\data\\\\CIFAR10\\\\test\\\\0\\\\5091.png',\n",
       " 'C:\\\\Users\\\\Bernhard\\\\Documents\\\\data\\\\CIFAR10\\\\test\\\\0\\\\5093.png',\n",
       " 'C:\\\\Users\\\\Bernhard\\\\Documents\\\\data\\\\CIFAR10\\\\test\\\\0\\\\5124.png',\n",
       " 'C:\\\\Users\\\\Bernhard\\\\Documents\\\\data\\\\CIFAR10\\\\test\\\\0\\\\5126.png',\n",
       " 'C:\\\\Users\\\\Bernhard\\\\Documents\\\\data\\\\CIFAR10\\\\test\\\\0\\\\5144.png',\n",
       " 'C:\\\\Users\\\\Bernhard\\\\Documents\\\\data\\\\CIFAR10\\\\test\\\\0\\\\5146.png',\n",
       " 'C:\\\\Users\\\\Bernhard\\\\Documents\\\\data\\\\CIFAR10\\\\test\\\\0\\\\5160.png',\n",
       " 'C:\\\\Users\\\\Bernhard\\\\Documents\\\\data\\\\CIFAR10\\\\test\\\\0\\\\5164.png',\n",
       " 'C:\\\\Users\\\\Bernhard\\\\Documents\\\\data\\\\CIFAR10\\\\test\\\\0\\\\5173.png',\n",
       " 'C:\\\\Users\\\\Bernhard\\\\Documents\\\\data\\\\CIFAR10\\\\test\\\\0\\\\5189.png',\n",
       " 'C:\\\\Users\\\\Bernhard\\\\Documents\\\\data\\\\CIFAR10\\\\test\\\\0\\\\5190.png',\n",
       " 'C:\\\\Users\\\\Bernhard\\\\Documents\\\\data\\\\CIFAR10\\\\test\\\\0\\\\52.png',\n",
       " 'C:\\\\Users\\\\Bernhard\\\\Documents\\\\data\\\\CIFAR10\\\\test\\\\0\\\\522.png',\n",
       " 'C:\\\\Users\\\\Bernhard\\\\Documents\\\\data\\\\CIFAR10\\\\test\\\\0\\\\5220.png',\n",
       " 'C:\\\\Users\\\\Bernhard\\\\Documents\\\\data\\\\CIFAR10\\\\test\\\\0\\\\5223.png',\n",
       " 'C:\\\\Users\\\\Bernhard\\\\Documents\\\\data\\\\CIFAR10\\\\test\\\\0\\\\5224.png',\n",
       " 'C:\\\\Users\\\\Bernhard\\\\Documents\\\\data\\\\CIFAR10\\\\test\\\\0\\\\5225.png',\n",
       " 'C:\\\\Users\\\\Bernhard\\\\Documents\\\\data\\\\CIFAR10\\\\test\\\\0\\\\5236.png',\n",
       " 'C:\\\\Users\\\\Bernhard\\\\Documents\\\\data\\\\CIFAR10\\\\test\\\\0\\\\524.png',\n",
       " 'C:\\\\Users\\\\Bernhard\\\\Documents\\\\data\\\\CIFAR10\\\\test\\\\0\\\\5242.png',\n",
       " 'C:\\\\Users\\\\Bernhard\\\\Documents\\\\data\\\\CIFAR10\\\\test\\\\0\\\\5253.png',\n",
       " 'C:\\\\Users\\\\Bernhard\\\\Documents\\\\data\\\\CIFAR10\\\\test\\\\0\\\\5255.png',\n",
       " 'C:\\\\Users\\\\Bernhard\\\\Documents\\\\data\\\\CIFAR10\\\\test\\\\0\\\\5256.png',\n",
       " 'C:\\\\Users\\\\Bernhard\\\\Documents\\\\data\\\\CIFAR10\\\\test\\\\0\\\\5259.png',\n",
       " 'C:\\\\Users\\\\Bernhard\\\\Documents\\\\data\\\\CIFAR10\\\\test\\\\0\\\\526.png',\n",
       " 'C:\\\\Users\\\\Bernhard\\\\Documents\\\\data\\\\CIFAR10\\\\test\\\\0\\\\5260.png',\n",
       " 'C:\\\\Users\\\\Bernhard\\\\Documents\\\\data\\\\CIFAR10\\\\test\\\\0\\\\527.png',\n",
       " 'C:\\\\Users\\\\Bernhard\\\\Documents\\\\data\\\\CIFAR10\\\\test\\\\0\\\\5278.png',\n",
       " 'C:\\\\Users\\\\Bernhard\\\\Documents\\\\data\\\\CIFAR10\\\\test\\\\0\\\\5279.png',\n",
       " 'C:\\\\Users\\\\Bernhard\\\\Documents\\\\data\\\\CIFAR10\\\\test\\\\0\\\\5280.png',\n",
       " 'C:\\\\Users\\\\Bernhard\\\\Documents\\\\data\\\\CIFAR10\\\\test\\\\0\\\\5293.png',\n",
       " 'C:\\\\Users\\\\Bernhard\\\\Documents\\\\data\\\\CIFAR10\\\\test\\\\0\\\\5295.png',\n",
       " 'C:\\\\Users\\\\Bernhard\\\\Documents\\\\data\\\\CIFAR10\\\\test\\\\0\\\\5302.png',\n",
       " 'C:\\\\Users\\\\Bernhard\\\\Documents\\\\data\\\\CIFAR10\\\\test\\\\0\\\\531.png',\n",
       " 'C:\\\\Users\\\\Bernhard\\\\Documents\\\\data\\\\CIFAR10\\\\test\\\\0\\\\5310.png',\n",
       " 'C:\\\\Users\\\\Bernhard\\\\Documents\\\\data\\\\CIFAR10\\\\test\\\\0\\\\5327.png',\n",
       " 'C:\\\\Users\\\\Bernhard\\\\Documents\\\\data\\\\CIFAR10\\\\test\\\\0\\\\5328.png',\n",
       " 'C:\\\\Users\\\\Bernhard\\\\Documents\\\\data\\\\CIFAR10\\\\test\\\\0\\\\5339.png',\n",
       " 'C:\\\\Users\\\\Bernhard\\\\Documents\\\\data\\\\CIFAR10\\\\test\\\\0\\\\5354.png',\n",
       " 'C:\\\\Users\\\\Bernhard\\\\Documents\\\\data\\\\CIFAR10\\\\test\\\\0\\\\5357.png',\n",
       " 'C:\\\\Users\\\\Bernhard\\\\Documents\\\\data\\\\CIFAR10\\\\test\\\\0\\\\5367.png',\n",
       " 'C:\\\\Users\\\\Bernhard\\\\Documents\\\\data\\\\CIFAR10\\\\test\\\\0\\\\5374.png',\n",
       " 'C:\\\\Users\\\\Bernhard\\\\Documents\\\\data\\\\CIFAR10\\\\test\\\\0\\\\5382.png',\n",
       " 'C:\\\\Users\\\\Bernhard\\\\Documents\\\\data\\\\CIFAR10\\\\test\\\\0\\\\539.png',\n",
       " 'C:\\\\Users\\\\Bernhard\\\\Documents\\\\data\\\\CIFAR10\\\\test\\\\0\\\\5392.png',\n",
       " 'C:\\\\Users\\\\Bernhard\\\\Documents\\\\data\\\\CIFAR10\\\\test\\\\0\\\\5395.png',\n",
       " 'C:\\\\Users\\\\Bernhard\\\\Documents\\\\data\\\\CIFAR10\\\\test\\\\0\\\\5437.png',\n",
       " 'C:\\\\Users\\\\Bernhard\\\\Documents\\\\data\\\\CIFAR10\\\\test\\\\0\\\\5452.png',\n",
       " 'C:\\\\Users\\\\Bernhard\\\\Documents\\\\data\\\\CIFAR10\\\\test\\\\0\\\\5454.png',\n",
       " 'C:\\\\Users\\\\Bernhard\\\\Documents\\\\data\\\\CIFAR10\\\\test\\\\0\\\\5460.png',\n",
       " 'C:\\\\Users\\\\Bernhard\\\\Documents\\\\data\\\\CIFAR10\\\\test\\\\0\\\\5461.png',\n",
       " 'C:\\\\Users\\\\Bernhard\\\\Documents\\\\data\\\\CIFAR10\\\\test\\\\0\\\\5462.png',\n",
       " 'C:\\\\Users\\\\Bernhard\\\\Documents\\\\data\\\\CIFAR10\\\\test\\\\0\\\\5475.png',\n",
       " 'C:\\\\Users\\\\Bernhard\\\\Documents\\\\data\\\\CIFAR10\\\\test\\\\0\\\\5491.png',\n",
       " 'C:\\\\Users\\\\Bernhard\\\\Documents\\\\data\\\\CIFAR10\\\\test\\\\0\\\\5516.png',\n",
       " 'C:\\\\Users\\\\Bernhard\\\\Documents\\\\data\\\\CIFAR10\\\\test\\\\0\\\\5524.png',\n",
       " 'C:\\\\Users\\\\Bernhard\\\\Documents\\\\data\\\\CIFAR10\\\\test\\\\0\\\\5543.png',\n",
       " 'C:\\\\Users\\\\Bernhard\\\\Documents\\\\data\\\\CIFAR10\\\\test\\\\0\\\\5544.png',\n",
       " 'C:\\\\Users\\\\Bernhard\\\\Documents\\\\data\\\\CIFAR10\\\\test\\\\0\\\\5569.png',\n",
       " 'C:\\\\Users\\\\Bernhard\\\\Documents\\\\data\\\\CIFAR10\\\\test\\\\0\\\\5571.png',\n",
       " 'C:\\\\Users\\\\Bernhard\\\\Documents\\\\data\\\\CIFAR10\\\\test\\\\0\\\\5583.png',\n",
       " 'C:\\\\Users\\\\Bernhard\\\\Documents\\\\data\\\\CIFAR10\\\\test\\\\0\\\\5584.png',\n",
       " 'C:\\\\Users\\\\Bernhard\\\\Documents\\\\data\\\\CIFAR10\\\\test\\\\0\\\\5585.png',\n",
       " 'C:\\\\Users\\\\Bernhard\\\\Documents\\\\data\\\\CIFAR10\\\\test\\\\0\\\\5587.png',\n",
       " 'C:\\\\Users\\\\Bernhard\\\\Documents\\\\data\\\\CIFAR10\\\\test\\\\0\\\\560.png',\n",
       " 'C:\\\\Users\\\\Bernhard\\\\Documents\\\\data\\\\CIFAR10\\\\test\\\\0\\\\5618.png',\n",
       " 'C:\\\\Users\\\\Bernhard\\\\Documents\\\\data\\\\CIFAR10\\\\test\\\\0\\\\5626.png',\n",
       " 'C:\\\\Users\\\\Bernhard\\\\Documents\\\\data\\\\CIFAR10\\\\test\\\\0\\\\5649.png',\n",
       " 'C:\\\\Users\\\\Bernhard\\\\Documents\\\\data\\\\CIFAR10\\\\test\\\\0\\\\5652.png',\n",
       " 'C:\\\\Users\\\\Bernhard\\\\Documents\\\\data\\\\CIFAR10\\\\test\\\\0\\\\5669.png',\n",
       " 'C:\\\\Users\\\\Bernhard\\\\Documents\\\\data\\\\CIFAR10\\\\test\\\\0\\\\5679.png',\n",
       " 'C:\\\\Users\\\\Bernhard\\\\Documents\\\\data\\\\CIFAR10\\\\test\\\\0\\\\5703.png',\n",
       " 'C:\\\\Users\\\\Bernhard\\\\Documents\\\\data\\\\CIFAR10\\\\test\\\\0\\\\5707.png',\n",
       " 'C:\\\\Users\\\\Bernhard\\\\Documents\\\\data\\\\CIFAR10\\\\test\\\\0\\\\5716.png',\n",
       " 'C:\\\\Users\\\\Bernhard\\\\Documents\\\\data\\\\CIFAR10\\\\test\\\\0\\\\5721.png',\n",
       " 'C:\\\\Users\\\\Bernhard\\\\Documents\\\\data\\\\CIFAR10\\\\test\\\\0\\\\5722.png',\n",
       " 'C:\\\\Users\\\\Bernhard\\\\Documents\\\\data\\\\CIFAR10\\\\test\\\\0\\\\5735.png',\n",
       " 'C:\\\\Users\\\\Bernhard\\\\Documents\\\\data\\\\CIFAR10\\\\test\\\\0\\\\5762.png',\n",
       " 'C:\\\\Users\\\\Bernhard\\\\Documents\\\\data\\\\CIFAR10\\\\test\\\\0\\\\5781.png',\n",
       " 'C:\\\\Users\\\\Bernhard\\\\Documents\\\\data\\\\CIFAR10\\\\test\\\\0\\\\5787.png',\n",
       " 'C:\\\\Users\\\\Bernhard\\\\Documents\\\\data\\\\CIFAR10\\\\test\\\\0\\\\5788.png',\n",
       " 'C:\\\\Users\\\\Bernhard\\\\Documents\\\\data\\\\CIFAR10\\\\test\\\\0\\\\5798.png',\n",
       " 'C:\\\\Users\\\\Bernhard\\\\Documents\\\\data\\\\CIFAR10\\\\test\\\\0\\\\5804.png',\n",
       " 'C:\\\\Users\\\\Bernhard\\\\Documents\\\\data\\\\CIFAR10\\\\test\\\\0\\\\5806.png',\n",
       " 'C:\\\\Users\\\\Bernhard\\\\Documents\\\\data\\\\CIFAR10\\\\test\\\\0\\\\5809.png',\n",
       " 'C:\\\\Users\\\\Bernhard\\\\Documents\\\\data\\\\CIFAR10\\\\test\\\\0\\\\581.png',\n",
       " 'C:\\\\Users\\\\Bernhard\\\\Documents\\\\data\\\\CIFAR10\\\\test\\\\0\\\\5827.png',\n",
       " 'C:\\\\Users\\\\Bernhard\\\\Documents\\\\data\\\\CIFAR10\\\\test\\\\0\\\\584.png',\n",
       " 'C:\\\\Users\\\\Bernhard\\\\Documents\\\\data\\\\CIFAR10\\\\test\\\\0\\\\5844.png',\n",
       " 'C:\\\\Users\\\\Bernhard\\\\Documents\\\\data\\\\CIFAR10\\\\test\\\\0\\\\5857.png',\n",
       " 'C:\\\\Users\\\\Bernhard\\\\Documents\\\\data\\\\CIFAR10\\\\test\\\\0\\\\5860.png',\n",
       " 'C:\\\\Users\\\\Bernhard\\\\Documents\\\\data\\\\CIFAR10\\\\test\\\\0\\\\5880.png',\n",
       " 'C:\\\\Users\\\\Bernhard\\\\Documents\\\\data\\\\CIFAR10\\\\test\\\\0\\\\5891.png',\n",
       " 'C:\\\\Users\\\\Bernhard\\\\Documents\\\\data\\\\CIFAR10\\\\test\\\\0\\\\5923.png',\n",
       " 'C:\\\\Users\\\\Bernhard\\\\Documents\\\\data\\\\CIFAR10\\\\test\\\\0\\\\5948.png',\n",
       " 'C:\\\\Users\\\\Bernhard\\\\Documents\\\\data\\\\CIFAR10\\\\test\\\\0\\\\5951.png',\n",
       " 'C:\\\\Users\\\\Bernhard\\\\Documents\\\\data\\\\CIFAR10\\\\test\\\\0\\\\5968.png',\n",
       " 'C:\\\\Users\\\\Bernhard\\\\Documents\\\\data\\\\CIFAR10\\\\test\\\\0\\\\5995.png',\n",
       " 'C:\\\\Users\\\\Bernhard\\\\Documents\\\\data\\\\CIFAR10\\\\test\\\\0\\\\5997.png',\n",
       " 'C:\\\\Users\\\\Bernhard\\\\Documents\\\\data\\\\CIFAR10\\\\test\\\\0\\\\6001.png',\n",
       " 'C:\\\\Users\\\\Bernhard\\\\Documents\\\\data\\\\CIFAR10\\\\test\\\\0\\\\6003.png',\n",
       " 'C:\\\\Users\\\\Bernhard\\\\Documents\\\\data\\\\CIFAR10\\\\test\\\\0\\\\6006.png',\n",
       " 'C:\\\\Users\\\\Bernhard\\\\Documents\\\\data\\\\CIFAR10\\\\test\\\\0\\\\6015.png',\n",
       " 'C:\\\\Users\\\\Bernhard\\\\Documents\\\\data\\\\CIFAR10\\\\test\\\\0\\\\602.png',\n",
       " 'C:\\\\Users\\\\Bernhard\\\\Documents\\\\data\\\\CIFAR10\\\\test\\\\0\\\\6022.png',\n",
       " 'C:\\\\Users\\\\Bernhard\\\\Documents\\\\data\\\\CIFAR10\\\\test\\\\0\\\\6029.png',\n",
       " 'C:\\\\Users\\\\Bernhard\\\\Documents\\\\data\\\\CIFAR10\\\\test\\\\0\\\\6036.png',\n",
       " 'C:\\\\Users\\\\Bernhard\\\\Documents\\\\data\\\\CIFAR10\\\\test\\\\0\\\\6047.png',\n",
       " 'C:\\\\Users\\\\Bernhard\\\\Documents\\\\data\\\\CIFAR10\\\\test\\\\0\\\\6055.png',\n",
       " 'C:\\\\Users\\\\Bernhard\\\\Documents\\\\data\\\\CIFAR10\\\\test\\\\0\\\\6057.png',\n",
       " 'C:\\\\Users\\\\Bernhard\\\\Documents\\\\data\\\\CIFAR10\\\\test\\\\0\\\\6061.png',\n",
       " 'C:\\\\Users\\\\Bernhard\\\\Documents\\\\data\\\\CIFAR10\\\\test\\\\0\\\\6069.png',\n",
       " 'C:\\\\Users\\\\Bernhard\\\\Documents\\\\data\\\\CIFAR10\\\\test\\\\0\\\\6077.png',\n",
       " 'C:\\\\Users\\\\Bernhard\\\\Documents\\\\data\\\\CIFAR10\\\\test\\\\0\\\\6081.png',\n",
       " 'C:\\\\Users\\\\Bernhard\\\\Documents\\\\data\\\\CIFAR10\\\\test\\\\0\\\\6082.png',\n",
       " 'C:\\\\Users\\\\Bernhard\\\\Documents\\\\data\\\\CIFAR10\\\\test\\\\0\\\\6091.png',\n",
       " 'C:\\\\Users\\\\Bernhard\\\\Documents\\\\data\\\\CIFAR10\\\\test\\\\0\\\\6105.png',\n",
       " 'C:\\\\Users\\\\Bernhard\\\\Documents\\\\data\\\\CIFAR10\\\\test\\\\0\\\\6118.png',\n",
       " 'C:\\\\Users\\\\Bernhard\\\\Documents\\\\data\\\\CIFAR10\\\\test\\\\0\\\\6128.png',\n",
       " 'C:\\\\Users\\\\Bernhard\\\\Documents\\\\data\\\\CIFAR10\\\\test\\\\0\\\\6133.png',\n",
       " 'C:\\\\Users\\\\Bernhard\\\\Documents\\\\data\\\\CIFAR10\\\\test\\\\0\\\\6146.png',\n",
       " 'C:\\\\Users\\\\Bernhard\\\\Documents\\\\data\\\\CIFAR10\\\\test\\\\0\\\\6157.png',\n",
       " 'C:\\\\Users\\\\Bernhard\\\\Documents\\\\data\\\\CIFAR10\\\\test\\\\0\\\\6162.png',\n",
       " 'C:\\\\Users\\\\Bernhard\\\\Documents\\\\data\\\\CIFAR10\\\\test\\\\0\\\\6180.png',\n",
       " 'C:\\\\Users\\\\Bernhard\\\\Documents\\\\data\\\\CIFAR10\\\\test\\\\0\\\\6187.png',\n",
       " 'C:\\\\Users\\\\Bernhard\\\\Documents\\\\data\\\\CIFAR10\\\\test\\\\0\\\\6191.png',\n",
       " 'C:\\\\Users\\\\Bernhard\\\\Documents\\\\data\\\\CIFAR10\\\\test\\\\0\\\\6221.png',\n",
       " 'C:\\\\Users\\\\Bernhard\\\\Documents\\\\data\\\\CIFAR10\\\\test\\\\0\\\\6222.png',\n",
       " 'C:\\\\Users\\\\Bernhard\\\\Documents\\\\data\\\\CIFAR10\\\\test\\\\0\\\\6241.png',\n",
       " 'C:\\\\Users\\\\Bernhard\\\\Documents\\\\data\\\\CIFAR10\\\\test\\\\0\\\\6247.png',\n",
       " 'C:\\\\Users\\\\Bernhard\\\\Documents\\\\data\\\\CIFAR10\\\\test\\\\0\\\\6258.png',\n",
       " 'C:\\\\Users\\\\Bernhard\\\\Documents\\\\data\\\\CIFAR10\\\\test\\\\0\\\\6261.png',\n",
       " 'C:\\\\Users\\\\Bernhard\\\\Documents\\\\data\\\\CIFAR10\\\\test\\\\0\\\\6284.png',\n",
       " 'C:\\\\Users\\\\Bernhard\\\\Documents\\\\data\\\\CIFAR10\\\\test\\\\0\\\\6294.png',\n",
       " 'C:\\\\Users\\\\Bernhard\\\\Documents\\\\data\\\\CIFAR10\\\\test\\\\0\\\\6302.png',\n",
       " 'C:\\\\Users\\\\Bernhard\\\\Documents\\\\data\\\\CIFAR10\\\\test\\\\0\\\\6304.png',\n",
       " 'C:\\\\Users\\\\Bernhard\\\\Documents\\\\data\\\\CIFAR10\\\\test\\\\0\\\\6306.png',\n",
       " 'C:\\\\Users\\\\Bernhard\\\\Documents\\\\data\\\\CIFAR10\\\\test\\\\0\\\\6320.png',\n",
       " 'C:\\\\Users\\\\Bernhard\\\\Documents\\\\data\\\\CIFAR10\\\\test\\\\0\\\\6328.png',\n",
       " 'C:\\\\Users\\\\Bernhard\\\\Documents\\\\data\\\\CIFAR10\\\\test\\\\0\\\\6331.png',\n",
       " 'C:\\\\Users\\\\Bernhard\\\\Documents\\\\data\\\\CIFAR10\\\\test\\\\0\\\\6334.png',\n",
       " 'C:\\\\Users\\\\Bernhard\\\\Documents\\\\data\\\\CIFAR10\\\\test\\\\0\\\\6347.png',\n",
       " 'C:\\\\Users\\\\Bernhard\\\\Documents\\\\data\\\\CIFAR10\\\\test\\\\0\\\\6349.png',\n",
       " 'C:\\\\Users\\\\Bernhard\\\\Documents\\\\data\\\\CIFAR10\\\\test\\\\0\\\\6350.png',\n",
       " 'C:\\\\Users\\\\Bernhard\\\\Documents\\\\data\\\\CIFAR10\\\\test\\\\0\\\\6351.png',\n",
       " 'C:\\\\Users\\\\Bernhard\\\\Documents\\\\data\\\\CIFAR10\\\\test\\\\0\\\\6355.png',\n",
       " 'C:\\\\Users\\\\Bernhard\\\\Documents\\\\data\\\\CIFAR10\\\\test\\\\0\\\\6361.png',\n",
       " 'C:\\\\Users\\\\Bernhard\\\\Documents\\\\data\\\\CIFAR10\\\\test\\\\0\\\\6363.png',\n",
       " 'C:\\\\Users\\\\Bernhard\\\\Documents\\\\data\\\\CIFAR10\\\\test\\\\0\\\\638.png',\n",
       " 'C:\\\\Users\\\\Bernhard\\\\Documents\\\\data\\\\CIFAR10\\\\test\\\\0\\\\6394.png',\n",
       " 'C:\\\\Users\\\\Bernhard\\\\Documents\\\\data\\\\CIFAR10\\\\test\\\\0\\\\6400.png',\n",
       " 'C:\\\\Users\\\\Bernhard\\\\Documents\\\\data\\\\CIFAR10\\\\test\\\\0\\\\6408.png',\n",
       " 'C:\\\\Users\\\\Bernhard\\\\Documents\\\\data\\\\CIFAR10\\\\test\\\\0\\\\6418.png',\n",
       " 'C:\\\\Users\\\\Bernhard\\\\Documents\\\\data\\\\CIFAR10\\\\test\\\\0\\\\642.png',\n",
       " 'C:\\\\Users\\\\Bernhard\\\\Documents\\\\data\\\\CIFAR10\\\\test\\\\0\\\\6434.png',\n",
       " 'C:\\\\Users\\\\Bernhard\\\\Documents\\\\data\\\\CIFAR10\\\\test\\\\0\\\\6436.png',\n",
       " 'C:\\\\Users\\\\Bernhard\\\\Documents\\\\data\\\\CIFAR10\\\\test\\\\0\\\\6437.png',\n",
       " 'C:\\\\Users\\\\Bernhard\\\\Documents\\\\data\\\\CIFAR10\\\\test\\\\0\\\\6450.png',\n",
       " 'C:\\\\Users\\\\Bernhard\\\\Documents\\\\data\\\\CIFAR10\\\\test\\\\0\\\\6462.png',\n",
       " 'C:\\\\Users\\\\Bernhard\\\\Documents\\\\data\\\\CIFAR10\\\\test\\\\0\\\\6476.png',\n",
       " 'C:\\\\Users\\\\Bernhard\\\\Documents\\\\data\\\\CIFAR10\\\\test\\\\0\\\\6480.png',\n",
       " 'C:\\\\Users\\\\Bernhard\\\\Documents\\\\data\\\\CIFAR10\\\\test\\\\0\\\\6481.png',\n",
       " 'C:\\\\Users\\\\Bernhard\\\\Documents\\\\data\\\\CIFAR10\\\\test\\\\0\\\\6491.png',\n",
       " 'C:\\\\Users\\\\Bernhard\\\\Documents\\\\data\\\\CIFAR10\\\\test\\\\0\\\\6494.png',\n",
       " 'C:\\\\Users\\\\Bernhard\\\\Documents\\\\data\\\\CIFAR10\\\\test\\\\0\\\\6508.png',\n",
       " 'C:\\\\Users\\\\Bernhard\\\\Documents\\\\data\\\\CIFAR10\\\\test\\\\0\\\\6544.png',\n",
       " 'C:\\\\Users\\\\Bernhard\\\\Documents\\\\data\\\\CIFAR10\\\\test\\\\0\\\\6548.png',\n",
       " 'C:\\\\Users\\\\Bernhard\\\\Documents\\\\data\\\\CIFAR10\\\\test\\\\0\\\\6549.png',\n",
       " 'C:\\\\Users\\\\Bernhard\\\\Documents\\\\data\\\\CIFAR10\\\\test\\\\0\\\\6574.png',\n",
       " 'C:\\\\Users\\\\Bernhard\\\\Documents\\\\data\\\\CIFAR10\\\\test\\\\0\\\\6583.png',\n",
       " 'C:\\\\Users\\\\Bernhard\\\\Documents\\\\data\\\\CIFAR10\\\\test\\\\0\\\\6588.png',\n",
       " 'C:\\\\Users\\\\Bernhard\\\\Documents\\\\data\\\\CIFAR10\\\\test\\\\0\\\\6601.png',\n",
       " 'C:\\\\Users\\\\Bernhard\\\\Documents\\\\data\\\\CIFAR10\\\\test\\\\0\\\\6618.png',\n",
       " 'C:\\\\Users\\\\Bernhard\\\\Documents\\\\data\\\\CIFAR10\\\\test\\\\0\\\\6619.png',\n",
       " 'C:\\\\Users\\\\Bernhard\\\\Documents\\\\data\\\\CIFAR10\\\\test\\\\0\\\\6621.png',\n",
       " 'C:\\\\Users\\\\Bernhard\\\\Documents\\\\data\\\\CIFAR10\\\\test\\\\0\\\\6623.png',\n",
       " 'C:\\\\Users\\\\Bernhard\\\\Documents\\\\data\\\\CIFAR10\\\\test\\\\0\\\\6629.png',\n",
       " 'C:\\\\Users\\\\Bernhard\\\\Documents\\\\data\\\\CIFAR10\\\\test\\\\0\\\\6633.png',\n",
       " 'C:\\\\Users\\\\Bernhard\\\\Documents\\\\data\\\\CIFAR10\\\\test\\\\0\\\\6641.png',\n",
       " 'C:\\\\Users\\\\Bernhard\\\\Documents\\\\data\\\\CIFAR10\\\\test\\\\0\\\\6644.png',\n",
       " 'C:\\\\Users\\\\Bernhard\\\\Documents\\\\data\\\\CIFAR10\\\\test\\\\0\\\\6648.png',\n",
       " 'C:\\\\Users\\\\Bernhard\\\\Documents\\\\data\\\\CIFAR10\\\\test\\\\0\\\\6650.png',\n",
       " 'C:\\\\Users\\\\Bernhard\\\\Documents\\\\data\\\\CIFAR10\\\\test\\\\0\\\\6653.png',\n",
       " 'C:\\\\Users\\\\Bernhard\\\\Documents\\\\data\\\\CIFAR10\\\\test\\\\0\\\\6660.png',\n",
       " 'C:\\\\Users\\\\Bernhard\\\\Documents\\\\data\\\\CIFAR10\\\\test\\\\0\\\\6663.png',\n",
       " 'C:\\\\Users\\\\Bernhard\\\\Documents\\\\data\\\\CIFAR10\\\\test\\\\0\\\\667.png',\n",
       " 'C:\\\\Users\\\\Bernhard\\\\Documents\\\\data\\\\CIFAR10\\\\test\\\\0\\\\6676.png',\n",
       " 'C:\\\\Users\\\\Bernhard\\\\Documents\\\\data\\\\CIFAR10\\\\test\\\\0\\\\6696.png',\n",
       " 'C:\\\\Users\\\\Bernhard\\\\Documents\\\\data\\\\CIFAR10\\\\test\\\\0\\\\6712.png',\n",
       " 'C:\\\\Users\\\\Bernhard\\\\Documents\\\\data\\\\CIFAR10\\\\test\\\\0\\\\6717.png',\n",
       " 'C:\\\\Users\\\\Bernhard\\\\Documents\\\\data\\\\CIFAR10\\\\test\\\\0\\\\6729.png',\n",
       " 'C:\\\\Users\\\\Bernhard\\\\Documents\\\\data\\\\CIFAR10\\\\test\\\\0\\\\6738.png',\n",
       " 'C:\\\\Users\\\\Bernhard\\\\Documents\\\\data\\\\CIFAR10\\\\test\\\\0\\\\6739.png',\n",
       " 'C:\\\\Users\\\\Bernhard\\\\Documents\\\\data\\\\CIFAR10\\\\test\\\\0\\\\6748.png',\n",
       " 'C:\\\\Users\\\\Bernhard\\\\Documents\\\\data\\\\CIFAR10\\\\test\\\\0\\\\675.png',\n",
       " 'C:\\\\Users\\\\Bernhard\\\\Documents\\\\data\\\\CIFAR10\\\\test\\\\0\\\\6772.png',\n",
       " 'C:\\\\Users\\\\Bernhard\\\\Documents\\\\data\\\\CIFAR10\\\\test\\\\0\\\\6775.png',\n",
       " 'C:\\\\Users\\\\Bernhard\\\\Documents\\\\data\\\\CIFAR10\\\\test\\\\0\\\\678.png',\n",
       " 'C:\\\\Users\\\\Bernhard\\\\Documents\\\\data\\\\CIFAR10\\\\test\\\\0\\\\6797.png',\n",
       " 'C:\\\\Users\\\\Bernhard\\\\Documents\\\\data\\\\CIFAR10\\\\test\\\\0\\\\6799.png',\n",
       " 'C:\\\\Users\\\\Bernhard\\\\Documents\\\\data\\\\CIFAR10\\\\test\\\\0\\\\6808.png',\n",
       " 'C:\\\\Users\\\\Bernhard\\\\Documents\\\\data\\\\CIFAR10\\\\test\\\\0\\\\6812.png',\n",
       " 'C:\\\\Users\\\\Bernhard\\\\Documents\\\\data\\\\CIFAR10\\\\test\\\\0\\\\6815.png',\n",
       " 'C:\\\\Users\\\\Bernhard\\\\Documents\\\\data\\\\CIFAR10\\\\test\\\\0\\\\6821.png',\n",
       " 'C:\\\\Users\\\\Bernhard\\\\Documents\\\\data\\\\CIFAR10\\\\test\\\\0\\\\6824.png',\n",
       " 'C:\\\\Users\\\\Bernhard\\\\Documents\\\\data\\\\CIFAR10\\\\test\\\\0\\\\6851.png',\n",
       " 'C:\\\\Users\\\\Bernhard\\\\Documents\\\\data\\\\CIFAR10\\\\test\\\\0\\\\6854.png',\n",
       " 'C:\\\\Users\\\\Bernhard\\\\Documents\\\\data\\\\CIFAR10\\\\test\\\\0\\\\6860.png',\n",
       " 'C:\\\\Users\\\\Bernhard\\\\Documents\\\\data\\\\CIFAR10\\\\test\\\\0\\\\6864.png',\n",
       " 'C:\\\\Users\\\\Bernhard\\\\Documents\\\\data\\\\CIFAR10\\\\test\\\\0\\\\6872.png',\n",
       " 'C:\\\\Users\\\\Bernhard\\\\Documents\\\\data\\\\CIFAR10\\\\test\\\\0\\\\6877.png',\n",
       " 'C:\\\\Users\\\\Bernhard\\\\Documents\\\\data\\\\CIFAR10\\\\test\\\\0\\\\6884.png',\n",
       " 'C:\\\\Users\\\\Bernhard\\\\Documents\\\\data\\\\CIFAR10\\\\test\\\\0\\\\6885.png',\n",
       " 'C:\\\\Users\\\\Bernhard\\\\Documents\\\\data\\\\CIFAR10\\\\test\\\\0\\\\689.png',\n",
       " 'C:\\\\Users\\\\Bernhard\\\\Documents\\\\data\\\\CIFAR10\\\\test\\\\0\\\\6923.png',\n",
       " 'C:\\\\Users\\\\Bernhard\\\\Documents\\\\data\\\\CIFAR10\\\\test\\\\0\\\\6933.png',\n",
       " 'C:\\\\Users\\\\Bernhard\\\\Documents\\\\data\\\\CIFAR10\\\\test\\\\0\\\\6949.png',\n",
       " 'C:\\\\Users\\\\Bernhard\\\\Documents\\\\data\\\\CIFAR10\\\\test\\\\0\\\\6953.png',\n",
       " 'C:\\\\Users\\\\Bernhard\\\\Documents\\\\data\\\\CIFAR10\\\\test\\\\0\\\\6966.png',\n",
       " 'C:\\\\Users\\\\Bernhard\\\\Documents\\\\data\\\\CIFAR10\\\\test\\\\0\\\\6970.png',\n",
       " 'C:\\\\Users\\\\Bernhard\\\\Documents\\\\data\\\\CIFAR10\\\\test\\\\0\\\\6980.png',\n",
       " 'C:\\\\Users\\\\Bernhard\\\\Documents\\\\data\\\\CIFAR10\\\\test\\\\0\\\\6985.png',\n",
       " 'C:\\\\Users\\\\Bernhard\\\\Documents\\\\data\\\\CIFAR10\\\\test\\\\0\\\\6996.png',\n",
       " 'C:\\\\Users\\\\Bernhard\\\\Documents\\\\data\\\\CIFAR10\\\\test\\\\0\\\\7010.png',\n",
       " 'C:\\\\Users\\\\Bernhard\\\\Documents\\\\data\\\\CIFAR10\\\\test\\\\0\\\\7018.png',\n",
       " 'C:\\\\Users\\\\Bernhard\\\\Documents\\\\data\\\\CIFAR10\\\\test\\\\0\\\\7031.png',\n",
       " 'C:\\\\Users\\\\Bernhard\\\\Documents\\\\data\\\\CIFAR10\\\\test\\\\0\\\\7034.png',\n",
       " 'C:\\\\Users\\\\Bernhard\\\\Documents\\\\data\\\\CIFAR10\\\\test\\\\0\\\\7038.png',\n",
       " 'C:\\\\Users\\\\Bernhard\\\\Documents\\\\data\\\\CIFAR10\\\\test\\\\0\\\\7069.png',\n",
       " 'C:\\\\Users\\\\Bernhard\\\\Documents\\\\data\\\\CIFAR10\\\\test\\\\0\\\\7077.png',\n",
       " 'C:\\\\Users\\\\Bernhard\\\\Documents\\\\data\\\\CIFAR10\\\\test\\\\0\\\\7096.png',\n",
       " 'C:\\\\Users\\\\Bernhard\\\\Documents\\\\data\\\\CIFAR10\\\\test\\\\0\\\\7102.png',\n",
       " 'C:\\\\Users\\\\Bernhard\\\\Documents\\\\data\\\\CIFAR10\\\\test\\\\0\\\\7103.png',\n",
       " 'C:\\\\Users\\\\Bernhard\\\\Documents\\\\data\\\\CIFAR10\\\\test\\\\0\\\\7115.png',\n",
       " 'C:\\\\Users\\\\Bernhard\\\\Documents\\\\data\\\\CIFAR10\\\\test\\\\0\\\\7116.png',\n",
       " 'C:\\\\Users\\\\Bernhard\\\\Documents\\\\data\\\\CIFAR10\\\\test\\\\0\\\\7126.png',\n",
       " 'C:\\\\Users\\\\Bernhard\\\\Documents\\\\data\\\\CIFAR10\\\\test\\\\0\\\\7138.png',\n",
       " 'C:\\\\Users\\\\Bernhard\\\\Documents\\\\data\\\\CIFAR10\\\\test\\\\0\\\\7139.png',\n",
       " 'C:\\\\Users\\\\Bernhard\\\\Documents\\\\data\\\\CIFAR10\\\\test\\\\0\\\\7146.png',\n",
       " 'C:\\\\Users\\\\Bernhard\\\\Documents\\\\data\\\\CIFAR10\\\\test\\\\0\\\\7148.png',\n",
       " 'C:\\\\Users\\\\Bernhard\\\\Documents\\\\data\\\\CIFAR10\\\\test\\\\0\\\\7154.png',\n",
       " 'C:\\\\Users\\\\Bernhard\\\\Documents\\\\data\\\\CIFAR10\\\\test\\\\0\\\\7164.png',\n",
       " 'C:\\\\Users\\\\Bernhard\\\\Documents\\\\data\\\\CIFAR10\\\\test\\\\0\\\\7165.png',\n",
       " 'C:\\\\Users\\\\Bernhard\\\\Documents\\\\data\\\\CIFAR10\\\\test\\\\0\\\\7178.png',\n",
       " 'C:\\\\Users\\\\Bernhard\\\\Documents\\\\data\\\\CIFAR10\\\\test\\\\0\\\\7182.png',\n",
       " 'C:\\\\Users\\\\Bernhard\\\\Documents\\\\data\\\\CIFAR10\\\\test\\\\0\\\\7189.png',\n",
       " 'C:\\\\Users\\\\Bernhard\\\\Documents\\\\data\\\\CIFAR10\\\\test\\\\0\\\\7196.png',\n",
       " 'C:\\\\Users\\\\Bernhard\\\\Documents\\\\data\\\\CIFAR10\\\\test\\\\0\\\\7209.png',\n",
       " 'C:\\\\Users\\\\Bernhard\\\\Documents\\\\data\\\\CIFAR10\\\\test\\\\0\\\\7240.png',\n",
       " 'C:\\\\Users\\\\Bernhard\\\\Documents\\\\data\\\\CIFAR10\\\\test\\\\0\\\\7246.png',\n",
       " 'C:\\\\Users\\\\Bernhard\\\\Documents\\\\data\\\\CIFAR10\\\\test\\\\0\\\\7257.png',\n",
       " 'C:\\\\Users\\\\Bernhard\\\\Documents\\\\data\\\\CIFAR10\\\\test\\\\0\\\\7284.png',\n",
       " 'C:\\\\Users\\\\Bernhard\\\\Documents\\\\data\\\\CIFAR10\\\\test\\\\0\\\\7289.png',\n",
       " 'C:\\\\Users\\\\Bernhard\\\\Documents\\\\data\\\\CIFAR10\\\\test\\\\0\\\\7315.png',\n",
       " 'C:\\\\Users\\\\Bernhard\\\\Documents\\\\data\\\\CIFAR10\\\\test\\\\0\\\\7347.png',\n",
       " 'C:\\\\Users\\\\Bernhard\\\\Documents\\\\data\\\\CIFAR10\\\\test\\\\0\\\\7354.png',\n",
       " 'C:\\\\Users\\\\Bernhard\\\\Documents\\\\data\\\\CIFAR10\\\\test\\\\0\\\\7356.png',\n",
       " 'C:\\\\Users\\\\Bernhard\\\\Documents\\\\data\\\\CIFAR10\\\\test\\\\0\\\\7373.png',\n",
       " 'C:\\\\Users\\\\Bernhard\\\\Documents\\\\data\\\\CIFAR10\\\\test\\\\0\\\\74.png',\n",
       " 'C:\\\\Users\\\\Bernhard\\\\Documents\\\\data\\\\CIFAR10\\\\test\\\\0\\\\7402.png',\n",
       " 'C:\\\\Users\\\\Bernhard\\\\Documents\\\\data\\\\CIFAR10\\\\test\\\\0\\\\7419.png',\n",
       " 'C:\\\\Users\\\\Bernhard\\\\Documents\\\\data\\\\CIFAR10\\\\test\\\\0\\\\742.png',\n",
       " 'C:\\\\Users\\\\Bernhard\\\\Documents\\\\data\\\\CIFAR10\\\\test\\\\0\\\\7428.png',\n",
       " 'C:\\\\Users\\\\Bernhard\\\\Documents\\\\data\\\\CIFAR10\\\\test\\\\0\\\\7434.png',\n",
       " 'C:\\\\Users\\\\Bernhard\\\\Documents\\\\data\\\\CIFAR10\\\\test\\\\0\\\\7436.png',\n",
       " 'C:\\\\Users\\\\Bernhard\\\\Documents\\\\data\\\\CIFAR10\\\\test\\\\0\\\\7449.png',\n",
       " 'C:\\\\Users\\\\Bernhard\\\\Documents\\\\data\\\\CIFAR10\\\\test\\\\0\\\\7453.png',\n",
       " 'C:\\\\Users\\\\Bernhard\\\\Documents\\\\data\\\\CIFAR10\\\\test\\\\0\\\\7454.png',\n",
       " 'C:\\\\Users\\\\Bernhard\\\\Documents\\\\data\\\\CIFAR10\\\\test\\\\0\\\\7465.png',\n",
       " 'C:\\\\Users\\\\Bernhard\\\\Documents\\\\data\\\\CIFAR10\\\\test\\\\0\\\\7477.png',\n",
       " 'C:\\\\Users\\\\Bernhard\\\\Documents\\\\data\\\\CIFAR10\\\\test\\\\0\\\\7511.png',\n",
       " 'C:\\\\Users\\\\Bernhard\\\\Documents\\\\data\\\\CIFAR10\\\\test\\\\0\\\\7513.png',\n",
       " 'C:\\\\Users\\\\Bernhard\\\\Documents\\\\data\\\\CIFAR10\\\\test\\\\0\\\\7523.png',\n",
       " 'C:\\\\Users\\\\Bernhard\\\\Documents\\\\data\\\\CIFAR10\\\\test\\\\0\\\\7533.png',\n",
       " 'C:\\\\Users\\\\Bernhard\\\\Documents\\\\data\\\\CIFAR10\\\\test\\\\0\\\\7541.png',\n",
       " 'C:\\\\Users\\\\Bernhard\\\\Documents\\\\data\\\\CIFAR10\\\\test\\\\0\\\\7544.png',\n",
       " 'C:\\\\Users\\\\Bernhard\\\\Documents\\\\data\\\\CIFAR10\\\\test\\\\0\\\\7560.png',\n",
       " 'C:\\\\Users\\\\Bernhard\\\\Documents\\\\data\\\\CIFAR10\\\\test\\\\0\\\\7594.png',\n",
       " 'C:\\\\Users\\\\Bernhard\\\\Documents\\\\data\\\\CIFAR10\\\\test\\\\0\\\\7607.png',\n",
       " 'C:\\\\Users\\\\Bernhard\\\\Documents\\\\data\\\\CIFAR10\\\\test\\\\0\\\\7609.png',\n",
       " 'C:\\\\Users\\\\Bernhard\\\\Documents\\\\data\\\\CIFAR10\\\\test\\\\0\\\\7616.png',\n",
       " 'C:\\\\Users\\\\Bernhard\\\\Documents\\\\data\\\\CIFAR10\\\\test\\\\0\\\\763.png',\n",
       " 'C:\\\\Users\\\\Bernhard\\\\Documents\\\\data\\\\CIFAR10\\\\test\\\\0\\\\7632.png',\n",
       " 'C:\\\\Users\\\\Bernhard\\\\Documents\\\\data\\\\CIFAR10\\\\test\\\\0\\\\7645.png',\n",
       " 'C:\\\\Users\\\\Bernhard\\\\Documents\\\\data\\\\CIFAR10\\\\test\\\\0\\\\7648.png',\n",
       " 'C:\\\\Users\\\\Bernhard\\\\Documents\\\\data\\\\CIFAR10\\\\test\\\\0\\\\7652.png',\n",
       " 'C:\\\\Users\\\\Bernhard\\\\Documents\\\\data\\\\CIFAR10\\\\test\\\\0\\\\767.png',\n",
       " 'C:\\\\Users\\\\Bernhard\\\\Documents\\\\data\\\\CIFAR10\\\\test\\\\0\\\\7681.png',\n",
       " 'C:\\\\Users\\\\Bernhard\\\\Documents\\\\data\\\\CIFAR10\\\\test\\\\0\\\\7683.png',\n",
       " 'C:\\\\Users\\\\Bernhard\\\\Documents\\\\data\\\\CIFAR10\\\\test\\\\0\\\\7684.png',\n",
       " 'C:\\\\Users\\\\Bernhard\\\\Documents\\\\data\\\\CIFAR10\\\\test\\\\0\\\\7689.png',\n",
       " 'C:\\\\Users\\\\Bernhard\\\\Documents\\\\data\\\\CIFAR10\\\\test\\\\0\\\\7692.png',\n",
       " 'C:\\\\Users\\\\Bernhard\\\\Documents\\\\data\\\\CIFAR10\\\\test\\\\0\\\\7696.png',\n",
       " 'C:\\\\Users\\\\Bernhard\\\\Documents\\\\data\\\\CIFAR10\\\\test\\\\0\\\\7698.png',\n",
       " 'C:\\\\Users\\\\Bernhard\\\\Documents\\\\data\\\\CIFAR10\\\\test\\\\0\\\\7701.png',\n",
       " 'C:\\\\Users\\\\Bernhard\\\\Documents\\\\data\\\\CIFAR10\\\\test\\\\0\\\\7718.png',\n",
       " 'C:\\\\Users\\\\Bernhard\\\\Documents\\\\data\\\\CIFAR10\\\\test\\\\0\\\\7733.png',\n",
       " 'C:\\\\Users\\\\Bernhard\\\\Documents\\\\data\\\\CIFAR10\\\\test\\\\0\\\\7737.png',\n",
       " 'C:\\\\Users\\\\Bernhard\\\\Documents\\\\data\\\\CIFAR10\\\\test\\\\0\\\\774.png',\n",
       " 'C:\\\\Users\\\\Bernhard\\\\Documents\\\\data\\\\CIFAR10\\\\test\\\\0\\\\7742.png',\n",
       " 'C:\\\\Users\\\\Bernhard\\\\Documents\\\\data\\\\CIFAR10\\\\test\\\\0\\\\7748.png',\n",
       " 'C:\\\\Users\\\\Bernhard\\\\Documents\\\\data\\\\CIFAR10\\\\test\\\\0\\\\7754.png',\n",
       " 'C:\\\\Users\\\\Bernhard\\\\Documents\\\\data\\\\CIFAR10\\\\test\\\\0\\\\7774.png',\n",
       " 'C:\\\\Users\\\\Bernhard\\\\Documents\\\\data\\\\CIFAR10\\\\test\\\\0\\\\7778.png',\n",
       " 'C:\\\\Users\\\\Bernhard\\\\Documents\\\\data\\\\CIFAR10\\\\test\\\\0\\\\778.png',\n",
       " 'C:\\\\Users\\\\Bernhard\\\\Documents\\\\data\\\\CIFAR10\\\\test\\\\0\\\\7800.png',\n",
       " 'C:\\\\Users\\\\Bernhard\\\\Documents\\\\data\\\\CIFAR10\\\\test\\\\0\\\\7803.png',\n",
       " 'C:\\\\Users\\\\Bernhard\\\\Documents\\\\data\\\\CIFAR10\\\\test\\\\0\\\\7809.png',\n",
       " 'C:\\\\Users\\\\Bernhard\\\\Documents\\\\data\\\\CIFAR10\\\\test\\\\0\\\\7811.png',\n",
       " 'C:\\\\Users\\\\Bernhard\\\\Documents\\\\data\\\\CIFAR10\\\\test\\\\0\\\\7815.png',\n",
       " 'C:\\\\Users\\\\Bernhard\\\\Documents\\\\data\\\\CIFAR10\\\\test\\\\0\\\\7816.png',\n",
       " 'C:\\\\Users\\\\Bernhard\\\\Documents\\\\data\\\\CIFAR10\\\\test\\\\0\\\\7835.png',\n",
       " 'C:\\\\Users\\\\Bernhard\\\\Documents\\\\data\\\\CIFAR10\\\\test\\\\0\\\\7836.png',\n",
       " 'C:\\\\Users\\\\Bernhard\\\\Documents\\\\data\\\\CIFAR10\\\\test\\\\0\\\\7838.png',\n",
       " 'C:\\\\Users\\\\Bernhard\\\\Documents\\\\data\\\\CIFAR10\\\\test\\\\0\\\\7843.png',\n",
       " 'C:\\\\Users\\\\Bernhard\\\\Documents\\\\data\\\\CIFAR10\\\\test\\\\0\\\\785.png',\n",
       " 'C:\\\\Users\\\\Bernhard\\\\Documents\\\\data\\\\CIFAR10\\\\test\\\\0\\\\7850.png',\n",
       " 'C:\\\\Users\\\\Bernhard\\\\Documents\\\\data\\\\CIFAR10\\\\test\\\\0\\\\7851.png',\n",
       " 'C:\\\\Users\\\\Bernhard\\\\Documents\\\\data\\\\CIFAR10\\\\test\\\\0\\\\7861.png',\n",
       " 'C:\\\\Users\\\\Bernhard\\\\Documents\\\\data\\\\CIFAR10\\\\test\\\\0\\\\7863.png',\n",
       " 'C:\\\\Users\\\\Bernhard\\\\Documents\\\\data\\\\CIFAR10\\\\test\\\\0\\\\7869.png',\n",
       " 'C:\\\\Users\\\\Bernhard\\\\Documents\\\\data\\\\CIFAR10\\\\test\\\\0\\\\7871.png',\n",
       " 'C:\\\\Users\\\\Bernhard\\\\Documents\\\\data\\\\CIFAR10\\\\test\\\\0\\\\7877.png',\n",
       " 'C:\\\\Users\\\\Bernhard\\\\Documents\\\\data\\\\CIFAR10\\\\test\\\\0\\\\7880.png',\n",
       " 'C:\\\\Users\\\\Bernhard\\\\Documents\\\\data\\\\CIFAR10\\\\test\\\\0\\\\7900.png',\n",
       " 'C:\\\\Users\\\\Bernhard\\\\Documents\\\\data\\\\CIFAR10\\\\test\\\\0\\\\791.png',\n",
       " 'C:\\\\Users\\\\Bernhard\\\\Documents\\\\data\\\\CIFAR10\\\\test\\\\0\\\\7912.png',\n",
       " 'C:\\\\Users\\\\Bernhard\\\\Documents\\\\data\\\\CIFAR10\\\\test\\\\0\\\\7925.png',\n",
       " 'C:\\\\Users\\\\Bernhard\\\\Documents\\\\data\\\\CIFAR10\\\\test\\\\0\\\\7929.png',\n",
       " 'C:\\\\Users\\\\Bernhard\\\\Documents\\\\data\\\\CIFAR10\\\\test\\\\0\\\\7960.png',\n",
       " 'C:\\\\Users\\\\Bernhard\\\\Documents\\\\data\\\\CIFAR10\\\\test\\\\0\\\\7987.png',\n",
       " 'C:\\\\Users\\\\Bernhard\\\\Documents\\\\data\\\\CIFAR10\\\\test\\\\0\\\\7990.png',\n",
       " 'C:\\\\Users\\\\Bernhard\\\\Documents\\\\data\\\\CIFAR10\\\\test\\\\0\\\\7994.png',\n",
       " 'C:\\\\Users\\\\Bernhard\\\\Documents\\\\data\\\\CIFAR10\\\\test\\\\0\\\\8007.png',\n",
       " 'C:\\\\Users\\\\Bernhard\\\\Documents\\\\data\\\\CIFAR10\\\\test\\\\0\\\\8008.png',\n",
       " 'C:\\\\Users\\\\Bernhard\\\\Documents\\\\data\\\\CIFAR10\\\\test\\\\0\\\\8017.png',\n",
       " 'C:\\\\Users\\\\Bernhard\\\\Documents\\\\data\\\\CIFAR10\\\\test\\\\0\\\\8024.png',\n",
       " 'C:\\\\Users\\\\Bernhard\\\\Documents\\\\data\\\\CIFAR10\\\\test\\\\0\\\\8026.png',\n",
       " 'C:\\\\Users\\\\Bernhard\\\\Documents\\\\data\\\\CIFAR10\\\\test\\\\0\\\\8031.png',\n",
       " 'C:\\\\Users\\\\Bernhard\\\\Documents\\\\data\\\\CIFAR10\\\\test\\\\0\\\\8043.png',\n",
       " 'C:\\\\Users\\\\Bernhard\\\\Documents\\\\data\\\\CIFAR10\\\\test\\\\0\\\\8047.png',\n",
       " 'C:\\\\Users\\\\Bernhard\\\\Documents\\\\data\\\\CIFAR10\\\\test\\\\0\\\\8048.png',\n",
       " 'C:\\\\Users\\\\Bernhard\\\\Documents\\\\data\\\\CIFAR10\\\\test\\\\0\\\\8061.png',\n",
       " 'C:\\\\Users\\\\Bernhard\\\\Documents\\\\data\\\\CIFAR10\\\\test\\\\0\\\\8063.png',\n",
       " 'C:\\\\Users\\\\Bernhard\\\\Documents\\\\data\\\\CIFAR10\\\\test\\\\0\\\\8064.png',\n",
       " 'C:\\\\Users\\\\Bernhard\\\\Documents\\\\data\\\\CIFAR10\\\\test\\\\0\\\\8073.png',\n",
       " 'C:\\\\Users\\\\Bernhard\\\\Documents\\\\data\\\\CIFAR10\\\\test\\\\0\\\\8105.png',\n",
       " 'C:\\\\Users\\\\Bernhard\\\\Documents\\\\data\\\\CIFAR10\\\\test\\\\0\\\\8121.png',\n",
       " 'C:\\\\Users\\\\Bernhard\\\\Documents\\\\data\\\\CIFAR10\\\\test\\\\0\\\\814.png',\n",
       " 'C:\\\\Users\\\\Bernhard\\\\Documents\\\\data\\\\CIFAR10\\\\test\\\\0\\\\8156.png',\n",
       " 'C:\\\\Users\\\\Bernhard\\\\Documents\\\\data\\\\CIFAR10\\\\test\\\\0\\\\8163.png',\n",
       " 'C:\\\\Users\\\\Bernhard\\\\Documents\\\\data\\\\CIFAR10\\\\test\\\\0\\\\8185.png',\n",
       " 'C:\\\\Users\\\\Bernhard\\\\Documents\\\\data\\\\CIFAR10\\\\test\\\\0\\\\8197.png',\n",
       " 'C:\\\\Users\\\\Bernhard\\\\Documents\\\\data\\\\CIFAR10\\\\test\\\\0\\\\8210.png',\n",
       " 'C:\\\\Users\\\\Bernhard\\\\Documents\\\\data\\\\CIFAR10\\\\test\\\\0\\\\822.png',\n",
       " 'C:\\\\Users\\\\Bernhard\\\\Documents\\\\data\\\\CIFAR10\\\\test\\\\0\\\\8230.png',\n",
       " 'C:\\\\Users\\\\Bernhard\\\\Documents\\\\data\\\\CIFAR10\\\\test\\\\0\\\\8262.png',\n",
       " 'C:\\\\Users\\\\Bernhard\\\\Documents\\\\data\\\\CIFAR10\\\\test\\\\0\\\\8265.png',\n",
       " 'C:\\\\Users\\\\Bernhard\\\\Documents\\\\data\\\\CIFAR10\\\\test\\\\0\\\\8267.png',\n",
       " 'C:\\\\Users\\\\Bernhard\\\\Documents\\\\data\\\\CIFAR10\\\\test\\\\0\\\\8293.png',\n",
       " 'C:\\\\Users\\\\Bernhard\\\\Documents\\\\data\\\\CIFAR10\\\\test\\\\0\\\\8351.png',\n",
       " 'C:\\\\Users\\\\Bernhard\\\\Documents\\\\data\\\\CIFAR10\\\\test\\\\0\\\\8357.png',\n",
       " 'C:\\\\Users\\\\Bernhard\\\\Documents\\\\data\\\\CIFAR10\\\\test\\\\0\\\\8358.png',\n",
       " 'C:\\\\Users\\\\Bernhard\\\\Documents\\\\data\\\\CIFAR10\\\\test\\\\0\\\\8387.png',\n",
       " 'C:\\\\Users\\\\Bernhard\\\\Documents\\\\data\\\\CIFAR10\\\\test\\\\0\\\\8397.png',\n",
       " 'C:\\\\Users\\\\Bernhard\\\\Documents\\\\data\\\\CIFAR10\\\\test\\\\0\\\\8400.png',\n",
       " 'C:\\\\Users\\\\Bernhard\\\\Documents\\\\data\\\\CIFAR10\\\\test\\\\0\\\\8402.png',\n",
       " 'C:\\\\Users\\\\Bernhard\\\\Documents\\\\data\\\\CIFAR10\\\\test\\\\0\\\\8405.png',\n",
       " 'C:\\\\Users\\\\Bernhard\\\\Documents\\\\data\\\\CIFAR10\\\\test\\\\0\\\\841.png',\n",
       " 'C:\\\\Users\\\\Bernhard\\\\Documents\\\\data\\\\CIFAR10\\\\test\\\\0\\\\8415.png',\n",
       " 'C:\\\\Users\\\\Bernhard\\\\Documents\\\\data\\\\CIFAR10\\\\test\\\\0\\\\8447.png',\n",
       " 'C:\\\\Users\\\\Bernhard\\\\Documents\\\\data\\\\CIFAR10\\\\test\\\\0\\\\847.png',\n",
       " 'C:\\\\Users\\\\Bernhard\\\\Documents\\\\data\\\\CIFAR10\\\\test\\\\0\\\\8471.png',\n",
       " 'C:\\\\Users\\\\Bernhard\\\\Documents\\\\data\\\\CIFAR10\\\\test\\\\0\\\\8476.png',\n",
       " 'C:\\\\Users\\\\Bernhard\\\\Documents\\\\data\\\\CIFAR10\\\\test\\\\0\\\\8483.png',\n",
       " 'C:\\\\Users\\\\Bernhard\\\\Documents\\\\data\\\\CIFAR10\\\\test\\\\0\\\\8485.png',\n",
       " 'C:\\\\Users\\\\Bernhard\\\\Documents\\\\data\\\\CIFAR10\\\\test\\\\0\\\\8492.png',\n",
       " 'C:\\\\Users\\\\Bernhard\\\\Documents\\\\data\\\\CIFAR10\\\\test\\\\0\\\\8496.png',\n",
       " 'C:\\\\Users\\\\Bernhard\\\\Documents\\\\data\\\\CIFAR10\\\\test\\\\0\\\\8529.png',\n",
       " 'C:\\\\Users\\\\Bernhard\\\\Documents\\\\data\\\\CIFAR10\\\\test\\\\0\\\\8537.png',\n",
       " 'C:\\\\Users\\\\Bernhard\\\\Documents\\\\data\\\\CIFAR10\\\\test\\\\0\\\\854.png',\n",
       " 'C:\\\\Users\\\\Bernhard\\\\Documents\\\\data\\\\CIFAR10\\\\test\\\\0\\\\8543.png',\n",
       " 'C:\\\\Users\\\\Bernhard\\\\Documents\\\\data\\\\CIFAR10\\\\test\\\\0\\\\8554.png',\n",
       " 'C:\\\\Users\\\\Bernhard\\\\Documents\\\\data\\\\CIFAR10\\\\test\\\\0\\\\8563.png',\n",
       " 'C:\\\\Users\\\\Bernhard\\\\Documents\\\\data\\\\CIFAR10\\\\test\\\\0\\\\857.png',\n",
       " 'C:\\\\Users\\\\Bernhard\\\\Documents\\\\data\\\\CIFAR10\\\\test\\\\0\\\\8572.png',\n",
       " 'C:\\\\Users\\\\Bernhard\\\\Documents\\\\data\\\\CIFAR10\\\\test\\\\0\\\\8590.png',\n",
       " 'C:\\\\Users\\\\Bernhard\\\\Documents\\\\data\\\\CIFAR10\\\\test\\\\0\\\\8592.png',\n",
       " 'C:\\\\Users\\\\Bernhard\\\\Documents\\\\data\\\\CIFAR10\\\\test\\\\0\\\\8638.png',\n",
       " 'C:\\\\Users\\\\Bernhard\\\\Documents\\\\data\\\\CIFAR10\\\\test\\\\0\\\\864.png',\n",
       " 'C:\\\\Users\\\\Bernhard\\\\Documents\\\\data\\\\CIFAR10\\\\test\\\\0\\\\8643.png',\n",
       " 'C:\\\\Users\\\\Bernhard\\\\Documents\\\\data\\\\CIFAR10\\\\test\\\\0\\\\8666.png',\n",
       " 'C:\\\\Users\\\\Bernhard\\\\Documents\\\\data\\\\CIFAR10\\\\test\\\\0\\\\868.png',\n",
       " 'C:\\\\Users\\\\Bernhard\\\\Documents\\\\data\\\\CIFAR10\\\\test\\\\0\\\\8694.png',\n",
       " 'C:\\\\Users\\\\Bernhard\\\\Documents\\\\data\\\\CIFAR10\\\\test\\\\0\\\\8702.png',\n",
       " 'C:\\\\Users\\\\Bernhard\\\\Documents\\\\data\\\\CIFAR10\\\\test\\\\0\\\\8743.png',\n",
       " 'C:\\\\Users\\\\Bernhard\\\\Documents\\\\data\\\\CIFAR10\\\\test\\\\0\\\\8761.png',\n",
       " 'C:\\\\Users\\\\Bernhard\\\\Documents\\\\data\\\\CIFAR10\\\\test\\\\0\\\\8769.png',\n",
       " 'C:\\\\Users\\\\Bernhard\\\\Documents\\\\data\\\\CIFAR10\\\\test\\\\0\\\\8777.png',\n",
       " 'C:\\\\Users\\\\Bernhard\\\\Documents\\\\data\\\\CIFAR10\\\\test\\\\0\\\\8790.png',\n",
       " 'C:\\\\Users\\\\Bernhard\\\\Documents\\\\data\\\\CIFAR10\\\\test\\\\0\\\\8795.png',\n",
       " 'C:\\\\Users\\\\Bernhard\\\\Documents\\\\data\\\\CIFAR10\\\\test\\\\0\\\\8800.png',\n",
       " 'C:\\\\Users\\\\Bernhard\\\\Documents\\\\data\\\\CIFAR10\\\\test\\\\0\\\\8812.png',\n",
       " 'C:\\\\Users\\\\Bernhard\\\\Documents\\\\data\\\\CIFAR10\\\\test\\\\0\\\\8819.png',\n",
       " 'C:\\\\Users\\\\Bernhard\\\\Documents\\\\data\\\\CIFAR10\\\\test\\\\0\\\\8825.png',\n",
       " 'C:\\\\Users\\\\Bernhard\\\\Documents\\\\data\\\\CIFAR10\\\\test\\\\0\\\\8828.png',\n",
       " 'C:\\\\Users\\\\Bernhard\\\\Documents\\\\data\\\\CIFAR10\\\\test\\\\0\\\\8829.png',\n",
       " 'C:\\\\Users\\\\Bernhard\\\\Documents\\\\data\\\\CIFAR10\\\\test\\\\0\\\\883.png',\n",
       " 'C:\\\\Users\\\\Bernhard\\\\Documents\\\\data\\\\CIFAR10\\\\test\\\\0\\\\885.png',\n",
       " 'C:\\\\Users\\\\Bernhard\\\\Documents\\\\data\\\\CIFAR10\\\\test\\\\0\\\\8851.png',\n",
       " 'C:\\\\Users\\\\Bernhard\\\\Documents\\\\data\\\\CIFAR10\\\\test\\\\0\\\\8856.png',\n",
       " 'C:\\\\Users\\\\Bernhard\\\\Documents\\\\data\\\\CIFAR10\\\\test\\\\0\\\\8857.png',\n",
       " 'C:\\\\Users\\\\Bernhard\\\\Documents\\\\data\\\\CIFAR10\\\\test\\\\0\\\\886.png',\n",
       " 'C:\\\\Users\\\\Bernhard\\\\Documents\\\\data\\\\CIFAR10\\\\test\\\\0\\\\8862.png',\n",
       " 'C:\\\\Users\\\\Bernhard\\\\Documents\\\\data\\\\CIFAR10\\\\test\\\\0\\\\8876.png',\n",
       " 'C:\\\\Users\\\\Bernhard\\\\Documents\\\\data\\\\CIFAR10\\\\test\\\\0\\\\888.png',\n",
       " 'C:\\\\Users\\\\Bernhard\\\\Documents\\\\data\\\\CIFAR10\\\\test\\\\0\\\\8884.png',\n",
       " 'C:\\\\Users\\\\Bernhard\\\\Documents\\\\data\\\\CIFAR10\\\\test\\\\0\\\\8894.png',\n",
       " 'C:\\\\Users\\\\Bernhard\\\\Documents\\\\data\\\\CIFAR10\\\\test\\\\0\\\\8895.png',\n",
       " 'C:\\\\Users\\\\Bernhard\\\\Documents\\\\data\\\\CIFAR10\\\\test\\\\0\\\\8903.png',\n",
       " 'C:\\\\Users\\\\Bernhard\\\\Documents\\\\data\\\\CIFAR10\\\\test\\\\0\\\\8909.png',\n",
       " 'C:\\\\Users\\\\Bernhard\\\\Documents\\\\data\\\\CIFAR10\\\\test\\\\0\\\\8917.png',\n",
       " 'C:\\\\Users\\\\Bernhard\\\\Documents\\\\data\\\\CIFAR10\\\\test\\\\0\\\\8925.png',\n",
       " 'C:\\\\Users\\\\Bernhard\\\\Documents\\\\data\\\\CIFAR10\\\\test\\\\0\\\\8935.png',\n",
       " 'C:\\\\Users\\\\Bernhard\\\\Documents\\\\data\\\\CIFAR10\\\\test\\\\0\\\\8941.png',\n",
       " 'C:\\\\Users\\\\Bernhard\\\\Documents\\\\data\\\\CIFAR10\\\\test\\\\0\\\\8960.png',\n",
       " 'C:\\\\Users\\\\Bernhard\\\\Documents\\\\data\\\\CIFAR10\\\\test\\\\0\\\\8961.png',\n",
       " 'C:\\\\Users\\\\Bernhard\\\\Documents\\\\data\\\\CIFAR10\\\\test\\\\0\\\\8964.png',\n",
       " 'C:\\\\Users\\\\Bernhard\\\\Documents\\\\data\\\\CIFAR10\\\\test\\\\0\\\\8970.png',\n",
       " 'C:\\\\Users\\\\Bernhard\\\\Documents\\\\data\\\\CIFAR10\\\\test\\\\0\\\\8977.png',\n",
       " 'C:\\\\Users\\\\Bernhard\\\\Documents\\\\data\\\\CIFAR10\\\\test\\\\0\\\\8991.png',\n",
       " 'C:\\\\Users\\\\Bernhard\\\\Documents\\\\data\\\\CIFAR10\\\\test\\\\0\\\\8993.png',\n",
       " 'C:\\\\Users\\\\Bernhard\\\\Documents\\\\data\\\\CIFAR10\\\\test\\\\0\\\\90.png',\n",
       " 'C:\\\\Users\\\\Bernhard\\\\Documents\\\\data\\\\CIFAR10\\\\test\\\\0\\\\9008.png',\n",
       " 'C:\\\\Users\\\\Bernhard\\\\Documents\\\\data\\\\CIFAR10\\\\test\\\\0\\\\9017.png',\n",
       " 'C:\\\\Users\\\\Bernhard\\\\Documents\\\\data\\\\CIFAR10\\\\test\\\\0\\\\9021.png',\n",
       " 'C:\\\\Users\\\\Bernhard\\\\Documents\\\\data\\\\CIFAR10\\\\test\\\\0\\\\9024.png',\n",
       " 'C:\\\\Users\\\\Bernhard\\\\Documents\\\\data\\\\CIFAR10\\\\test\\\\0\\\\9031.png',\n",
       " 'C:\\\\Users\\\\Bernhard\\\\Documents\\\\data\\\\CIFAR10\\\\test\\\\0\\\\9045.png',\n",
       " 'C:\\\\Users\\\\Bernhard\\\\Documents\\\\data\\\\CIFAR10\\\\test\\\\0\\\\9046.png',\n",
       " 'C:\\\\Users\\\\Bernhard\\\\Documents\\\\data\\\\CIFAR10\\\\test\\\\0\\\\9048.png',\n",
       " 'C:\\\\Users\\\\Bernhard\\\\Documents\\\\data\\\\CIFAR10\\\\test\\\\0\\\\9052.png',\n",
       " 'C:\\\\Users\\\\Bernhard\\\\Documents\\\\data\\\\CIFAR10\\\\test\\\\0\\\\9065.png',\n",
       " 'C:\\\\Users\\\\Bernhard\\\\Documents\\\\data\\\\CIFAR10\\\\test\\\\0\\\\9075.png',\n",
       " 'C:\\\\Users\\\\Bernhard\\\\Documents\\\\data\\\\CIFAR10\\\\test\\\\0\\\\9086.png',\n",
       " 'C:\\\\Users\\\\Bernhard\\\\Documents\\\\data\\\\CIFAR10\\\\test\\\\0\\\\9097.png',\n",
       " 'C:\\\\Users\\\\Bernhard\\\\Documents\\\\data\\\\CIFAR10\\\\test\\\\0\\\\9111.png',\n",
       " 'C:\\\\Users\\\\Bernhard\\\\Documents\\\\data\\\\CIFAR10\\\\test\\\\0\\\\912.png',\n",
       " 'C:\\\\Users\\\\Bernhard\\\\Documents\\\\data\\\\CIFAR10\\\\test\\\\0\\\\9124.png',\n",
       " 'C:\\\\Users\\\\Bernhard\\\\Documents\\\\data\\\\CIFAR10\\\\test\\\\0\\\\914.png',\n",
       " 'C:\\\\Users\\\\Bernhard\\\\Documents\\\\data\\\\CIFAR10\\\\test\\\\0\\\\9144.png',\n",
       " 'C:\\\\Users\\\\Bernhard\\\\Documents\\\\data\\\\CIFAR10\\\\test\\\\0\\\\9151.png',\n",
       " 'C:\\\\Users\\\\Bernhard\\\\Documents\\\\data\\\\CIFAR10\\\\test\\\\0\\\\9170.png',\n",
       " 'C:\\\\Users\\\\Bernhard\\\\Documents\\\\data\\\\CIFAR10\\\\test\\\\0\\\\9172.png',\n",
       " 'C:\\\\Users\\\\Bernhard\\\\Documents\\\\data\\\\CIFAR10\\\\test\\\\0\\\\9181.png',\n",
       " 'C:\\\\Users\\\\Bernhard\\\\Documents\\\\data\\\\CIFAR10\\\\test\\\\0\\\\9182.png',\n",
       " 'C:\\\\Users\\\\Bernhard\\\\Documents\\\\data\\\\CIFAR10\\\\test\\\\0\\\\919.png',\n",
       " 'C:\\\\Users\\\\Bernhard\\\\Documents\\\\data\\\\CIFAR10\\\\test\\\\0\\\\9193.png',\n",
       " 'C:\\\\Users\\\\Bernhard\\\\Documents\\\\data\\\\CIFAR10\\\\test\\\\0\\\\9196.png',\n",
       " 'C:\\\\Users\\\\Bernhard\\\\Documents\\\\data\\\\CIFAR10\\\\test\\\\0\\\\9208.png',\n",
       " 'C:\\\\Users\\\\Bernhard\\\\Documents\\\\data\\\\CIFAR10\\\\test\\\\0\\\\9235.png',\n",
       " 'C:\\\\Users\\\\Bernhard\\\\Documents\\\\data\\\\CIFAR10\\\\test\\\\0\\\\9248.png',\n",
       " 'C:\\\\Users\\\\Bernhard\\\\Documents\\\\data\\\\CIFAR10\\\\test\\\\0\\\\9256.png',\n",
       " 'C:\\\\Users\\\\Bernhard\\\\Documents\\\\data\\\\CIFAR10\\\\test\\\\0\\\\9262.png',\n",
       " 'C:\\\\Users\\\\Bernhard\\\\Documents\\\\data\\\\CIFAR10\\\\test\\\\0\\\\9271.png',\n",
       " 'C:\\\\Users\\\\Bernhard\\\\Documents\\\\data\\\\CIFAR10\\\\test\\\\0\\\\9272.png',\n",
       " 'C:\\\\Users\\\\Bernhard\\\\Documents\\\\data\\\\CIFAR10\\\\test\\\\0\\\\9273.png',\n",
       " 'C:\\\\Users\\\\Bernhard\\\\Documents\\\\data\\\\CIFAR10\\\\test\\\\0\\\\928.png',\n",
       " 'C:\\\\Users\\\\Bernhard\\\\Documents\\\\data\\\\CIFAR10\\\\test\\\\0\\\\929.png',\n",
       " 'C:\\\\Users\\\\Bernhard\\\\Documents\\\\data\\\\CIFAR10\\\\test\\\\0\\\\9326.png',\n",
       " 'C:\\\\Users\\\\Bernhard\\\\Documents\\\\data\\\\CIFAR10\\\\test\\\\0\\\\9333.png',\n",
       " 'C:\\\\Users\\\\Bernhard\\\\Documents\\\\data\\\\CIFAR10\\\\test\\\\0\\\\9354.png',\n",
       " 'C:\\\\Users\\\\Bernhard\\\\Documents\\\\data\\\\CIFAR10\\\\test\\\\0\\\\9356.png',\n",
       " 'C:\\\\Users\\\\Bernhard\\\\Documents\\\\data\\\\CIFAR10\\\\test\\\\0\\\\9392.png',\n",
       " 'C:\\\\Users\\\\Bernhard\\\\Documents\\\\data\\\\CIFAR10\\\\test\\\\0\\\\9413.png',\n",
       " 'C:\\\\Users\\\\Bernhard\\\\Documents\\\\data\\\\CIFAR10\\\\test\\\\0\\\\9415.png',\n",
       " 'C:\\\\Users\\\\Bernhard\\\\Documents\\\\data\\\\CIFAR10\\\\test\\\\0\\\\9439.png',\n",
       " 'C:\\\\Users\\\\Bernhard\\\\Documents\\\\data\\\\CIFAR10\\\\test\\\\0\\\\944.png',\n",
       " 'C:\\\\Users\\\\Bernhard\\\\Documents\\\\data\\\\CIFAR10\\\\test\\\\0\\\\9459.png',\n",
       " 'C:\\\\Users\\\\Bernhard\\\\Documents\\\\data\\\\CIFAR10\\\\test\\\\0\\\\946.png',\n",
       " 'C:\\\\Users\\\\Bernhard\\\\Documents\\\\data\\\\CIFAR10\\\\test\\\\0\\\\9469.png',\n",
       " 'C:\\\\Users\\\\Bernhard\\\\Documents\\\\data\\\\CIFAR10\\\\test\\\\0\\\\9473.png',\n",
       " 'C:\\\\Users\\\\Bernhard\\\\Documents\\\\data\\\\CIFAR10\\\\test\\\\0\\\\9482.png',\n",
       " 'C:\\\\Users\\\\Bernhard\\\\Documents\\\\data\\\\CIFAR10\\\\test\\\\0\\\\9483.png',\n",
       " 'C:\\\\Users\\\\Bernhard\\\\Documents\\\\data\\\\CIFAR10\\\\test\\\\0\\\\9484.png',\n",
       " 'C:\\\\Users\\\\Bernhard\\\\Documents\\\\data\\\\CIFAR10\\\\test\\\\0\\\\9493.png',\n",
       " 'C:\\\\Users\\\\Bernhard\\\\Documents\\\\data\\\\CIFAR10\\\\test\\\\0\\\\9495.png',\n",
       " 'C:\\\\Users\\\\Bernhard\\\\Documents\\\\data\\\\CIFAR10\\\\test\\\\0\\\\9499.png',\n",
       " 'C:\\\\Users\\\\Bernhard\\\\Documents\\\\data\\\\CIFAR10\\\\test\\\\0\\\\9507.png',\n",
       " 'C:\\\\Users\\\\Bernhard\\\\Documents\\\\data\\\\CIFAR10\\\\test\\\\0\\\\9512.png',\n",
       " 'C:\\\\Users\\\\Bernhard\\\\Documents\\\\data\\\\CIFAR10\\\\test\\\\0\\\\9515.png',\n",
       " 'C:\\\\Users\\\\Bernhard\\\\Documents\\\\data\\\\CIFAR10\\\\test\\\\0\\\\9528.png',\n",
       " 'C:\\\\Users\\\\Bernhard\\\\Documents\\\\data\\\\CIFAR10\\\\test\\\\0\\\\9533.png',\n",
       " 'C:\\\\Users\\\\Bernhard\\\\Documents\\\\data\\\\CIFAR10\\\\test\\\\0\\\\9539.png',\n",
       " 'C:\\\\Users\\\\Bernhard\\\\Documents\\\\data\\\\CIFAR10\\\\test\\\\0\\\\9544.png',\n",
       " 'C:\\\\Users\\\\Bernhard\\\\Documents\\\\data\\\\CIFAR10\\\\test\\\\0\\\\9558.png',\n",
       " 'C:\\\\Users\\\\Bernhard\\\\Documents\\\\data\\\\CIFAR10\\\\test\\\\0\\\\956.png',\n",
       " 'C:\\\\Users\\\\Bernhard\\\\Documents\\\\data\\\\CIFAR10\\\\test\\\\0\\\\9561.png',\n",
       " 'C:\\\\Users\\\\Bernhard\\\\Documents\\\\data\\\\CIFAR10\\\\test\\\\0\\\\9565.png',\n",
       " 'C:\\\\Users\\\\Bernhard\\\\Documents\\\\data\\\\CIFAR10\\\\test\\\\0\\\\9577.png',\n",
       " 'C:\\\\Users\\\\Bernhard\\\\Documents\\\\data\\\\CIFAR10\\\\test\\\\0\\\\9590.png',\n",
       " 'C:\\\\Users\\\\Bernhard\\\\Documents\\\\data\\\\CIFAR10\\\\test\\\\0\\\\9602.png',\n",
       " 'C:\\\\Users\\\\Bernhard\\\\Documents\\\\data\\\\CIFAR10\\\\test\\\\0\\\\9608.png',\n",
       " 'C:\\\\Users\\\\Bernhard\\\\Documents\\\\data\\\\CIFAR10\\\\test\\\\0\\\\9633.png',\n",
       " 'C:\\\\Users\\\\Bernhard\\\\Documents\\\\data\\\\CIFAR10\\\\test\\\\0\\\\9642.png',\n",
       " 'C:\\\\Users\\\\Bernhard\\\\Documents\\\\data\\\\CIFAR10\\\\test\\\\0\\\\9644.png',\n",
       " 'C:\\\\Users\\\\Bernhard\\\\Documents\\\\data\\\\CIFAR10\\\\test\\\\0\\\\9656.png',\n",
       " 'C:\\\\Users\\\\Bernhard\\\\Documents\\\\data\\\\CIFAR10\\\\test\\\\0\\\\9664.png',\n",
       " 'C:\\\\Users\\\\Bernhard\\\\Documents\\\\data\\\\CIFAR10\\\\test\\\\0\\\\9685.png',\n",
       " 'C:\\\\Users\\\\Bernhard\\\\Documents\\\\data\\\\CIFAR10\\\\test\\\\0\\\\9695.png',\n",
       " 'C:\\\\Users\\\\Bernhard\\\\Documents\\\\data\\\\CIFAR10\\\\test\\\\0\\\\9699.png',\n",
       " 'C:\\\\Users\\\\Bernhard\\\\Documents\\\\data\\\\CIFAR10\\\\test\\\\0\\\\97.png',\n",
       " 'C:\\\\Users\\\\Bernhard\\\\Documents\\\\data\\\\CIFAR10\\\\test\\\\0\\\\9700.png',\n",
       " 'C:\\\\Users\\\\Bernhard\\\\Documents\\\\data\\\\CIFAR10\\\\test\\\\0\\\\9709.png',\n",
       " 'C:\\\\Users\\\\Bernhard\\\\Documents\\\\data\\\\CIFAR10\\\\test\\\\0\\\\9724.png',\n",
       " 'C:\\\\Users\\\\Bernhard\\\\Documents\\\\data\\\\CIFAR10\\\\test\\\\0\\\\9747.png',\n",
       " 'C:\\\\Users\\\\Bernhard\\\\Documents\\\\data\\\\CIFAR10\\\\test\\\\0\\\\9749.png',\n",
       " 'C:\\\\Users\\\\Bernhard\\\\Documents\\\\data\\\\CIFAR10\\\\test\\\\0\\\\975.png',\n",
       " 'C:\\\\Users\\\\Bernhard\\\\Documents\\\\data\\\\CIFAR10\\\\test\\\\0\\\\9751.png',\n",
       " 'C:\\\\Users\\\\Bernhard\\\\Documents\\\\data\\\\CIFAR10\\\\test\\\\0\\\\9766.png',\n",
       " 'C:\\\\Users\\\\Bernhard\\\\Documents\\\\data\\\\CIFAR10\\\\test\\\\0\\\\9772.png',\n",
       " 'C:\\\\Users\\\\Bernhard\\\\Documents\\\\data\\\\CIFAR10\\\\test\\\\0\\\\98.png',\n",
       " 'C:\\\\Users\\\\Bernhard\\\\Documents\\\\data\\\\CIFAR10\\\\test\\\\0\\\\9802.png',\n",
       " 'C:\\\\Users\\\\Bernhard\\\\Documents\\\\data\\\\CIFAR10\\\\test\\\\0\\\\9818.png',\n",
       " 'C:\\\\Users\\\\Bernhard\\\\Documents\\\\data\\\\CIFAR10\\\\test\\\\0\\\\982.png',\n",
       " 'C:\\\\Users\\\\Bernhard\\\\Documents\\\\data\\\\CIFAR10\\\\test\\\\0\\\\9820.png',\n",
       " 'C:\\\\Users\\\\Bernhard\\\\Documents\\\\data\\\\CIFAR10\\\\test\\\\0\\\\9822.png',\n",
       " 'C:\\\\Users\\\\Bernhard\\\\Documents\\\\data\\\\CIFAR10\\\\test\\\\0\\\\9826.png',\n",
       " 'C:\\\\Users\\\\Bernhard\\\\Documents\\\\data\\\\CIFAR10\\\\test\\\\0\\\\9841.png',\n",
       " 'C:\\\\Users\\\\Bernhard\\\\Documents\\\\data\\\\CIFAR10\\\\test\\\\0\\\\9847.png',\n",
       " 'C:\\\\Users\\\\Bernhard\\\\Documents\\\\data\\\\CIFAR10\\\\test\\\\0\\\\9849.png',\n",
       " 'C:\\\\Users\\\\Bernhard\\\\Documents\\\\data\\\\CIFAR10\\\\test\\\\0\\\\9852.png',\n",
       " 'C:\\\\Users\\\\Bernhard\\\\Documents\\\\data\\\\CIFAR10\\\\test\\\\0\\\\9857.png',\n",
       " 'C:\\\\Users\\\\Bernhard\\\\Documents\\\\data\\\\CIFAR10\\\\test\\\\0\\\\9860.png',\n",
       " 'C:\\\\Users\\\\Bernhard\\\\Documents\\\\data\\\\CIFAR10\\\\test\\\\0\\\\9872.png',\n",
       " 'C:\\\\Users\\\\Bernhard\\\\Documents\\\\data\\\\CIFAR10\\\\test\\\\0\\\\9876.png',\n",
       " 'C:\\\\Users\\\\Bernhard\\\\Documents\\\\data\\\\CIFAR10\\\\test\\\\0\\\\9888.png',\n",
       " 'C:\\\\Users\\\\Bernhard\\\\Documents\\\\data\\\\CIFAR10\\\\test\\\\0\\\\989.png',\n",
       " 'C:\\\\Users\\\\Bernhard\\\\Documents\\\\data\\\\CIFAR10\\\\test\\\\0\\\\9890.png',\n",
       " 'C:\\\\Users\\\\Bernhard\\\\Documents\\\\data\\\\CIFAR10\\\\test\\\\0\\\\9904.png',\n",
       " 'C:\\\\Users\\\\Bernhard\\\\Documents\\\\data\\\\CIFAR10\\\\test\\\\0\\\\9912.png',\n",
       " 'C:\\\\Users\\\\Bernhard\\\\Documents\\\\data\\\\CIFAR10\\\\test\\\\0\\\\9921.png',\n",
       " 'C:\\\\Users\\\\Bernhard\\\\Documents\\\\data\\\\CIFAR10\\\\test\\\\0\\\\9931.png',\n",
       " 'C:\\\\Users\\\\Bernhard\\\\Documents\\\\data\\\\CIFAR10\\\\test\\\\0\\\\9946.png',\n",
       " 'C:\\\\Users\\\\Bernhard\\\\Documents\\\\data\\\\CIFAR10\\\\test\\\\0\\\\9951.png',\n",
       " 'C:\\\\Users\\\\Bernhard\\\\Documents\\\\data\\\\CIFAR10\\\\test\\\\0\\\\9954.png',\n",
       " 'C:\\\\Users\\\\Bernhard\\\\Documents\\\\data\\\\CIFAR10\\\\test\\\\0\\\\9956.png',\n",
       " 'C:\\\\Users\\\\Bernhard\\\\Documents\\\\data\\\\CIFAR10\\\\test\\\\0\\\\9957.png',\n",
       " 'C:\\\\Users\\\\Bernhard\\\\Documents\\\\data\\\\CIFAR10\\\\test\\\\0\\\\9973.png',\n",
       " 'C:\\\\Users\\\\Bernhard\\\\Documents\\\\data\\\\CIFAR10\\\\test\\\\0\\\\9980.png',\n",
       " 'C:\\\\Users\\\\Bernhard\\\\Documents\\\\data\\\\CIFAR10\\\\test\\\\0\\\\9983.png',\n",
       " 'C:\\\\Users\\\\Bernhard\\\\Documents\\\\data\\\\CIFAR10\\\\test\\\\0\\\\9987.png',\n",
       " 'C:\\\\Users\\\\Bernhard\\\\Documents\\\\data\\\\CIFAR10\\\\test\\\\0\\\\9991.png',\n",
       " ...]"
      ]
     },
     "execution_count": 51,
     "metadata": {},
     "output_type": "execute_result"
    }
   ],
   "source": [
    "test_PIL_result['file']"
   ]
  },
  {
   "cell_type": "code",
   "execution_count": 61,
   "id": "e0cb6074",
   "metadata": {},
   "outputs": [],
   "source": [
    "simsplit_train = list(np.array(test_PIL_result['file'])[unique_hist_nns[:,0]])\n",
    "simsplit_test = list(np.array(test_PIL_result['file'])[unique_hist_nns[:,1]])"
   ]
  },
  {
   "cell_type": "code",
   "execution_count": 62,
   "id": "c0e09418",
   "metadata": {},
   "outputs": [
    {
     "data": {
      "text/plain": [
       "4886"
      ]
     },
     "execution_count": 62,
     "metadata": {},
     "output_type": "execute_result"
    }
   ],
   "source": [
    "len(simsplit_train)"
   ]
  },
  {
   "cell_type": "code",
   "execution_count": 63,
   "id": "0028dcc8",
   "metadata": {},
   "outputs": [
    {
     "data": {
      "text/plain": [
       "4886"
      ]
     },
     "execution_count": 63,
     "metadata": {},
     "output_type": "execute_result"
    }
   ],
   "source": [
    "len(simsplit_test)"
   ]
  },
  {
   "cell_type": "code",
   "execution_count": null,
   "id": "e1164c9f",
   "metadata": {},
   "outputs": [
    {
     "data": {
      "text/plain": [
       "array([[   0,  591],\n",
       "       [   1, 4128],\n",
       "       [   2,  909],\n",
       "       ...,\n",
       "       [9997, 7431],\n",
       "       [9998, 4806],\n",
       "       [9999, 4629]], dtype=int64)"
      ]
     },
     "execution_count": 38,
     "metadata": {},
     "output_type": "execute_result"
    }
   ],
   "source": [
    "PIL_neighbors_indices = compute_k_nearest_neighbors(test_PIL_result['item'], K=2)\n",
    "PIL_neighbors_indices"
   ]
  },
  {
   "cell_type": "code",
   "execution_count": null,
   "id": "b7abae72",
   "metadata": {},
   "outputs": [
    {
     "data": {
      "text/plain": [
       "[False,\n",
       " False,\n",
       " False,\n",
       " False,\n",
       " False,\n",
       " False,\n",
       " False,\n",
       " False,\n",
       " False,\n",
       " False,\n",
       " False,\n",
       " False,\n",
       " False,\n",
       " False,\n",
       " False,\n",
       " False,\n",
       " False,\n",
       " False,\n",
       " False,\n",
       " False,\n",
       " False,\n",
       " False,\n",
       " False,\n",
       " False,\n",
       " False,\n",
       " False,\n",
       " False,\n",
       " False,\n",
       " False,\n",
       " False,\n",
       " False,\n",
       " False,\n",
       " False,\n",
       " False,\n",
       " False,\n",
       " False,\n",
       " False,\n",
       " False,\n",
       " False,\n",
       " False,\n",
       " False,\n",
       " False,\n",
       " False,\n",
       " False,\n",
       " False,\n",
       " False,\n",
       " False,\n",
       " False,\n",
       " False,\n",
       " False,\n",
       " False,\n",
       " False,\n",
       " False,\n",
       " False,\n",
       " False,\n",
       " False,\n",
       " False,\n",
       " False,\n",
       " False,\n",
       " False,\n",
       " False,\n",
       " False,\n",
       " False,\n",
       " False,\n",
       " False,\n",
       " False,\n",
       " False,\n",
       " False,\n",
       " False,\n",
       " False,\n",
       " False,\n",
       " False,\n",
       " False,\n",
       " False,\n",
       " False,\n",
       " False,\n",
       " False,\n",
       " False,\n",
       " False,\n",
       " False,\n",
       " False,\n",
       " False,\n",
       " False,\n",
       " False,\n",
       " False,\n",
       " False,\n",
       " False,\n",
       " False,\n",
       " False,\n",
       " False,\n",
       " False,\n",
       " False,\n",
       " False,\n",
       " False,\n",
       " False,\n",
       " False,\n",
       " False,\n",
       " False,\n",
       " False,\n",
       " False,\n",
       " False,\n",
       " False,\n",
       " False,\n",
       " False,\n",
       " False,\n",
       " False,\n",
       " False,\n",
       " False,\n",
       " False,\n",
       " False,\n",
       " False,\n",
       " False,\n",
       " False,\n",
       " False,\n",
       " False,\n",
       " False,\n",
       " False,\n",
       " False,\n",
       " False,\n",
       " False,\n",
       " False,\n",
       " False,\n",
       " False,\n",
       " False,\n",
       " False,\n",
       " False,\n",
       " False,\n",
       " False,\n",
       " False,\n",
       " False,\n",
       " False,\n",
       " False,\n",
       " False,\n",
       " False,\n",
       " False,\n",
       " False,\n",
       " False,\n",
       " False,\n",
       " False,\n",
       " False,\n",
       " False,\n",
       " False,\n",
       " False,\n",
       " False,\n",
       " False,\n",
       " False,\n",
       " False,\n",
       " False,\n",
       " False,\n",
       " False,\n",
       " False,\n",
       " False,\n",
       " False,\n",
       " False,\n",
       " False,\n",
       " False,\n",
       " False,\n",
       " False,\n",
       " False,\n",
       " False,\n",
       " False,\n",
       " False,\n",
       " False,\n",
       " False,\n",
       " False,\n",
       " False,\n",
       " False,\n",
       " False,\n",
       " False,\n",
       " False,\n",
       " False,\n",
       " False,\n",
       " False,\n",
       " False,\n",
       " False,\n",
       " False,\n",
       " False,\n",
       " False,\n",
       " False,\n",
       " False,\n",
       " False,\n",
       " False,\n",
       " False,\n",
       " False,\n",
       " False,\n",
       " False,\n",
       " False,\n",
       " False,\n",
       " True,\n",
       " False,\n",
       " False,\n",
       " False,\n",
       " False,\n",
       " False,\n",
       " False,\n",
       " False,\n",
       " False,\n",
       " False,\n",
       " False,\n",
       " False,\n",
       " False,\n",
       " False,\n",
       " False,\n",
       " False,\n",
       " False,\n",
       " False,\n",
       " False,\n",
       " False,\n",
       " False,\n",
       " False,\n",
       " False,\n",
       " False,\n",
       " False,\n",
       " False,\n",
       " False,\n",
       " False,\n",
       " False,\n",
       " False,\n",
       " False,\n",
       " False,\n",
       " False,\n",
       " False,\n",
       " False,\n",
       " False,\n",
       " False,\n",
       " False,\n",
       " False,\n",
       " False,\n",
       " False,\n",
       " False,\n",
       " False,\n",
       " False,\n",
       " False,\n",
       " False,\n",
       " False,\n",
       " False,\n",
       " False,\n",
       " False,\n",
       " False,\n",
       " False,\n",
       " False,\n",
       " False,\n",
       " False,\n",
       " False,\n",
       " False,\n",
       " False,\n",
       " False,\n",
       " False,\n",
       " False,\n",
       " False,\n",
       " False,\n",
       " False,\n",
       " False,\n",
       " False,\n",
       " False,\n",
       " False,\n",
       " False,\n",
       " False,\n",
       " False,\n",
       " False,\n",
       " False,\n",
       " False,\n",
       " False,\n",
       " False,\n",
       " False,\n",
       " False,\n",
       " False,\n",
       " False,\n",
       " False,\n",
       " False,\n",
       " False,\n",
       " False,\n",
       " False,\n",
       " True,\n",
       " False,\n",
       " False,\n",
       " False,\n",
       " False,\n",
       " False,\n",
       " False,\n",
       " False,\n",
       " False,\n",
       " False,\n",
       " False,\n",
       " False,\n",
       " False,\n",
       " False,\n",
       " False,\n",
       " False,\n",
       " False,\n",
       " False,\n",
       " False,\n",
       " False,\n",
       " False,\n",
       " False,\n",
       " False,\n",
       " False,\n",
       " False,\n",
       " False,\n",
       " False,\n",
       " False,\n",
       " False,\n",
       " False,\n",
       " False,\n",
       " False,\n",
       " False,\n",
       " False,\n",
       " False,\n",
       " False,\n",
       " False,\n",
       " False,\n",
       " False,\n",
       " False,\n",
       " False,\n",
       " False,\n",
       " False,\n",
       " False,\n",
       " False,\n",
       " False,\n",
       " False,\n",
       " False,\n",
       " False,\n",
       " False,\n",
       " False,\n",
       " False,\n",
       " False,\n",
       " False,\n",
       " False,\n",
       " False,\n",
       " False,\n",
       " False,\n",
       " False,\n",
       " False,\n",
       " False,\n",
       " False,\n",
       " False,\n",
       " False,\n",
       " False,\n",
       " False,\n",
       " False,\n",
       " False,\n",
       " False,\n",
       " False,\n",
       " False,\n",
       " False,\n",
       " False,\n",
       " False,\n",
       " False,\n",
       " False,\n",
       " False,\n",
       " False,\n",
       " False,\n",
       " False,\n",
       " False,\n",
       " False,\n",
       " False,\n",
       " False,\n",
       " False,\n",
       " False,\n",
       " False,\n",
       " False,\n",
       " False,\n",
       " False,\n",
       " False,\n",
       " False,\n",
       " False,\n",
       " False,\n",
       " False,\n",
       " False,\n",
       " False,\n",
       " False,\n",
       " False,\n",
       " False,\n",
       " False,\n",
       " False,\n",
       " False,\n",
       " False,\n",
       " False,\n",
       " False,\n",
       " False,\n",
       " False,\n",
       " False,\n",
       " False,\n",
       " False,\n",
       " False,\n",
       " False,\n",
       " False,\n",
       " False,\n",
       " False,\n",
       " False,\n",
       " False,\n",
       " False,\n",
       " False,\n",
       " False,\n",
       " False,\n",
       " False,\n",
       " False,\n",
       " False,\n",
       " False,\n",
       " False,\n",
       " False,\n",
       " False,\n",
       " False,\n",
       " False,\n",
       " False,\n",
       " False,\n",
       " False,\n",
       " False,\n",
       " False,\n",
       " False,\n",
       " False,\n",
       " False,\n",
       " False,\n",
       " False,\n",
       " False,\n",
       " False,\n",
       " False,\n",
       " False,\n",
       " False,\n",
       " False,\n",
       " False,\n",
       " False,\n",
       " False,\n",
       " False,\n",
       " False,\n",
       " False,\n",
       " False,\n",
       " False,\n",
       " False,\n",
       " False,\n",
       " False,\n",
       " False,\n",
       " False,\n",
       " False,\n",
       " False,\n",
       " False,\n",
       " False,\n",
       " False,\n",
       " False,\n",
       " False,\n",
       " False,\n",
       " False,\n",
       " False,\n",
       " False,\n",
       " False,\n",
       " False,\n",
       " False,\n",
       " False,\n",
       " False,\n",
       " False,\n",
       " False,\n",
       " False,\n",
       " False,\n",
       " False,\n",
       " False,\n",
       " False,\n",
       " False,\n",
       " False,\n",
       " False,\n",
       " False,\n",
       " False,\n",
       " False,\n",
       " True,\n",
       " False,\n",
       " False,\n",
       " False,\n",
       " False,\n",
       " False,\n",
       " False,\n",
       " False,\n",
       " False,\n",
       " False,\n",
       " False,\n",
       " False,\n",
       " False,\n",
       " False,\n",
       " False,\n",
       " False,\n",
       " False,\n",
       " False,\n",
       " False,\n",
       " False,\n",
       " False,\n",
       " False,\n",
       " False,\n",
       " False,\n",
       " False,\n",
       " False,\n",
       " False,\n",
       " False,\n",
       " False,\n",
       " False,\n",
       " False,\n",
       " False,\n",
       " False,\n",
       " False,\n",
       " False,\n",
       " False,\n",
       " False,\n",
       " False,\n",
       " False,\n",
       " False,\n",
       " False,\n",
       " False,\n",
       " False,\n",
       " False,\n",
       " False,\n",
       " False,\n",
       " False,\n",
       " False,\n",
       " False,\n",
       " False,\n",
       " False,\n",
       " False,\n",
       " False,\n",
       " False,\n",
       " False,\n",
       " False,\n",
       " False,\n",
       " False,\n",
       " False,\n",
       " False,\n",
       " False,\n",
       " False,\n",
       " False,\n",
       " False,\n",
       " False,\n",
       " False,\n",
       " False,\n",
       " False,\n",
       " False,\n",
       " False,\n",
       " False,\n",
       " False,\n",
       " False,\n",
       " False,\n",
       " True,\n",
       " False,\n",
       " False,\n",
       " False,\n",
       " False,\n",
       " False,\n",
       " False,\n",
       " False,\n",
       " False,\n",
       " False,\n",
       " False,\n",
       " False,\n",
       " False,\n",
       " False,\n",
       " False,\n",
       " False,\n",
       " False,\n",
       " False,\n",
       " False,\n",
       " False,\n",
       " False,\n",
       " False,\n",
       " False,\n",
       " False,\n",
       " False,\n",
       " False,\n",
       " False,\n",
       " False,\n",
       " False,\n",
       " False,\n",
       " False,\n",
       " False,\n",
       " False,\n",
       " False,\n",
       " False,\n",
       " False,\n",
       " False,\n",
       " False,\n",
       " False,\n",
       " False,\n",
       " False,\n",
       " False,\n",
       " False,\n",
       " False,\n",
       " False,\n",
       " False,\n",
       " False,\n",
       " False,\n",
       " False,\n",
       " False,\n",
       " False,\n",
       " False,\n",
       " False,\n",
       " False,\n",
       " False,\n",
       " False,\n",
       " False,\n",
       " False,\n",
       " False,\n",
       " False,\n",
       " False,\n",
       " False,\n",
       " False,\n",
       " False,\n",
       " False,\n",
       " False,\n",
       " False,\n",
       " False,\n",
       " False,\n",
       " False,\n",
       " False,\n",
       " False,\n",
       " False,\n",
       " False,\n",
       " False,\n",
       " False,\n",
       " False,\n",
       " False,\n",
       " False,\n",
       " False,\n",
       " False,\n",
       " False,\n",
       " False,\n",
       " False,\n",
       " False,\n",
       " False,\n",
       " False,\n",
       " False,\n",
       " False,\n",
       " False,\n",
       " False,\n",
       " False,\n",
       " False,\n",
       " False,\n",
       " False,\n",
       " False,\n",
       " False,\n",
       " False,\n",
       " False,\n",
       " False,\n",
       " False,\n",
       " False,\n",
       " False,\n",
       " False,\n",
       " False,\n",
       " False,\n",
       " False,\n",
       " False,\n",
       " False,\n",
       " False,\n",
       " False,\n",
       " False,\n",
       " False,\n",
       " False,\n",
       " False,\n",
       " False,\n",
       " False,\n",
       " False,\n",
       " False,\n",
       " False,\n",
       " False,\n",
       " False,\n",
       " False,\n",
       " False,\n",
       " False,\n",
       " False,\n",
       " False,\n",
       " False,\n",
       " False,\n",
       " False,\n",
       " False,\n",
       " False,\n",
       " False,\n",
       " False,\n",
       " False,\n",
       " False,\n",
       " False,\n",
       " False,\n",
       " False,\n",
       " False,\n",
       " False,\n",
       " False,\n",
       " False,\n",
       " False,\n",
       " False,\n",
       " False,\n",
       " False,\n",
       " False,\n",
       " False,\n",
       " False,\n",
       " False,\n",
       " False,\n",
       " False,\n",
       " False,\n",
       " False,\n",
       " False,\n",
       " False,\n",
       " False,\n",
       " False,\n",
       " False,\n",
       " False,\n",
       " False,\n",
       " False,\n",
       " False,\n",
       " False,\n",
       " True,\n",
       " False,\n",
       " False,\n",
       " False,\n",
       " False,\n",
       " False,\n",
       " False,\n",
       " False,\n",
       " False,\n",
       " False,\n",
       " False,\n",
       " False,\n",
       " False,\n",
       " False,\n",
       " False,\n",
       " False,\n",
       " False,\n",
       " False,\n",
       " False,\n",
       " False,\n",
       " False,\n",
       " False,\n",
       " False,\n",
       " False,\n",
       " False,\n",
       " False,\n",
       " False,\n",
       " False,\n",
       " False,\n",
       " False,\n",
       " False,\n",
       " False,\n",
       " False,\n",
       " False,\n",
       " False,\n",
       " False,\n",
       " False,\n",
       " False,\n",
       " False,\n",
       " True,\n",
       " False,\n",
       " False,\n",
       " False,\n",
       " False,\n",
       " False,\n",
       " False,\n",
       " False,\n",
       " False,\n",
       " False,\n",
       " False,\n",
       " False,\n",
       " False,\n",
       " False,\n",
       " False,\n",
       " False,\n",
       " False,\n",
       " False,\n",
       " False,\n",
       " False,\n",
       " False,\n",
       " False,\n",
       " False,\n",
       " False,\n",
       " False,\n",
       " False,\n",
       " False,\n",
       " True,\n",
       " False,\n",
       " False,\n",
       " False,\n",
       " False,\n",
       " False,\n",
       " False,\n",
       " False,\n",
       " False,\n",
       " False,\n",
       " False,\n",
       " False,\n",
       " False,\n",
       " False,\n",
       " False,\n",
       " False,\n",
       " False,\n",
       " False,\n",
       " False,\n",
       " False,\n",
       " False,\n",
       " False,\n",
       " False,\n",
       " False,\n",
       " False,\n",
       " False,\n",
       " False,\n",
       " False,\n",
       " False,\n",
       " False,\n",
       " False,\n",
       " False,\n",
       " False,\n",
       " False,\n",
       " False,\n",
       " False,\n",
       " False,\n",
       " False,\n",
       " False,\n",
       " False,\n",
       " False,\n",
       " False,\n",
       " False,\n",
       " False,\n",
       " False,\n",
       " False,\n",
       " False,\n",
       " False,\n",
       " False,\n",
       " False,\n",
       " False,\n",
       " False,\n",
       " False,\n",
       " False,\n",
       " False,\n",
       " False,\n",
       " False,\n",
       " False,\n",
       " False,\n",
       " False,\n",
       " False,\n",
       " False,\n",
       " False,\n",
       " False,\n",
       " False,\n",
       " False,\n",
       " False,\n",
       " False,\n",
       " False,\n",
       " False,\n",
       " False,\n",
       " False,\n",
       " False,\n",
       " False,\n",
       " False,\n",
       " True,\n",
       " False,\n",
       " False,\n",
       " False,\n",
       " False,\n",
       " False,\n",
       " False,\n",
       " False,\n",
       " False,\n",
       " False,\n",
       " False,\n",
       " False,\n",
       " False,\n",
       " False,\n",
       " False,\n",
       " False,\n",
       " False,\n",
       " False,\n",
       " False,\n",
       " False,\n",
       " True,\n",
       " False,\n",
       " False,\n",
       " False,\n",
       " False,\n",
       " False,\n",
       " False,\n",
       " False,\n",
       " False,\n",
       " False,\n",
       " False,\n",
       " False,\n",
       " False,\n",
       " False,\n",
       " False,\n",
       " False,\n",
       " False,\n",
       " False,\n",
       " False,\n",
       " False,\n",
       " False,\n",
       " False,\n",
       " False,\n",
       " False,\n",
       " False,\n",
       " False,\n",
       " False,\n",
       " False,\n",
       " False,\n",
       " False,\n",
       " False,\n",
       " False,\n",
       " False,\n",
       " False,\n",
       " False,\n",
       " False,\n",
       " False,\n",
       " False,\n",
       " False,\n",
       " False,\n",
       " False,\n",
       " False,\n",
       " False,\n",
       " False,\n",
       " False,\n",
       " False,\n",
       " False,\n",
       " False,\n",
       " False,\n",
       " False,\n",
       " False,\n",
       " False,\n",
       " False,\n",
       " False,\n",
       " False,\n",
       " False,\n",
       " False,\n",
       " False,\n",
       " False,\n",
       " True,\n",
       " False,\n",
       " False,\n",
       " False,\n",
       " False,\n",
       " False,\n",
       " False,\n",
       " False,\n",
       " False,\n",
       " False,\n",
       " False,\n",
       " False,\n",
       " False,\n",
       " False,\n",
       " False,\n",
       " False,\n",
       " False,\n",
       " False,\n",
       " False,\n",
       " False,\n",
       " False,\n",
       " False,\n",
       " False,\n",
       " False,\n",
       " False,\n",
       " False,\n",
       " False,\n",
       " False,\n",
       " False,\n",
       " True,\n",
       " False,\n",
       " False,\n",
       " False,\n",
       " False,\n",
       " False,\n",
       " False,\n",
       " False,\n",
       " True,\n",
       " False,\n",
       " False,\n",
       " False,\n",
       " False,\n",
       " False,\n",
       " False,\n",
       " False,\n",
       " False,\n",
       " False,\n",
       " False,\n",
       " False,\n",
       " False,\n",
       " False,\n",
       " False,\n",
       " False,\n",
       " False,\n",
       " False,\n",
       " False,\n",
       " False,\n",
       " False,\n",
       " False,\n",
       " False,\n",
       " False,\n",
       " False,\n",
       " False,\n",
       " False,\n",
       " False,\n",
       " False,\n",
       " False,\n",
       " False,\n",
       " False,\n",
       " False,\n",
       " False,\n",
       " False,\n",
       " False,\n",
       " False,\n",
       " False,\n",
       " False,\n",
       " False,\n",
       " False,\n",
       " False,\n",
       " ...]"
      ]
     },
     "execution_count": 56,
     "metadata": {},
     "output_type": "execute_result"
    }
   ],
   "source": [
    "test = neighbors_indices==PIL_neighbors_indices\n",
    "test = [i[1] for i in test]\n",
    "test"
   ]
  },
  {
   "cell_type": "code",
   "execution_count": null,
   "id": "7b4bfaea",
   "metadata": {},
   "outputs": [
    {
     "data": {
      "text/plain": [
       "97"
      ]
     },
     "execution_count": 57,
     "metadata": {},
     "output_type": "execute_result"
    }
   ],
   "source": [
    "np.sum(test)"
   ]
  },
  {
   "cell_type": "code",
   "execution_count": null,
   "id": "ea76e1fb",
   "metadata": {},
   "outputs": [],
   "source": [
    "import hashlib\n",
    "import pickle"
   ]
  },
  {
   "cell_type": "code",
   "execution_count": null,
   "id": "b3f62862",
   "metadata": {},
   "outputs": [],
   "source": [
    "from umap import UMAP\n",
    "\n",
    "# Create the UMAP reducer instance\n",
    "reducer = UMAP(n_neighbors=15, # default 15, The size of local neighborhood (in terms of number of neighboring sample points) used for manifold approximation.\n",
    "               n_components=2, # default 2, The dimension of the space to embed into.\n",
    "               metric='euclidean', # default 'euclidean', The metric to use to compute distances in high dimensional space.\n",
    "               n_epochs=1000, # default None, The number of training epochs to be used in optimizing the low dimensional embedding. Larger values result in more accurate embeddings. \n",
    "               learning_rate=1.0, # default 1.0, The initial learning rate for the embedding optimization.\n",
    "               init='spectral', # default 'spectral', How to initialize the low dimensional embedding. Options are: {'spectral', 'random', A numpy array of initial embedding positions}.\n",
    "               min_dist=0.1, # default 0.1, The effective minimum distance between embedded points.\n",
    "               spread=1.0, # default 1.0, The effective scale of embedded points. In combination with ``min_dist`` this determines how clustered/clumped the embedded points are.\n",
    "               low_memory=False, # default False, For some datasets the nearest neighbor computation can consume a lot of memory. If you find that UMAP is failing due to memory constraints consider setting this option to True.\n",
    "               set_op_mix_ratio=1.0, # default 1.0, The value of this parameter should be between 0.0 and 1.0; a value of 1.0 will use a pure fuzzy union, while 0.0 will use a pure fuzzy intersection.\n",
    "               local_connectivity=1, # default 1, The local connectivity required -- i.e. the number of nearest neighbors that should be assumed to be connected at a local level.\n",
    "               repulsion_strength=1.0, # default 1.0, Weighting applied to negative samples in low dimensional embedding optimization.\n",
    "               negative_sample_rate=5, # default 5, Increasing this value will result in greater repulsive force being applied, greater optimization cost, but slightly more accuracy.\n",
    "               transform_queue_size=4.0, # default 4.0, Larger values will result in slower performance but more accurate nearest neighbor evaluation.\n",
    "               a=None, # default None, More specific parameters controlling the embedding. If None these values are set automatically as determined by ``min_dist`` and ``spread``.\n",
    "               b=None, # default None, More specific parameters controlling the embedding. If None these values are set automatically as determined by ``min_dist`` and ``spread``.\n",
    "               random_state=random_state, # default: None, If int, random_state is the seed used by the random number generator;\n",
    "               metric_kwds=None, # default None) Arguments to pass on to the metric, such as the ``p`` value for Minkowski distance.\n",
    "               angular_rp_forest=False, # default False, Whether to use an angular random projection forest to initialise the approximate nearest neighbor search.\n",
    "               target_n_neighbors=-1, # default -1, The number of nearest neighbors to use to construct the target simplcial set. If set to -1 use the ``n_neighbors`` value.\n",
    "               #target_metric='categorical', # default 'categorical', The metric used to measure distance for a target array is using supervised dimension reduction. By default this is 'categorical' which will measure distance in terms of whether categories match or are different. \n",
    "               #target_metric_kwds=None, # dict, default None, Keyword argument to pass to the target metric when performing supervised dimension reduction. If None then no arguments are passed on.\n",
    "               #target_weight=0.5, # default 0.5, weighting factor between data topology and target topology.\n",
    "               transform_seed=42, # default 42, Random seed used for the stochastic aspects of the transform operation.\n",
    "               verbose=False, # default False, Controls verbosity of logging.\n",
    "               unique=False, # default False, Controls if the rows of your data should be uniqued before being embedded. \n",
    "              )"
   ]
  },
  {
   "cell_type": "code",
   "execution_count": null,
   "id": "6c265d80",
   "metadata": {},
   "outputs": [],
   "source": [
    "from sklearn.pipeline import Pipeline\n",
    "from sklearn.preprocessing import StandardScaler\n",
    "\n",
    "# Define the pipeline\n",
    "pipeline = Pipeline([\n",
    "    ('umap', reducer),\n",
    "])\n",
    "\n",
    "\n",
    "X = test_embedding_result['item']"
   ]
  },
  {
   "cell_type": "code",
   "execution_count": null,
   "id": "e2d7e56c",
   "metadata": {},
   "outputs": [],
   "source": [
    "pipeline.fit(X)"
   ]
  },
  {
   "cell_type": "code",
   "execution_count": null,
   "id": "17fe1955",
   "metadata": {},
   "outputs": [],
   "source": [
    "test_reduced_embedding = pipeline.transform(X)\n",
    "test_reduced_embedding"
   ]
  },
  {
   "cell_type": "code",
   "execution_count": null,
   "id": "d2725909",
   "metadata": {},
   "outputs": [],
   "source": [
    "test_result_y = [Path(file).parts[-2] for file in test_embedding_result['file']]\n",
    "test_result_y = np.array(test_result_y).astype('float')"
   ]
  },
  {
   "cell_type": "code",
   "execution_count": null,
   "id": "13a1bd8c",
   "metadata": {},
   "outputs": [],
   "source": [
    "embedding_2d_fig = plot_2d(data=test_reduced_embedding,\n",
    "                           color=test_result_y,\n",
    "                           hover_name=test_embedding_result['file'])\n",
    "embedding_2d_fig"
   ]
  }
 ],
 "metadata": {
  "kernelspec": {
   "display_name": "Python 3 (ipykernel)",
   "language": "python",
   "name": "python3"
  },
  "language_info": {
   "codemirror_mode": {
    "name": "ipython",
    "version": 3
   },
   "file_extension": ".py",
   "mimetype": "text/x-python",
   "name": "python",
   "nbconvert_exporter": "python",
   "pygments_lexer": "ipython3",
   "version": "3.10.12"
  }
 },
 "nbformat": 4,
 "nbformat_minor": 5
}
