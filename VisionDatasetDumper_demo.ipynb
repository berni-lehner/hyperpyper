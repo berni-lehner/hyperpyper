{
 "cells": [
  {
   "cell_type": "markdown",
   "id": "b5bbc5b3",
   "metadata": {},
   "source": [
    "# MultiImagePlotter Demo with CIFAR10\n",
    "For this, we need to have CIFAR10 data organized in subfolders (one for each class). We can then use the standard Aggregator, which returns an image and the corresponding filename."
   ]
  },
  {
   "cell_type": "markdown",
   "id": "118f716d",
   "metadata": {},
   "source": [
    "# Prerequisites"
   ]
  },
  {
   "cell_type": "code",
   "execution_count": 1,
   "id": "cf086772",
   "metadata": {},
   "outputs": [],
   "source": [
    "import numpy as np\n",
    "from pathlib import Path\n",
    "from collections import Counter\n",
    "import random\n",
    "\n",
    "import torch\n",
    "from torchvision.datasets import CIFAR10, SVHN, MNIST, EMNIST\n",
    "from torchvision.transforms import Compose, ToTensor\n",
    "\n",
    "from hyperpyper.utils import DataSetDumper, VisionDatasetDumper\n",
    "from hyperpyper.utils import FolderScanner as fs\n",
    "from hyperpyper.transforms import PILTranspose\n"
   ]
  },
  {
   "cell_type": "code",
   "execution_count": 2,
   "id": "4e52b0a8",
   "metadata": {},
   "outputs": [],
   "source": [
    "ROOT_PATH = Path.home() / \"Downloads\" / \"data\"\n",
    "\n",
    "DATA_PATH = ROOT_PATH / \"CIFAR10\"\n",
    "\n",
    "DATA_PATH_TEST = Path(DATA_PATH, \"test\")\n",
    "DATA_PATH_TRAIN = Path(DATA_PATH, \"train\")"
   ]
  },
  {
   "cell_type": "markdown",
   "id": "aeef93ba",
   "metadata": {},
   "source": [
    "## Create CIFAR10 dataset organized in subfolders indicating class\n",
    "The VisionDatasetDumper handles the download and the creation of a folder structure where images are stored. They can then be used as the starting point for experiments. We only need the dataset returned by the VisionDatasetDumper to extract the class labels to be able to match them with class indices."
   ]
  },
  {
   "cell_type": "code",
   "execution_count": 3,
   "id": "d117863e",
   "metadata": {},
   "outputs": [
    {
     "name": "stdout",
     "output_type": "stream",
     "text": [
      "Downloading https://www.cs.toronto.edu/~kriz/cifar-10-python.tar.gz to C:\\Users\\bernh\\Downloads\\data\\CIFAR10\\cifar-10-python.tar.gz\n"
     ]
    },
    {
     "name": "stderr",
     "output_type": "stream",
     "text": [
      "100%|██████████| 170498071/170498071 [00:14<00:00, 12153518.62it/s]\n"
     ]
    },
    {
     "name": "stdout",
     "output_type": "stream",
     "text": [
      "Extracting C:\\Users\\bernh\\Downloads\\data\\CIFAR10\\cifar-10-python.tar.gz to C:\\Users\\bernh\\Downloads\\data\\CIFAR10\n",
      "ToTensor()\n",
      "dict_keys([6, 9, 4, 1, 2, 7, 8, 3, 5, 0])\n"
     ]
    }
   ],
   "source": [
    "train_dataset = VisionDatasetDumper(CIFAR10, root=DATA_PATH, dst=DATA_PATH_TRAIN, train=True).dump()"
   ]
  },
  {
   "cell_type": "markdown",
   "id": "6ed22929",
   "metadata": {},
   "source": [
    "### Retrieve a list of files"
   ]
  },
  {
   "cell_type": "code",
   "execution_count": 4,
   "id": "68fb13b2",
   "metadata": {},
   "outputs": [
    {
     "data": {
      "text/plain": [
       "[WindowsPath('C:/Users/bernh/Downloads/data/CIFAR10/train/9/24693.png'),\n",
       " WindowsPath('C:/Users/bernh/Downloads/data/CIFAR10/train/7/35924.png'),\n",
       " WindowsPath('C:/Users/bernh/Downloads/data/CIFAR10/train/5/28336.png'),\n",
       " WindowsPath('C:/Users/bernh/Downloads/data/CIFAR10/train/3/14018.png'),\n",
       " WindowsPath('C:/Users/bernh/Downloads/data/CIFAR10/train/0/49615.png')]"
      ]
     },
     "execution_count": 4,
     "metadata": {},
     "output_type": "execute_result"
    }
   ],
   "source": [
    "train_files = fs.get_files(DATA_PATH_TRAIN, extensions='.png', recursive=True)\n",
    "\n",
    "# Select some random items\n",
    "selected_files = random.sample(train_files, 5)\n",
    "selected_files"
   ]
  },
  {
   "cell_type": "code",
   "execution_count": 5,
   "id": "21ce922c",
   "metadata": {},
   "outputs": [
    {
     "name": "stdout",
     "output_type": "stream",
     "text": [
      "Downloading http://ufldl.stanford.edu/housenumbers/train_32x32.mat to C:\\Users\\bernh\\Downloads\\data\\SVHN\\train_32x32.mat\n"
     ]
    },
    {
     "name": "stderr",
     "output_type": "stream",
     "text": [
      "100%|██████████| 182040794/182040794 [00:39<00:00, 4595586.30it/s]\n"
     ]
    },
    {
     "name": "stdout",
     "output_type": "stream",
     "text": [
      "ToTensor()\n",
      "dict_keys([1, 9, 2, 3, 5, 8, 7, 4, 6, 0])\n"
     ]
    }
   ],
   "source": [
    "DATA_PATH = ROOT_PATH / \"SVHN\"\n",
    "\n",
    "DATA_PATH_TEST = Path(DATA_PATH, \"test\")\n",
    "DATA_PATH_TRAIN = Path(DATA_PATH, \"train\")\n",
    "\n",
    "train_dataset = VisionDatasetDumper(SVHN, root=DATA_PATH, dst=DATA_PATH_TRAIN, train=True).dump()"
   ]
  },
  {
   "cell_type": "code",
   "execution_count": 6,
   "id": "cb32fd6f",
   "metadata": {},
   "outputs": [
    {
     "name": "stdout",
     "output_type": "stream",
     "text": [
      "Downloading http://yann.lecun.com/exdb/mnist/train-images-idx3-ubyte.gz\n",
      "Downloading http://yann.lecun.com/exdb/mnist/train-images-idx3-ubyte.gz to C:\\Users\\bernh\\Downloads\\data\\MNIST\\MNIST\\raw\\train-images-idx3-ubyte.gz\n"
     ]
    },
    {
     "name": "stderr",
     "output_type": "stream",
     "text": [
      "100%|██████████| 9912422/9912422 [00:00<00:00, 11848614.84it/s]\n"
     ]
    },
    {
     "name": "stdout",
     "output_type": "stream",
     "text": [
      "Extracting C:\\Users\\bernh\\Downloads\\data\\MNIST\\MNIST\\raw\\train-images-idx3-ubyte.gz to C:\\Users\\bernh\\Downloads\\data\\MNIST\\MNIST\\raw\n",
      "\n",
      "Downloading http://yann.lecun.com/exdb/mnist/train-labels-idx1-ubyte.gz\n",
      "Downloading http://yann.lecun.com/exdb/mnist/train-labels-idx1-ubyte.gz to C:\\Users\\bernh\\Downloads\\data\\MNIST\\MNIST\\raw\\train-labels-idx1-ubyte.gz\n"
     ]
    },
    {
     "name": "stderr",
     "output_type": "stream",
     "text": [
      "100%|██████████| 28881/28881 [00:00<00:00, 1930449.30it/s]\n"
     ]
    },
    {
     "name": "stdout",
     "output_type": "stream",
     "text": [
      "Extracting C:\\Users\\bernh\\Downloads\\data\\MNIST\\MNIST\\raw\\train-labels-idx1-ubyte.gz to C:\\Users\\bernh\\Downloads\\data\\MNIST\\MNIST\\raw\n",
      "\n",
      "Downloading http://yann.lecun.com/exdb/mnist/t10k-images-idx3-ubyte.gz\n",
      "Downloading http://yann.lecun.com/exdb/mnist/t10k-images-idx3-ubyte.gz to C:\\Users\\bernh\\Downloads\\data\\MNIST\\MNIST\\raw\\t10k-images-idx3-ubyte.gz\n"
     ]
    },
    {
     "name": "stderr",
     "output_type": "stream",
     "text": [
      "100%|██████████| 1648877/1648877 [00:00<00:00, 9184170.20it/s]\n"
     ]
    },
    {
     "name": "stdout",
     "output_type": "stream",
     "text": [
      "Extracting C:\\Users\\bernh\\Downloads\\data\\MNIST\\MNIST\\raw\\t10k-images-idx3-ubyte.gz to C:\\Users\\bernh\\Downloads\\data\\MNIST\\MNIST\\raw\n",
      "\n",
      "Downloading http://yann.lecun.com/exdb/mnist/t10k-labels-idx1-ubyte.gz\n",
      "Downloading http://yann.lecun.com/exdb/mnist/t10k-labels-idx1-ubyte.gz to C:\\Users\\bernh\\Downloads\\data\\MNIST\\MNIST\\raw\\t10k-labels-idx1-ubyte.gz\n"
     ]
    },
    {
     "name": "stderr",
     "output_type": "stream",
     "text": [
      "100%|██████████| 4542/4542 [00:00<00:00, 4552097.67it/s]\n"
     ]
    },
    {
     "name": "stdout",
     "output_type": "stream",
     "text": [
      "Extracting C:\\Users\\bernh\\Downloads\\data\\MNIST\\MNIST\\raw\\t10k-labels-idx1-ubyte.gz to C:\\Users\\bernh\\Downloads\\data\\MNIST\\MNIST\\raw\n",
      "\n",
      "ToTensor()\n",
      "dict_keys([5, 0, 4, 1, 9, 2, 3, 6, 7, 8])\n"
     ]
    }
   ],
   "source": [
    "DATA_PATH = ROOT_PATH / \"MNIST\"\n",
    "\n",
    "DATA_PATH_TEST = Path(DATA_PATH, \"test\")\n",
    "DATA_PATH_TRAIN = Path(DATA_PATH, \"train\")\n",
    "\n",
    "train_dataset = VisionDatasetDumper(MNIST, root=DATA_PATH, dst=DATA_PATH_TRAIN, train=True).dump()"
   ]
  },
  {
   "cell_type": "code",
   "execution_count": 7,
   "id": "eea8fde5",
   "metadata": {},
   "outputs": [
    {
     "name": "stdout",
     "output_type": "stream",
     "text": [
      "Downloading https://www.itl.nist.gov/iaui/vip/cs_links/EMNIST/gzip.zip to C:\\Users\\bernh\\Downloads\\data\\EMNIST\\EMNIST\\raw\\gzip.zip\n"
     ]
    },
    {
     "name": "stderr",
     "output_type": "stream",
     "text": [
      "100%|██████████| 561753746/561753746 [00:45<00:00, 12408230.77it/s]\n"
     ]
    },
    {
     "name": "stdout",
     "output_type": "stream",
     "text": [
      "Extracting C:\\Users\\bernh\\Downloads\\data\\EMNIST\\EMNIST\\raw\\gzip.zip to C:\\Users\\bernh\\Downloads\\data\\EMNIST\\EMNIST\\raw\n",
      "Compose(\n",
      "    PILTranspose()\n",
      "    ToTensor()\n",
      ")\n",
      "dict_keys([23, 7, 16, 15, 17, 13, 11, 22, 24, 10, 14, 18, 21, 26, 19, 5, 2, 25, 9, 12, 1, 8, 4, 3, 20, 6])\n"
     ]
    }
   ],
   "source": [
    "DATA_PATH = ROOT_PATH / \"EMNIST\"\n",
    "\n",
    "DATA_PATH_TEST = Path(DATA_PATH, \"test\")\n",
    "DATA_PATH_TRAIN = Path(DATA_PATH, \"train\")\n",
    "\n",
    "transform = Compose([\n",
    "    PILTranspose(),\n",
    "    ToTensor(),\n",
    "])\n",
    "\n",
    "train_dataset = VisionDatasetDumper(EMNIST, root=DATA_PATH, dst=DATA_PATH_TRAIN, split='letters', train=True, transform=transform).dump()"
   ]
  },
  {
   "cell_type": "code",
   "execution_count": 8,
   "id": "05b4bbcb",
   "metadata": {},
   "outputs": [
    {
     "data": {
      "text/plain": [
       "Dataset EMNIST\n",
       "    Number of datapoints: 124800\n",
       "    Root location: C:\\Users\\bernh\\Downloads\\data\\EMNIST\n",
       "    Split: Train\n",
       "    StandardTransform\n",
       "Transform: Compose(\n",
       "               PILTranspose()\n",
       "               ToTensor()\n",
       "           )"
      ]
     },
     "execution_count": 8,
     "metadata": {},
     "output_type": "execute_result"
    }
   ],
   "source": [
    "train_dataset"
   ]
  },
  {
   "cell_type": "code",
   "execution_count": null,
   "id": "fb3cab21",
   "metadata": {},
   "outputs": [],
   "source": []
  }
 ],
 "metadata": {
  "kernelspec": {
   "display_name": "Python 3 (ipykernel)",
   "language": "python",
   "name": "python3"
  },
  "language_info": {
   "codemirror_mode": {
    "name": "ipython",
    "version": 3
   },
   "file_extension": ".py",
   "mimetype": "text/x-python",
   "name": "python",
   "nbconvert_exporter": "python",
   "pygments_lexer": "ipython3",
   "version": "3.10.13"
  }
 },
 "nbformat": 4,
 "nbformat_minor": 5
}
