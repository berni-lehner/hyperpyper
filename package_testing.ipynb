{
 "cells": [
  {
   "cell_type": "code",
   "execution_count": 1,
   "metadata": {},
   "outputs": [],
   "source": [
    "from transights.projections import RandomProjection\n",
    "from transights.utils import Pickler as p"
   ]
  },
  {
   "cell_type": "code",
   "execution_count": 2,
   "metadata": {},
   "outputs": [],
   "source": [
    "from transights.aggregator import DataAggregator\n",
    "from transights.aggregator import DataLoaderAggregator"
   ]
  },
  {
   "cell_type": "code",
   "execution_count": 3,
   "metadata": {},
   "outputs": [],
   "source": [
    "from transights.transforms import ProjectTransform"
   ]
  },
  {
   "cell_type": "code",
   "execution_count": 4,
   "metadata": {},
   "outputs": [
    {
     "name": "stdout",
     "output_type": "stream",
     "text": [
      "aggregator\n",
      "dataset\n",
      "projections\n",
      "transforms\n",
      "utils\n"
     ]
    }
   ],
   "source": [
    "import pkgutil\n",
    "\n",
    "def list_modules(package_name):\n",
    "    package = __import__(package_name)\n",
    "    for _, module_name, _ in pkgutil.iter_modules(package.__path__):\n",
    "        print(module_name)\n",
    "\n",
    "# Replace 'mypackage' with the name of your package\n",
    "list_modules('transights')"
   ]
  }
 ],
 "metadata": {
  "kernelspec": {
   "display_name": "Python 3 (ipykernel)",
   "language": "python",
   "name": "python3"
  },
  "language_info": {
   "codemirror_mode": {
    "name": "ipython",
    "version": 3
   },
   "file_extension": ".py",
   "mimetype": "text/x-python",
   "name": "python",
   "nbconvert_exporter": "python",
   "pygments_lexer": "ipython3",
   "version": "3.9.12"
  }
 },
 "nbformat": 4,
 "nbformat_minor": 4
}
