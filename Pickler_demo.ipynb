{
 "cells": [
  {
   "cell_type": "markdown",
   "metadata": {},
   "source": [
    "# Pickler Demo\n",
    "The `Pickler` is a utility class for saving and loading data using pickle serialization."
   ]
  },
  {
   "cell_type": "code",
   "execution_count": 1,
   "metadata": {},
   "outputs": [
    {
     "name": "stdout",
     "output_type": "stream",
     "text": [
      "{'name': 'John', 'age': 30, 'city': 'New York'}\n"
     ]
    }
   ],
   "source": [
    "from hyperpyper.utils import Pickler\n",
    "\n",
    "# Saving Data Using Pickler\n",
    "data_to_save = {'name': 'John', 'age': 30, 'city': 'New York'}\n",
    "Pickler.save_data(data_to_save, 'data.pkl')\n",
    "\n",
    "# Loading Data Using Pickler\n",
    "loaded_data = Pickler.load_data('data.pkl')\n",
    "print(loaded_data)"
   ]
  }
 ],
 "metadata": {
  "kernelspec": {
   "display_name": "py310",
   "language": "python",
   "name": "python3"
  },
  "language_info": {
   "codemirror_mode": {
    "name": "ipython",
    "version": 3
   },
   "file_extension": ".py",
   "mimetype": "text/x-python",
   "name": "python",
   "nbconvert_exporter": "python",
   "pygments_lexer": "ipython3",
   "version": "3.10.12"
  }
 },
 "nbformat": 4,
 "nbformat_minor": 2
}
