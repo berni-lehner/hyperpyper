{
 "cells": [
  {
   "cell_type": "markdown",
   "id": "b5bbc5b3",
   "metadata": {},
   "source": [
    "# DataSetDumper Demo\n",
    "The `DataSetDumper` is used to serialize a DataSet automatically in folders that correspond to the class label.\n",
    "This is used to be able to create a list of filenames that are the starting point of the workflow with pipelines."
   ]
  },
  {
   "cell_type": "markdown",
   "id": "118f716d",
   "metadata": {},
   "source": [
    "# Prerequisites"
   ]
  },
  {
   "cell_type": "code",
   "execution_count": 1,
   "id": "cf086772",
   "metadata": {},
   "outputs": [],
   "source": [
    "import numpy as np\n",
    "from pathlib import Path\n",
    "from collections import Counter\n",
    "\n",
    "import torch\n",
    "from torch.utils.data import DataLoader\n",
    "\n",
    "import torchvision\n",
    "from torchvision.datasets import CIFAR10\n",
    "from torchvision.transforms import Compose, ToTensor\n",
    "\n",
    "\n",
    "from transights.utils import DataSetDumper\n",
    "from transights.utils import FolderScanner as fs\n",
    "\n",
    "\n",
    "\n",
    "random_state = 23"
   ]
  },
  {
   "cell_type": "code",
   "execution_count": 2,
   "id": "bf6b9a4d",
   "metadata": {},
   "outputs": [
    {
     "name": "stdout",
     "output_type": "stream",
     "text": [
      "Running on device: CUDA\n"
     ]
    }
   ],
   "source": [
    "DEVICE = \"cuda\" if torch.cuda.is_available() else \"cpu\"\n",
    "print(\"Running on device:\", DEVICE.upper())"
   ]
  },
  {
   "cell_type": "code",
   "execution_count": 3,
   "id": "4e52b0a8",
   "metadata": {},
   "outputs": [
    {
     "data": {
      "text/plain": [
       "WindowsPath('C:/Users/bernh/Downloads/data/CIFAR10/test')"
      ]
     },
     "execution_count": 3,
     "metadata": {},
     "output_type": "execute_result"
    }
   ],
   "source": [
    "ROOT_PATH = Path.home() / \"Downloads\" / \"data\"\n",
    "\n",
    "DATA_PATH = ROOT_PATH / \"CIFAR10\"\n",
    "\n",
    "DATA_PATH_TEST = Path(DATA_PATH, \"test\")\n",
    "DATA_PATH_TEST"
   ]
  },
  {
   "cell_type": "code",
   "execution_count": 5,
   "id": "4300f7f9",
   "metadata": {},
   "outputs": [],
   "source": [
    "import ssl\n",
    "# this prevents the following error when trying to download the dataset:\n",
    "# SSLCertVerificationError: [SSL: CERTIFICATE_VERIFY_FAILED] certificate verify failed: certificate has expired (_ssl.c:1007)\n",
    "ssl._create_default_https_context = ssl._create_unverified_context"
   ]
  },
  {
   "cell_type": "markdown",
   "id": "aeef93ba",
   "metadata": {},
   "source": [
    "## Create CIFAR10 dataset organized in subfolders indicating class\n",
    "Notice, that `torchvision` only provides us with a DataSet class, but not with image files organized in folders that correspond to their class label.\n",
    "With `DataSetDumper`, this is taken care of automatically.\n",
    "With a simple check if the result directory already exists, we can avoid to unnecessarily create the image files multiple times."
   ]
  },
  {
   "cell_type": "code",
   "execution_count": 6,
   "id": "7c19474e",
   "metadata": {},
   "outputs": [],
   "source": [
    "transform = Compose(\n",
    "    [\n",
    "        ToTensor(),\n",
    "    ]\n",
    ")"
   ]
  },
  {
   "cell_type": "code",
   "execution_count": 7,
   "id": "54876fd6",
   "metadata": {},
   "outputs": [
    {
     "name": "stdout",
     "output_type": "stream",
     "text": [
      "Files already downloaded and verified\n"
     ]
    }
   ],
   "source": [
    "dataset = CIFAR10(root=DATA_PATH, train=False, transform=transform, download=True)\n",
    "\n",
    "if not DATA_PATH_TEST.exists():\n",
    "    DataSetDumper(dataset, DATA_PATH_TEST).dump()"
   ]
  },
  {
   "cell_type": "markdown",
   "id": "9ddfa49a",
   "metadata": {},
   "source": [
    "### Take a look at the results"
   ]
  },
  {
   "cell_type": "code",
   "execution_count": 10,
   "id": "68fb13b2",
   "metadata": {},
   "outputs": [
    {
     "data": {
      "text/plain": [
       "10000"
      ]
     },
     "execution_count": 10,
     "metadata": {},
     "output_type": "execute_result"
    }
   ],
   "source": [
    "files = fs.get_files(DATA_PATH_TEST, extensions='.png', recursive=True)\n",
    "len(files)"
   ]
  },
  {
   "cell_type": "code",
   "execution_count": 11,
   "id": "4676393d",
   "metadata": {},
   "outputs": [
    {
     "data": {
      "text/plain": [
       "WindowsPath('C:/Users/bernh/Downloads/data/CIFAR10/test/0/10.png')"
      ]
     },
     "execution_count": 11,
     "metadata": {},
     "output_type": "execute_result"
    }
   ],
   "source": [
    "files[0]"
   ]
  }
 ],
 "metadata": {
  "kernelspec": {
   "display_name": "Python 3 (ipykernel)",
   "language": "python",
   "name": "python3"
  },
  "language_info": {
   "codemirror_mode": {
    "name": "ipython",
    "version": 3
   },
   "file_extension": ".py",
   "mimetype": "text/x-python",
   "name": "python",
   "nbconvert_exporter": "python",
   "pygments_lexer": "ipython3",
   "version": "3.10.12"
  }
 },
 "nbformat": 4,
 "nbformat_minor": 5
}
