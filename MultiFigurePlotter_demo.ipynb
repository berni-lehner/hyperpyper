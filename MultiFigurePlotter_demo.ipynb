{
 "cells": [
  {
   "cell_type": "markdown",
   "metadata": {},
   "source": [
    "# MultiFigurePlotter \n",
    "Draws the figures contained in a list in corresponding subplots."
   ]
  },
  {
   "cell_type": "code",
   "execution_count": null,
   "metadata": {},
   "outputs": [],
   "source": [
    "import matplotlib.pyplot as plt\n",
    "import numpy as np\n",
    "\n",
    "from hyperpyper.utils import MultiFigurePlotter"
   ]
  },
  {
   "cell_type": "code",
   "execution_count": null,
   "metadata": {},
   "outputs": [],
   "source": [
    "def generate_figures():\n",
    "    \"\"\"\n",
    "    Generates several figures and stores each figure handle in a list.\n",
    "    \"\"\"\n",
    "    figures = []\n",
    "\n",
    "    # Figure 1: Histogram\n",
    "    fig1 = plt.figure()\n",
    "    data = np.random.normal(loc=0, scale=1, size=1000)\n",
    "    plt.hist(data, bins=30, color='blue', alpha=0.5)\n",
    "    plt.title(\"Histogram\", fontsize=20, fontweight='bold', fontfamily='serif')\n",
    "    plt.xlabel(\"Value\", fontsize=12, fontweight='bold', color='red', fontfamily='Courier New')\n",
    "    plt.ylabel(\"Frequency\")\n",
    "    plt.gca().set_yticklabels(plt.gca().get_yticklabels(), fontsize=14, color='blue', fontfamily='Arial')\n",
    "    # Set figure background color\n",
    "    fig1.get_axes()[0].set_facecolor('gray')\n",
    "    figures.append(fig1)\n",
    "\n",
    "    # RGB Image with random content and frame\n",
    "    fig2 = plt.figure()\n",
    "    image_data = np.random.rand(100, 100, 3)\n",
    "    plt.imshow(image_data)\n",
    "    plt.gca().tick_params(left=False, right=False, labelleft=False, labelbottom=False, bottom=False)\n",
    "    plt.title(\"Random RGB Image\")\n",
    "    figures.append(fig2)\n",
    "\n",
    "    # Grayscale Image with random content without frame\n",
    "    fig3 = plt.figure()\n",
    "    image_data = np.random.rand(100, 100)\n",
    "    plt.imshow(image_data, cmap='gray')\n",
    "    plt.gca().tick_params(left=False, right=False, labelleft=False, labelbottom=False, bottom=False)\n",
    "    plt.gca().set_axis_off()\n",
    "    plt.title(\"Random Grayscale Image\")\n",
    "    figures.append(fig3)\n",
    "\n",
    "    # Line plots and some text\n",
    "    fig4 = plt.figure()\n",
    "    x = np.linspace(0, 10, 100)\n",
    "    y = np.sin(x)\n",
    "    plt.plot(x, y, label='Sin(x)')\n",
    "    plt.axvline(x=5, color='red', linestyle='-', label='axvline')\n",
    "    plt.axhline(y=1.2, color='blue', linestyle='--', label='axhline')\n",
    "    plt.plot([6, 6], [0, 1], color='green', linestyle='-.', label='plot hor.')\n",
    "    plt.plot([-1, 0, 1], [-1, 0, 1], color='black', linestyle=':', label='plot diag.')\n",
    "    plt.text(2., 0., 'Bold Blue Text', color='blue', fontsize=12, fontweight='bold', ha='center', va='center')\n",
    "    plt.title(\"Line Plots with Legend\")\n",
    "    plt.xlabel(\"X\")\n",
    "    plt.ylabel(\"Y\")\n",
    "    plt.legend()\n",
    "\n",
    "    figures.append(fig4)\n",
    "\n",
    "    # Line plot with three lines\n",
    "    fig5 = plt.figure()\n",
    "    x = np.linspace(0, 10, 100)\n",
    "    y1 = np.sin(x)\n",
    "    y2 = np.cos(x)\n",
    "    plt.scatter(x, y1, label='Sin(x)')\n",
    "    plt.scatter(x, y2, label='Cos(x)')\n",
    "    plt.title(\"Scatter Plots without Legend\")\n",
    "    plt.xlabel(\"X\")\n",
    "    plt.ylabel(\"Y\")\n",
    "    figures.append(fig5)\n",
    "\n",
    "    return figures"
   ]
  },
  {
   "cell_type": "code",
   "execution_count": null,
   "metadata": {},
   "outputs": [],
   "source": [
    "generated_figures = generate_figures()"
   ]
  },
  {
   "cell_type": "code",
   "execution_count": null,
   "metadata": {},
   "outputs": [],
   "source": [
    "multifig = MultiFigurePlotter(generated_figures[:], figsize=(10,8)).plot()"
   ]
  },
  {
   "cell_type": "code",
   "execution_count": null,
   "metadata": {},
   "outputs": [],
   "source": [
    "multifig = MultiFigurePlotter(generated_figures, figsize=(24,5), layout='vector').plot()"
   ]
  },
  {
   "cell_type": "code",
   "execution_count": null,
   "metadata": {},
   "outputs": [],
   "source": [
    "multifig = MultiFigurePlotter(generated_figures, figsize=(6,14), layout='vector', rotate=True).plot()"
   ]
  },
  {
   "cell_type": "code",
   "execution_count": null,
   "metadata": {},
   "outputs": [],
   "source": [
    "multifig = MultiFigurePlotter(generated_figures, figsize=(24,5), layout='vector',\n",
    "    suptitle=\"Super Title\", suptitle_fontsize=24, suptitle_fontweight='bold').plot()"
   ]
  }
 ],
 "metadata": {
  "kernelspec": {
   "display_name": "py310ml",
   "language": "python",
   "name": "python3"
  },
  "language_info": {
   "codemirror_mode": {
    "name": "ipython",
    "version": 3
   },
   "file_extension": ".py",
   "mimetype": "text/x-python",
   "name": "python",
   "nbconvert_exporter": "python",
   "pygments_lexer": "ipython3",
   "version": "3.10.13"
  }
 },
 "nbformat": 4,
 "nbformat_minor": 2
}
